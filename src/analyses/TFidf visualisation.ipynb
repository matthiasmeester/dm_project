{
 "cells": [
  {
   "cell_type": "code",
   "execution_count": 1,
   "outputs": [],
   "source": [
    "import math\n",
    "from collections import Counter\n",
    "\n",
    "import numpy as np\n",
    "import pandas as pd\n",
    "import spacy\n",
    "from tqdm.notebook import tqdm\n",
    "import os\n",
    "\n",
    "nlp = spacy.load(\"nl_core_news_sm\")\n",
    "from util.conferences import get_conference_data, correct_cwd"
   ],
   "metadata": {
    "collapsed": false,
    "pycharm": {
     "name": "#%%\n"
    }
   }
  },
  {
   "cell_type": "code",
   "execution_count": null,
   "outputs": [],
   "source": [
    "TF_IDF_CSV_PATH = 'output/tf_idf.csv'\n",
    "CORPUS_PATH = 'output/corpus.csv'"
   ],
   "metadata": {
    "collapsed": false,
    "pycharm": {
     "name": "#%%\n"
    }
   }
  },
  {
   "cell_type": "code",
   "execution_count": 2,
   "outputs": [],
   "source": [
    "correct_cwd()"
   ],
   "metadata": {
    "collapsed": false,
    "pycharm": {
     "name": "#%%\n"
    }
   }
  },
  {
   "cell_type": "code",
   "execution_count": 3,
   "metadata": {
    "collapsed": true,
    "pycharm": {
     "name": "#%%\n"
    }
   },
   "outputs": [],
   "source": [
    "def calculate_tfidf(text_by_speaker: tuple) -> tuple:\n",
    "    \"\"\"\n",
    "\n",
    "    Calculates the tfidf per speaker per conference\n",
    "\n",
    "    :return: a tuple containing Rutte texts and De Jonge texts respectively\n",
    "\n",
    "    \"\"\"\n",
    "    corpus = pd.DataFrame(columns=['words'])\n",
    "    nr_of_conferences = len(text_by_speaker[0])\n",
    "\n",
    "    # Create Dataframe with Word Counts\n",
    "    for i in tqdm(range(nr_of_conferences)):\n",
    "        full_conference_text = text_by_speaker[0][i]['text'] + text_by_speaker[1][i]['text']\n",
    "        words = [token.lemma_ for token in nlp(full_conference_text) if\n",
    "                 not (token.is_stop or token.is_punct or token.is_space)]\n",
    "\n",
    "        word_count = Counter(words)\n",
    "\n",
    "        new_words = list(set(word_count.keys()) - set(corpus['words']))\n",
    "        corpus = corpus.append(pd.DataFrame({'words': new_words}), ignore_index=True)\n",
    "\n",
    "        wordlist = []\n",
    "        for word in corpus['words']:\n",
    "            if word in word_count.keys():\n",
    "                wordlist.append(word_count[word])\n",
    "            else:\n",
    "                wordlist.append(0)\n",
    "\n",
    "        corpus[text_by_speaker[0][i]['date']] = wordlist\n",
    "\n",
    "    corpus.set_index('words', inplace=True)\n",
    "    corpus.fillna(0, inplace=True)\n",
    "\n",
    "    corpus.to_csv(CORPUS_PATH)\n",
    "\n",
    "    tf_idf = {k: [] for k in corpus.columns}\n",
    "\n",
    "    # Create Dataframe with Relative Word Frequencies\n",
    "    for index, row in tqdm(corpus.iterrows(), total=len(corpus)):\n",
    "        docs_with = np.count_nonzero(row)\n",
    "\n",
    "        for colname, count in row.items():\n",
    "            total_uniques = np.count_nonzero(corpus[colname])\n",
    "            value = (count / total_uniques) * math.log(len(corpus.columns) / docs_with)\n",
    "\n",
    "            tf_idf[colname].append(value)\n",
    "\n",
    "    tf_idf_df = pd.DataFrame.from_dict(tf_idf)\n",
    "    tf_idf_df.set_index(corpus.index, inplace=True)\n",
    "\n",
    "    tf_idf_df.to_csv(TF_IDF_CSV_PATH)\n",
    "\n",
    "    print(\"Saved results to 'output/corpus.csv' and 'output/tf_idf.csv'\")\n"
   ]
  },
  {
   "cell_type": "code",
   "execution_count": 4,
   "outputs": [],
   "source": [
    "if not os.path.isfile(TF_IDF_CSV_PATH):\n",
    "    calculate_tfidf(get_conference_data())"
   ],
   "metadata": {
    "collapsed": false,
    "pycharm": {
     "name": "#%%\n"
    }
   }
  },
  {
   "cell_type": "code",
   "execution_count": null,
   "outputs": [],
   "source": [
    "tf_idf_matrix = pd.read_csv(TF_IDF_CSV_PATH)"
   ],
   "metadata": {
    "collapsed": false,
    "pycharm": {
     "name": "#%%\n"
    }
   }
  }
 ],
 "metadata": {
  "kernelspec": {
   "name": "python3",
   "language": "python",
   "display_name": "Python 3 (ipykernel)"
  },
  "language_info": {
   "codemirror_mode": {
    "name": "ipython",
    "version": 2
   },
   "file_extension": ".py",
   "mimetype": "text/x-python",
   "name": "python",
   "nbconvert_exporter": "python",
   "pygments_lexer": "ipython2",
   "version": "2.7.6"
  }
 },
 "nbformat": 4,
 "nbformat_minor": 0
}