{
 "cells": [
  {
   "cell_type": "code",
   "execution_count": 1,
   "id": "b60bf11e",
   "metadata": {},
   "outputs": [],
   "source": [
    "import pandas as pd\n",
    "import spacy\n",
    "# nlp = spacy.load(\"nl_core_news_sm\")\n",
    "nlp = spacy.load(\"nl_core_news_lg\")\n",
    "from tqdm.notebook import tqdm\n",
    "from wordfreq import word_frequency, top_n_list\n",
    "from pprint import pprint"
   ]
  },
  {
   "cell_type": "markdown",
   "id": "315e916d",
   "metadata": {},
   "source": [
    "# Load Data"
   ]
  },
  {
   "cell_type": "code",
   "execution_count": 4,
   "id": "1bbd9743",
   "metadata": {},
   "outputs": [],
   "source": [
    "CONFERENCES_CORPUS_PATH = '../output/CONFERENCES_corpus_without_stopwords.csv'\n",
    "NOS_CORPUS_PATH = '../output/NOS_corpus_5000_articles_without_stopwords.csv'"
   ]
  },
  {
   "cell_type": "code",
   "execution_count": 15,
   "id": "7a46f222",
   "metadata": {},
   "outputs": [],
   "source": [
    "CONFERENCES_CORPUS_DF = pd.read_csv(CONFERENCES_CORPUS_PATH)\n",
    "CONFERENCES_CORPUS_DF.set_index('word', inplace=True)\n",
    "\n",
    "NOS_CORPUS_DF = pd.read_csv(NOS_CORPUS_PATH)\n",
    "NOS_CORPUS_DF.set_index('word', inplace=True)"
   ]
  },
  {
   "cell_type": "code",
   "execution_count": 19,
   "id": "bfa66236",
   "metadata": {
    "scrolled": true
   },
   "outputs": [
    {
     "name": "stdout",
     "output_type": "stream",
     "text": [
      "60 Conferences were taken into account.\n"
     ]
    }
   ],
   "source": [
    "print(f'{len(CONFERENCES_CORPUS_DF.columns)} Conferences were taken into account.')"
   ]
  },
  {
   "cell_type": "code",
   "execution_count": 156,
   "id": "86b5c7a6",
   "metadata": {},
   "outputs": [],
   "source": [
    "def process_frequency_list(text, include_stopwords):\n",
    "    return [token.lemma_ for token in nlp(text) if ((not include_stopwords and not token.is_stop) or not token.is_punct or not token.is_space)]\n",
    "\n",
    "\n",
    "def percentage_of_basic_words(corpus, nr_of_words, include_stopwords=False):\n",
    "    if not isinstance(nr_of_words, list):\n",
    "        nr_of_words = list(nr_of_words)\n",
    "   \n",
    "    freqworddict = {str(k): [] for k in nr_of_words}\n",
    "\n",
    "    for number in freqworddict.keys():\n",
    "        freqworddict[number] = process_frequency_list(' '.join(top_n_list('nl', int(number)+400)), include_stopwords)[:int(number)]\n",
    "        print(len(freqworddict[number]))\n",
    "        \n",
    "    conferenceworddict = {k: {} for k in corpus.columns}\n",
    "    for column in tqdm(corpus.columns, total=len(corpus.columns)):\n",
    "            conference_words = corpus.loc[:, column]\n",
    "            conferenceworddict[column]['totalwords'] = int(conference_words.sum())\n",
    "            for number in freqworddict:\n",
    "                topbasicwords = f'top{number}basicwords'\n",
    "                conferenceworddict[column][topbasicwords] = 0 \n",
    "\n",
    "                for word, count in conference_words.iteritems():\n",
    "                        if word in freqworddict[number]:\n",
    "                            conferenceworddict[column][topbasicwords] += count\n",
    "            conferenceworddict[column][topbasicwords] = int(conferenceworddict[column][topbasicwords])\n",
    "    \n",
    "    nested_keys = conferenceworddict[list(conferenceworddict.keys())[0]].keys()\n",
    "    topbasicwordkeys = [key for key in nested_keys if 'basicwords' in key]\n",
    "\n",
    "    basic_words_matrix = [topbasicwordkeys]\n",
    "\n",
    "    for document in conferenceworddict:\n",
    "        inner_list = []\n",
    "        for key in topbasicwordkeys:\n",
    "            conferenceworddict[document][f'percentage_{key}'] = float(format(round(conferenceworddict[document][key] / conferenceworddict[document]['totalwords'], 2), '.2f'))\n",
    "            inner_list.append(conferenceworddict[document][f'percentage_{key}'])\n",
    "        basic_words_matrix.append(inner_list)\n",
    "    \n",
    "    return basic_words_matrix"
   ]
  },
  {
   "cell_type": "code",
   "execution_count": 207,
   "id": "be071ff7",
   "metadata": {},
   "outputs": [],
   "source": [
    "nr_of_words = [300, 600, 900, 1200, 1500, 1800, 2100]"
   ]
  },
  {
   "cell_type": "code",
   "execution_count": 208,
   "id": "1abdb48c",
   "metadata": {},
   "outputs": [
    {
     "name": "stdout",
     "output_type": "stream",
     "text": [
      "300\n",
      "600\n",
      "900\n",
      "1200\n",
      "1500\n",
      "1800\n",
      "2100\n"
     ]
    },
    {
     "data": {
      "application/vnd.jupyter.widget-view+json": {
       "model_id": "4e99b27fd838499d99352fb188327cc9",
       "version_major": 2,
       "version_minor": 0
      },
      "text/plain": [
       "  0%|          | 0/60 [00:00<?, ?it/s]"
      ]
     },
     "metadata": {},
     "output_type": "display_data"
    }
   ],
   "source": [
    "conferences_basic_words = percentage_of_basic_words(CONFERENCES_CORPUS_DF, nr_of_words=nr_of_words, include_stopwords=False)"
   ]
  },
  {
   "cell_type": "code",
   "execution_count": 167,
   "id": "b5691fa5",
   "metadata": {},
   "outputs": [
    {
     "name": "stdout",
     "output_type": "stream",
     "text": [
      "1250\n"
     ]
    },
    {
     "data": {
      "application/vnd.jupyter.widget-view+json": {
       "model_id": "ccc0d30644d24f05a1eefceb7222ae68",
       "version_major": 2,
       "version_minor": 0
      },
      "text/plain": [
       "  0%|          | 0/1 [00:00<?, ?it/s]"
      ]
     },
     "metadata": {},
     "output_type": "display_data"
    }
   ],
   "source": [
    "nos_basic_words = percentage_of_basic_words(NOS_CORPUS_DF, nr_of_words=nr_of_words, include_stopwords=False)"
   ]
  },
  {
   "cell_type": "markdown",
   "id": "6ec0c308",
   "metadata": {},
   "source": [
    "## Average Percentage of Basic Words of All Conferences"
   ]
  },
  {
   "cell_type": "code",
   "execution_count": 213,
   "id": "a1dce647",
   "metadata": {
    "collapsed": true
   },
   "outputs": [
    {
     "ename": "TypeError",
     "evalue": "unsupported operand type(s) for +: 'int' and 'str'",
     "output_type": "error",
     "traceback": [
      "\u001b[1;31m---------------------------------------------------------------------------\u001b[0m",
      "\u001b[1;31mTypeError\u001b[0m                                 Traceback (most recent call last)",
      "\u001b[1;32m~\\AppData\\Local\\Temp/ipykernel_7644/136442544.py\u001b[0m in \u001b[0;36m<module>\u001b[1;34m\u001b[0m\n\u001b[0;32m      4\u001b[0m \u001b[1;33m\u001b[0m\u001b[0m\n\u001b[0;32m      5\u001b[0m \u001b[1;33m\u001b[0m\u001b[0m\n\u001b[1;32m----> 6\u001b[1;33m \u001b[0maverage_conferences_basic_words\u001b[0m \u001b[1;33m=\u001b[0m \u001b[0maverage_percentage\u001b[0m\u001b[1;33m(\u001b[0m\u001b[0mconferences_basic_words\u001b[0m\u001b[1;33m)\u001b[0m\u001b[1;33m\u001b[0m\u001b[1;33m\u001b[0m\u001b[0m\n\u001b[0m\u001b[0;32m      7\u001b[0m \u001b[0maverage_conferences_basic_words\u001b[0m\u001b[1;33m\u001b[0m\u001b[1;33m\u001b[0m\u001b[0m\n",
      "\u001b[1;32m~\\AppData\\Local\\Temp/ipykernel_7644/136442544.py\u001b[0m in \u001b[0;36maverage_percentage\u001b[1;34m(basic_words)\u001b[0m\n\u001b[0;32m      1\u001b[0m \u001b[1;32mdef\u001b[0m \u001b[0maverage_percentage\u001b[0m\u001b[1;33m(\u001b[0m\u001b[0mbasic_words\u001b[0m\u001b[1;33m)\u001b[0m\u001b[1;33m:\u001b[0m\u001b[1;33m\u001b[0m\u001b[1;33m\u001b[0m\u001b[0m\n\u001b[0;32m      2\u001b[0m     \u001b[0mflattened_list\u001b[0m \u001b[1;33m=\u001b[0m \u001b[1;33m[\u001b[0m\u001b[0mitem\u001b[0m \u001b[1;32mfor\u001b[0m \u001b[0msublist\u001b[0m \u001b[1;32min\u001b[0m \u001b[0mbasic_words\u001b[0m \u001b[1;32mfor\u001b[0m \u001b[0mitem\u001b[0m \u001b[1;32min\u001b[0m \u001b[0msublist\u001b[0m\u001b[1;33m]\u001b[0m\u001b[1;33m\u001b[0m\u001b[1;33m\u001b[0m\u001b[0m\n\u001b[1;32m----> 3\u001b[1;33m     \u001b[1;32mreturn\u001b[0m \u001b[0mround\u001b[0m\u001b[1;33m(\u001b[0m\u001b[0msum\u001b[0m\u001b[1;33m(\u001b[0m\u001b[0mflattened_list\u001b[0m\u001b[1;33m[\u001b[0m\u001b[1;36m1\u001b[0m\u001b[1;33m:\u001b[0m\u001b[1;33m]\u001b[0m\u001b[1;33m)\u001b[0m\u001b[1;33m/\u001b[0m\u001b[0mlen\u001b[0m\u001b[1;33m(\u001b[0m\u001b[0mflattened_list\u001b[0m\u001b[1;33m[\u001b[0m\u001b[1;36m1\u001b[0m\u001b[1;33m:\u001b[0m\u001b[1;33m]\u001b[0m\u001b[1;33m)\u001b[0m\u001b[1;33m,\u001b[0m \u001b[1;36m2\u001b[0m\u001b[1;33m)\u001b[0m\u001b[1;33m\u001b[0m\u001b[1;33m\u001b[0m\u001b[0m\n\u001b[0m\u001b[0;32m      4\u001b[0m \u001b[1;33m\u001b[0m\u001b[0m\n\u001b[0;32m      5\u001b[0m \u001b[1;33m\u001b[0m\u001b[0m\n",
      "\u001b[1;31mTypeError\u001b[0m: unsupported operand type(s) for +: 'int' and 'str'"
     ]
    }
   ],
   "source": [
    "def average_percentage(basic_words):\n",
    "    flattened_list = [item for sublist in basic_words for item in sublist]\n",
    "    return round(sum(flattened_list[1:])/len(flattened_list[1:]), 2)\n",
    "\n",
    "\n",
    "average_conferences_basic_words = average_percentage(conferences_basic_words)\n",
    "average_conferences_basic_words"
   ]
  },
  {
   "cell_type": "code",
   "execution_count": 253,
   "id": "e6267011",
   "metadata": {},
   "outputs": [
    {
     "data": {
      "text/plain": [
       "0.45"
      ]
     },
     "execution_count": 253,
     "metadata": {},
     "output_type": "execute_result"
    }
   ],
   "source": [
    "average_nos_basic_words = average_percentage(nos_basic_words)\n",
    "average_nos_basic_words"
   ]
  },
  {
   "cell_type": "code",
   "execution_count": 206,
   "id": "428b2247",
   "metadata": {},
   "outputs": [
    {
     "data": {
      "text/plain": [
       "Text(1, 0.45, '0.45')"
      ]
     },
     "execution_count": 206,
     "metadata": {},
     "output_type": "execute_result"
    },
    {
     "data": {
      "text/plain": [
       "<Figure size 432x288 with 0 Axes>"
      ]
     },
     "metadata": {},
     "output_type": "display_data"
    },
    {
     "data": {
      "image/png": "[encoded data removed]",
      "text/plain": [
       "<Figure size 1440x864 with 1 Axes>"
      ]
     },
     "metadata": {
      "needs_background": "light"
     },
     "output_type": "display_data"
    }
   ],
   "source": [
    "from matplotlib import pyplot as plt\n",
    "plt.figure()\n",
    "plt.rcParams.update({'font.size': 18}) # must set in top\n",
    "conferences_data = pd.DataFrame(data=conferences_basic_words[1:], columns=conferences_basic_words[0])\n",
    "# df2 = pd.DataFrame(data=l[1:], columns=l[0])\n",
    "nos_data = pd.DataFrame(data=nos_basic_words[1:], columns=nos_basic_words[0])\n",
    "#lines = df2.plot.line()\n",
    "\n",
    "basic_words_figure = conferences_data.plot.line(figsize=(20,12), color='blue')\n",
    "#a = conferences_data.plot.bar(figsize=(6,9))\n",
    "basic_words_figure.set_ylim(0, 1)\n",
    "basic_words_figure.set_xlim(0, 59)\n",
    "# a.set_xlabel('Press Conferences')\n",
    "basic_words_figure.set_title(\"Percentage of Basic 'non stopword' words in Press Conferences compared to baseline of (5000) NOS articles\", fontsize=18)\n",
    "basic_words_figure.get_legend().remove()\n",
    "basic_words_figure.set_ylabel('percentage of basic words')\n",
    "basic_words_figure.set_xlabel(\"Press Conferences\") # dataset of 'nos.nl' Articles\n",
    "basic_words_figure.xaxis.get_major_ticks()[0].label1.set_visible(False)\n",
    "basic_words_figure.axhline(y=average_conferences_basic_words, xmin=0, xmax=60, color='blue', linestyle='--', alpha=0.5)\n",
    "basic_words_figure.axhline(y=nos_data.iloc[0, 0], xmin=0, xmax=60, color='red')\n",
    "basic_words_figure.text(30, 0.67, 'percentage of top 1250 basic words in the conferences', fontsize=14, va='center', ha='center', backgroundcolor='w', color='blue')\n",
    "basic_words_figure.text(1, average_conferences_basic_words, f'{average_conferences_basic_words}', fontsize=14, va='center', ha='center', backgroundcolor='w', color='blue', alpha=0.8)\n",
    "basic_words_figure.text(30, 0.49, 'percentage of top 1250 basic words in nos.nl articles', fontsize=14, va='center', ha='center', backgroundcolor='w', color='red')\n",
    "basic_words_figure.text(1, 0.45, '0.45',  fontsize=14, va='center', ha='center', backgroundcolor='w', color='red')"
   ]
  },
  {
   "cell_type": "code",
   "execution_count": 216,
   "id": "7733fef7",
   "metadata": {},
   "outputs": [
    {
     "data": {
      "text/html": [
       "<div>\n",
       "<style scoped>\n",
       "    .dataframe tbody tr th:only-of-type {\n",
       "        vertical-align: middle;\n",
       "    }\n",
       "\n",
       "    .dataframe tbody tr th {\n",
       "        vertical-align: top;\n",
       "    }\n",
       "\n",
       "    .dataframe thead th {\n",
       "        text-align: right;\n",
       "    }\n",
       "</style>\n",
       "<table border=\"1\" class=\"dataframe\">\n",
       "  <thead>\n",
       "    <tr style=\"text-align: right;\">\n",
       "      <th></th>\n",
       "      <th>top300basicwords</th>\n",
       "      <th>top600basicwords</th>\n",
       "      <th>top900basicwords</th>\n",
       "      <th>top1200basicwords</th>\n",
       "      <th>top1500basicwords</th>\n",
       "      <th>top1800basicwords</th>\n",
       "      <th>top2100basicwords</th>\n",
       "    </tr>\n",
       "  </thead>\n",
       "  <tbody>\n",
       "    <tr>\n",
       "      <th>0</th>\n",
       "      <td>0.30</td>\n",
       "      <td>0.43</td>\n",
       "      <td>0.52</td>\n",
       "      <td>0.57</td>\n",
       "      <td>0.62</td>\n",
       "      <td>0.65</td>\n",
       "      <td>0.69</td>\n",
       "    </tr>\n",
       "    <tr>\n",
       "      <th>1</th>\n",
       "      <td>0.33</td>\n",
       "      <td>0.46</td>\n",
       "      <td>0.53</td>\n",
       "      <td>0.58</td>\n",
       "      <td>0.66</td>\n",
       "      <td>0.70</td>\n",
       "      <td>0.72</td>\n",
       "    </tr>\n",
       "    <tr>\n",
       "      <th>2</th>\n",
       "      <td>0.32</td>\n",
       "      <td>0.46</td>\n",
       "      <td>0.52</td>\n",
       "      <td>0.57</td>\n",
       "      <td>0.65</td>\n",
       "      <td>0.67</td>\n",
       "      <td>0.70</td>\n",
       "    </tr>\n",
       "    <tr>\n",
       "      <th>3</th>\n",
       "      <td>0.32</td>\n",
       "      <td>0.44</td>\n",
       "      <td>0.53</td>\n",
       "      <td>0.57</td>\n",
       "      <td>0.64</td>\n",
       "      <td>0.67</td>\n",
       "      <td>0.70</td>\n",
       "    </tr>\n",
       "    <tr>\n",
       "      <th>4</th>\n",
       "      <td>0.32</td>\n",
       "      <td>0.45</td>\n",
       "      <td>0.51</td>\n",
       "      <td>0.57</td>\n",
       "      <td>0.63</td>\n",
       "      <td>0.66</td>\n",
       "      <td>0.69</td>\n",
       "    </tr>\n",
       "    <tr>\n",
       "      <th>5</th>\n",
       "      <td>0.34</td>\n",
       "      <td>0.46</td>\n",
       "      <td>0.57</td>\n",
       "      <td>0.61</td>\n",
       "      <td>0.66</td>\n",
       "      <td>0.69</td>\n",
       "      <td>0.72</td>\n",
       "    </tr>\n",
       "    <tr>\n",
       "      <th>6</th>\n",
       "      <td>0.31</td>\n",
       "      <td>0.42</td>\n",
       "      <td>0.50</td>\n",
       "      <td>0.57</td>\n",
       "      <td>0.65</td>\n",
       "      <td>0.68</td>\n",
       "      <td>0.70</td>\n",
       "    </tr>\n",
       "    <tr>\n",
       "      <th>7</th>\n",
       "      <td>0.33</td>\n",
       "      <td>0.46</td>\n",
       "      <td>0.54</td>\n",
       "      <td>0.59</td>\n",
       "      <td>0.65</td>\n",
       "      <td>0.70</td>\n",
       "      <td>0.72</td>\n",
       "    </tr>\n",
       "    <tr>\n",
       "      <th>8</th>\n",
       "      <td>0.32</td>\n",
       "      <td>0.44</td>\n",
       "      <td>0.54</td>\n",
       "      <td>0.59</td>\n",
       "      <td>0.64</td>\n",
       "      <td>0.68</td>\n",
       "      <td>0.70</td>\n",
       "    </tr>\n",
       "    <tr>\n",
       "      <th>9</th>\n",
       "      <td>0.32</td>\n",
       "      <td>0.45</td>\n",
       "      <td>0.54</td>\n",
       "      <td>0.59</td>\n",
       "      <td>0.63</td>\n",
       "      <td>0.66</td>\n",
       "      <td>0.69</td>\n",
       "    </tr>\n",
       "    <tr>\n",
       "      <th>10</th>\n",
       "      <td>0.35</td>\n",
       "      <td>0.46</td>\n",
       "      <td>0.55</td>\n",
       "      <td>0.63</td>\n",
       "      <td>0.67</td>\n",
       "      <td>0.70</td>\n",
       "      <td>0.73</td>\n",
       "    </tr>\n",
       "    <tr>\n",
       "      <th>11</th>\n",
       "      <td>0.33</td>\n",
       "      <td>0.46</td>\n",
       "      <td>0.55</td>\n",
       "      <td>0.62</td>\n",
       "      <td>0.66</td>\n",
       "      <td>0.69</td>\n",
       "      <td>0.71</td>\n",
       "    </tr>\n",
       "    <tr>\n",
       "      <th>12</th>\n",
       "      <td>0.32</td>\n",
       "      <td>0.45</td>\n",
       "      <td>0.52</td>\n",
       "      <td>0.57</td>\n",
       "      <td>0.62</td>\n",
       "      <td>0.66</td>\n",
       "      <td>0.69</td>\n",
       "    </tr>\n",
       "    <tr>\n",
       "      <th>13</th>\n",
       "      <td>0.31</td>\n",
       "      <td>0.45</td>\n",
       "      <td>0.55</td>\n",
       "      <td>0.59</td>\n",
       "      <td>0.64</td>\n",
       "      <td>0.67</td>\n",
       "      <td>0.70</td>\n",
       "    </tr>\n",
       "    <tr>\n",
       "      <th>14</th>\n",
       "      <td>0.30</td>\n",
       "      <td>0.43</td>\n",
       "      <td>0.51</td>\n",
       "      <td>0.57</td>\n",
       "      <td>0.61</td>\n",
       "      <td>0.64</td>\n",
       "      <td>0.66</td>\n",
       "    </tr>\n",
       "    <tr>\n",
       "      <th>15</th>\n",
       "      <td>0.32</td>\n",
       "      <td>0.44</td>\n",
       "      <td>0.53</td>\n",
       "      <td>0.57</td>\n",
       "      <td>0.62</td>\n",
       "      <td>0.65</td>\n",
       "      <td>0.67</td>\n",
       "    </tr>\n",
       "    <tr>\n",
       "      <th>16</th>\n",
       "      <td>0.32</td>\n",
       "      <td>0.46</td>\n",
       "      <td>0.54</td>\n",
       "      <td>0.59</td>\n",
       "      <td>0.63</td>\n",
       "      <td>0.66</td>\n",
       "      <td>0.68</td>\n",
       "    </tr>\n",
       "    <tr>\n",
       "      <th>17</th>\n",
       "      <td>0.32</td>\n",
       "      <td>0.43</td>\n",
       "      <td>0.52</td>\n",
       "      <td>0.57</td>\n",
       "      <td>0.62</td>\n",
       "      <td>0.65</td>\n",
       "      <td>0.67</td>\n",
       "    </tr>\n",
       "    <tr>\n",
       "      <th>18</th>\n",
       "      <td>0.36</td>\n",
       "      <td>0.48</td>\n",
       "      <td>0.56</td>\n",
       "      <td>0.60</td>\n",
       "      <td>0.65</td>\n",
       "      <td>0.68</td>\n",
       "      <td>0.70</td>\n",
       "    </tr>\n",
       "    <tr>\n",
       "      <th>19</th>\n",
       "      <td>0.36</td>\n",
       "      <td>0.47</td>\n",
       "      <td>0.56</td>\n",
       "      <td>0.61</td>\n",
       "      <td>0.66</td>\n",
       "      <td>0.69</td>\n",
       "      <td>0.71</td>\n",
       "    </tr>\n",
       "    <tr>\n",
       "      <th>20</th>\n",
       "      <td>0.31</td>\n",
       "      <td>0.43</td>\n",
       "      <td>0.51</td>\n",
       "      <td>0.57</td>\n",
       "      <td>0.62</td>\n",
       "      <td>0.64</td>\n",
       "      <td>0.66</td>\n",
       "    </tr>\n",
       "    <tr>\n",
       "      <th>21</th>\n",
       "      <td>0.33</td>\n",
       "      <td>0.46</td>\n",
       "      <td>0.55</td>\n",
       "      <td>0.61</td>\n",
       "      <td>0.65</td>\n",
       "      <td>0.68</td>\n",
       "      <td>0.70</td>\n",
       "    </tr>\n",
       "    <tr>\n",
       "      <th>22</th>\n",
       "      <td>0.34</td>\n",
       "      <td>0.47</td>\n",
       "      <td>0.55</td>\n",
       "      <td>0.59</td>\n",
       "      <td>0.65</td>\n",
       "      <td>0.67</td>\n",
       "      <td>0.69</td>\n",
       "    </tr>\n",
       "    <tr>\n",
       "      <th>23</th>\n",
       "      <td>0.35</td>\n",
       "      <td>0.51</td>\n",
       "      <td>0.58</td>\n",
       "      <td>0.63</td>\n",
       "      <td>0.67</td>\n",
       "      <td>0.70</td>\n",
       "      <td>0.72</td>\n",
       "    </tr>\n",
       "    <tr>\n",
       "      <th>24</th>\n",
       "      <td>0.28</td>\n",
       "      <td>0.41</td>\n",
       "      <td>0.49</td>\n",
       "      <td>0.53</td>\n",
       "      <td>0.59</td>\n",
       "      <td>0.62</td>\n",
       "      <td>0.64</td>\n",
       "    </tr>\n",
       "    <tr>\n",
       "      <th>25</th>\n",
       "      <td>0.29</td>\n",
       "      <td>0.47</td>\n",
       "      <td>0.55</td>\n",
       "      <td>0.60</td>\n",
       "      <td>0.66</td>\n",
       "      <td>0.69</td>\n",
       "      <td>0.70</td>\n",
       "    </tr>\n",
       "    <tr>\n",
       "      <th>26</th>\n",
       "      <td>0.35</td>\n",
       "      <td>0.46</td>\n",
       "      <td>0.54</td>\n",
       "      <td>0.60</td>\n",
       "      <td>0.66</td>\n",
       "      <td>0.68</td>\n",
       "      <td>0.69</td>\n",
       "    </tr>\n",
       "    <tr>\n",
       "      <th>27</th>\n",
       "      <td>0.30</td>\n",
       "      <td>0.41</td>\n",
       "      <td>0.50</td>\n",
       "      <td>0.55</td>\n",
       "      <td>0.60</td>\n",
       "      <td>0.63</td>\n",
       "      <td>0.65</td>\n",
       "    </tr>\n",
       "    <tr>\n",
       "      <th>28</th>\n",
       "      <td>0.33</td>\n",
       "      <td>0.44</td>\n",
       "      <td>0.51</td>\n",
       "      <td>0.57</td>\n",
       "      <td>0.61</td>\n",
       "      <td>0.65</td>\n",
       "      <td>0.68</td>\n",
       "    </tr>\n",
       "    <tr>\n",
       "      <th>29</th>\n",
       "      <td>0.31</td>\n",
       "      <td>0.43</td>\n",
       "      <td>0.51</td>\n",
       "      <td>0.56</td>\n",
       "      <td>0.61</td>\n",
       "      <td>0.63</td>\n",
       "      <td>0.66</td>\n",
       "    </tr>\n",
       "    <tr>\n",
       "      <th>30</th>\n",
       "      <td>0.33</td>\n",
       "      <td>0.46</td>\n",
       "      <td>0.53</td>\n",
       "      <td>0.58</td>\n",
       "      <td>0.63</td>\n",
       "      <td>0.66</td>\n",
       "      <td>0.68</td>\n",
       "    </tr>\n",
       "    <tr>\n",
       "      <th>31</th>\n",
       "      <td>0.31</td>\n",
       "      <td>0.44</td>\n",
       "      <td>0.51</td>\n",
       "      <td>0.56</td>\n",
       "      <td>0.62</td>\n",
       "      <td>0.64</td>\n",
       "      <td>0.66</td>\n",
       "    </tr>\n",
       "    <tr>\n",
       "      <th>32</th>\n",
       "      <td>0.32</td>\n",
       "      <td>0.45</td>\n",
       "      <td>0.54</td>\n",
       "      <td>0.59</td>\n",
       "      <td>0.64</td>\n",
       "      <td>0.67</td>\n",
       "      <td>0.69</td>\n",
       "    </tr>\n",
       "    <tr>\n",
       "      <th>33</th>\n",
       "      <td>0.33</td>\n",
       "      <td>0.44</td>\n",
       "      <td>0.52</td>\n",
       "      <td>0.59</td>\n",
       "      <td>0.64</td>\n",
       "      <td>0.67</td>\n",
       "      <td>0.69</td>\n",
       "    </tr>\n",
       "    <tr>\n",
       "      <th>34</th>\n",
       "      <td>0.32</td>\n",
       "      <td>0.44</td>\n",
       "      <td>0.50</td>\n",
       "      <td>0.56</td>\n",
       "      <td>0.60</td>\n",
       "      <td>0.63</td>\n",
       "      <td>0.66</td>\n",
       "    </tr>\n",
       "    <tr>\n",
       "      <th>35</th>\n",
       "      <td>0.32</td>\n",
       "      <td>0.42</td>\n",
       "      <td>0.49</td>\n",
       "      <td>0.55</td>\n",
       "      <td>0.62</td>\n",
       "      <td>0.65</td>\n",
       "      <td>0.67</td>\n",
       "    </tr>\n",
       "    <tr>\n",
       "      <th>36</th>\n",
       "      <td>0.37</td>\n",
       "      <td>0.50</td>\n",
       "      <td>0.57</td>\n",
       "      <td>0.61</td>\n",
       "      <td>0.65</td>\n",
       "      <td>0.68</td>\n",
       "      <td>0.70</td>\n",
       "    </tr>\n",
       "    <tr>\n",
       "      <th>37</th>\n",
       "      <td>0.32</td>\n",
       "      <td>0.46</td>\n",
       "      <td>0.55</td>\n",
       "      <td>0.59</td>\n",
       "      <td>0.63</td>\n",
       "      <td>0.65</td>\n",
       "      <td>0.67</td>\n",
       "    </tr>\n",
       "    <tr>\n",
       "      <th>38</th>\n",
       "      <td>0.33</td>\n",
       "      <td>0.45</td>\n",
       "      <td>0.53</td>\n",
       "      <td>0.58</td>\n",
       "      <td>0.62</td>\n",
       "      <td>0.66</td>\n",
       "      <td>0.67</td>\n",
       "    </tr>\n",
       "    <tr>\n",
       "      <th>39</th>\n",
       "      <td>0.31</td>\n",
       "      <td>0.43</td>\n",
       "      <td>0.51</td>\n",
       "      <td>0.57</td>\n",
       "      <td>0.61</td>\n",
       "      <td>0.65</td>\n",
       "      <td>0.67</td>\n",
       "    </tr>\n",
       "    <tr>\n",
       "      <th>40</th>\n",
       "      <td>0.30</td>\n",
       "      <td>0.42</td>\n",
       "      <td>0.50</td>\n",
       "      <td>0.55</td>\n",
       "      <td>0.60</td>\n",
       "      <td>0.63</td>\n",
       "      <td>0.65</td>\n",
       "    </tr>\n",
       "    <tr>\n",
       "      <th>41</th>\n",
       "      <td>0.31</td>\n",
       "      <td>0.44</td>\n",
       "      <td>0.51</td>\n",
       "      <td>0.56</td>\n",
       "      <td>0.62</td>\n",
       "      <td>0.65</td>\n",
       "      <td>0.67</td>\n",
       "    </tr>\n",
       "    <tr>\n",
       "      <th>42</th>\n",
       "      <td>0.30</td>\n",
       "      <td>0.43</td>\n",
       "      <td>0.51</td>\n",
       "      <td>0.57</td>\n",
       "      <td>0.62</td>\n",
       "      <td>0.65</td>\n",
       "      <td>0.67</td>\n",
       "    </tr>\n",
       "    <tr>\n",
       "      <th>43</th>\n",
       "      <td>0.33</td>\n",
       "      <td>0.45</td>\n",
       "      <td>0.52</td>\n",
       "      <td>0.58</td>\n",
       "      <td>0.62</td>\n",
       "      <td>0.65</td>\n",
       "      <td>0.67</td>\n",
       "    </tr>\n",
       "    <tr>\n",
       "      <th>44</th>\n",
       "      <td>0.32</td>\n",
       "      <td>0.45</td>\n",
       "      <td>0.52</td>\n",
       "      <td>0.56</td>\n",
       "      <td>0.60</td>\n",
       "      <td>0.63</td>\n",
       "      <td>0.65</td>\n",
       "    </tr>\n",
       "    <tr>\n",
       "      <th>45</th>\n",
       "      <td>0.30</td>\n",
       "      <td>0.43</td>\n",
       "      <td>0.52</td>\n",
       "      <td>0.57</td>\n",
       "      <td>0.61</td>\n",
       "      <td>0.63</td>\n",
       "      <td>0.65</td>\n",
       "    </tr>\n",
       "    <tr>\n",
       "      <th>46</th>\n",
       "      <td>0.30</td>\n",
       "      <td>0.43</td>\n",
       "      <td>0.52</td>\n",
       "      <td>0.57</td>\n",
       "      <td>0.61</td>\n",
       "      <td>0.64</td>\n",
       "      <td>0.66</td>\n",
       "    </tr>\n",
       "    <tr>\n",
       "      <th>47</th>\n",
       "      <td>0.33</td>\n",
       "      <td>0.46</td>\n",
       "      <td>0.54</td>\n",
       "      <td>0.59</td>\n",
       "      <td>0.63</td>\n",
       "      <td>0.66</td>\n",
       "      <td>0.68</td>\n",
       "    </tr>\n",
       "    <tr>\n",
       "      <th>48</th>\n",
       "      <td>0.32</td>\n",
       "      <td>0.44</td>\n",
       "      <td>0.53</td>\n",
       "      <td>0.58</td>\n",
       "      <td>0.63</td>\n",
       "      <td>0.65</td>\n",
       "      <td>0.67</td>\n",
       "    </tr>\n",
       "    <tr>\n",
       "      <th>49</th>\n",
       "      <td>0.32</td>\n",
       "      <td>0.43</td>\n",
       "      <td>0.52</td>\n",
       "      <td>0.57</td>\n",
       "      <td>0.61</td>\n",
       "      <td>0.64</td>\n",
       "      <td>0.66</td>\n",
       "    </tr>\n",
       "    <tr>\n",
       "      <th>50</th>\n",
       "      <td>0.32</td>\n",
       "      <td>0.43</td>\n",
       "      <td>0.51</td>\n",
       "      <td>0.56</td>\n",
       "      <td>0.61</td>\n",
       "      <td>0.64</td>\n",
       "      <td>0.66</td>\n",
       "    </tr>\n",
       "    <tr>\n",
       "      <th>51</th>\n",
       "      <td>0.33</td>\n",
       "      <td>0.44</td>\n",
       "      <td>0.53</td>\n",
       "      <td>0.59</td>\n",
       "      <td>0.63</td>\n",
       "      <td>0.66</td>\n",
       "      <td>0.68</td>\n",
       "    </tr>\n",
       "    <tr>\n",
       "      <th>52</th>\n",
       "      <td>0.32</td>\n",
       "      <td>0.44</td>\n",
       "      <td>0.53</td>\n",
       "      <td>0.58</td>\n",
       "      <td>0.62</td>\n",
       "      <td>0.65</td>\n",
       "      <td>0.67</td>\n",
       "    </tr>\n",
       "    <tr>\n",
       "      <th>53</th>\n",
       "      <td>0.32</td>\n",
       "      <td>0.44</td>\n",
       "      <td>0.53</td>\n",
       "      <td>0.59</td>\n",
       "      <td>0.63</td>\n",
       "      <td>0.66</td>\n",
       "      <td>0.68</td>\n",
       "    </tr>\n",
       "    <tr>\n",
       "      <th>54</th>\n",
       "      <td>0.34</td>\n",
       "      <td>0.46</td>\n",
       "      <td>0.53</td>\n",
       "      <td>0.58</td>\n",
       "      <td>0.63</td>\n",
       "      <td>0.66</td>\n",
       "      <td>0.68</td>\n",
       "    </tr>\n",
       "    <tr>\n",
       "      <th>55</th>\n",
       "      <td>0.32</td>\n",
       "      <td>0.44</td>\n",
       "      <td>0.53</td>\n",
       "      <td>0.58</td>\n",
       "      <td>0.62</td>\n",
       "      <td>0.65</td>\n",
       "      <td>0.68</td>\n",
       "    </tr>\n",
       "    <tr>\n",
       "      <th>56</th>\n",
       "      <td>0.34</td>\n",
       "      <td>0.46</td>\n",
       "      <td>0.53</td>\n",
       "      <td>0.58</td>\n",
       "      <td>0.63</td>\n",
       "      <td>0.66</td>\n",
       "      <td>0.68</td>\n",
       "    </tr>\n",
       "    <tr>\n",
       "      <th>57</th>\n",
       "      <td>0.29</td>\n",
       "      <td>0.42</td>\n",
       "      <td>0.50</td>\n",
       "      <td>0.55</td>\n",
       "      <td>0.59</td>\n",
       "      <td>0.62</td>\n",
       "      <td>0.64</td>\n",
       "    </tr>\n",
       "    <tr>\n",
       "      <th>58</th>\n",
       "      <td>0.32</td>\n",
       "      <td>0.45</td>\n",
       "      <td>0.52</td>\n",
       "      <td>0.56</td>\n",
       "      <td>0.61</td>\n",
       "      <td>0.64</td>\n",
       "      <td>0.65</td>\n",
       "    </tr>\n",
       "    <tr>\n",
       "      <th>59</th>\n",
       "      <td>0.30</td>\n",
       "      <td>0.44</td>\n",
       "      <td>0.53</td>\n",
       "      <td>0.58</td>\n",
       "      <td>0.63</td>\n",
       "      <td>0.65</td>\n",
       "      <td>0.68</td>\n",
       "    </tr>\n",
       "  </tbody>\n",
       "</table>\n",
       "</div>"
      ],
      "text/plain": [
       "    top300basicwords  top600basicwords  top900basicwords  top1200basicwords  \\\n",
       "0               0.30              0.43              0.52               0.57   \n",
       "1               0.33              0.46              0.53               0.58   \n",
       "2               0.32              0.46              0.52               0.57   \n",
       "3               0.32              0.44              0.53               0.57   \n",
       "4               0.32              0.45              0.51               0.57   \n",
       "5               0.34              0.46              0.57               0.61   \n",
       "6               0.31              0.42              0.50               0.57   \n",
       "7               0.33              0.46              0.54               0.59   \n",
       "8               0.32              0.44              0.54               0.59   \n",
       "9               0.32              0.45              0.54               0.59   \n",
       "10              0.35              0.46              0.55               0.63   \n",
       "11              0.33              0.46              0.55               0.62   \n",
       "12              0.32              0.45              0.52               0.57   \n",
       "13              0.31              0.45              0.55               0.59   \n",
       "14              0.30              0.43              0.51               0.57   \n",
       "15              0.32              0.44              0.53               0.57   \n",
       "16              0.32              0.46              0.54               0.59   \n",
       "17              0.32              0.43              0.52               0.57   \n",
       "18              0.36              0.48              0.56               0.60   \n",
       "19              0.36              0.47              0.56               0.61   \n",
       "20              0.31              0.43              0.51               0.57   \n",
       "21              0.33              0.46              0.55               0.61   \n",
       "22              0.34              0.47              0.55               0.59   \n",
       "23              0.35              0.51              0.58               0.63   \n",
       "24              0.28              0.41              0.49               0.53   \n",
       "25              0.29              0.47              0.55               0.60   \n",
       "26              0.35              0.46              0.54               0.60   \n",
       "27              0.30              0.41              0.50               0.55   \n",
       "28              0.33              0.44              0.51               0.57   \n",
       "29              0.31              0.43              0.51               0.56   \n",
       "30              0.33              0.46              0.53               0.58   \n",
       "31              0.31              0.44              0.51               0.56   \n",
       "32              0.32              0.45              0.54               0.59   \n",
       "33              0.33              0.44              0.52               0.59   \n",
       "34              0.32              0.44              0.50               0.56   \n",
       "35              0.32              0.42              0.49               0.55   \n",
       "36              0.37              0.50              0.57               0.61   \n",
       "37              0.32              0.46              0.55               0.59   \n",
       "38              0.33              0.45              0.53               0.58   \n",
       "39              0.31              0.43              0.51               0.57   \n",
       "40              0.30              0.42              0.50               0.55   \n",
       "41              0.31              0.44              0.51               0.56   \n",
       "42              0.30              0.43              0.51               0.57   \n",
       "43              0.33              0.45              0.52               0.58   \n",
       "44              0.32              0.45              0.52               0.56   \n",
       "45              0.30              0.43              0.52               0.57   \n",
       "46              0.30              0.43              0.52               0.57   \n",
       "47              0.33              0.46              0.54               0.59   \n",
       "48              0.32              0.44              0.53               0.58   \n",
       "49              0.32              0.43              0.52               0.57   \n",
       "50              0.32              0.43              0.51               0.56   \n",
       "51              0.33              0.44              0.53               0.59   \n",
       "52              0.32              0.44              0.53               0.58   \n",
       "53              0.32              0.44              0.53               0.59   \n",
       "54              0.34              0.46              0.53               0.58   \n",
       "55              0.32              0.44              0.53               0.58   \n",
       "56              0.34              0.46              0.53               0.58   \n",
       "57              0.29              0.42              0.50               0.55   \n",
       "58              0.32              0.45              0.52               0.56   \n",
       "59              0.30              0.44              0.53               0.58   \n",
       "\n",
       "    top1500basicwords  top1800basicwords  top2100basicwords  \n",
       "0                0.62               0.65               0.69  \n",
       "1                0.66               0.70               0.72  \n",
       "2                0.65               0.67               0.70  \n",
       "3                0.64               0.67               0.70  \n",
       "4                0.63               0.66               0.69  \n",
       "5                0.66               0.69               0.72  \n",
       "6                0.65               0.68               0.70  \n",
       "7                0.65               0.70               0.72  \n",
       "8                0.64               0.68               0.70  \n",
       "9                0.63               0.66               0.69  \n",
       "10               0.67               0.70               0.73  \n",
       "11               0.66               0.69               0.71  \n",
       "12               0.62               0.66               0.69  \n",
       "13               0.64               0.67               0.70  \n",
       "14               0.61               0.64               0.66  \n",
       "15               0.62               0.65               0.67  \n",
       "16               0.63               0.66               0.68  \n",
       "17               0.62               0.65               0.67  \n",
       "18               0.65               0.68               0.70  \n",
       "19               0.66               0.69               0.71  \n",
       "20               0.62               0.64               0.66  \n",
       "21               0.65               0.68               0.70  \n",
       "22               0.65               0.67               0.69  \n",
       "23               0.67               0.70               0.72  \n",
       "24               0.59               0.62               0.64  \n",
       "25               0.66               0.69               0.70  \n",
       "26               0.66               0.68               0.69  \n",
       "27               0.60               0.63               0.65  \n",
       "28               0.61               0.65               0.68  \n",
       "29               0.61               0.63               0.66  \n",
       "30               0.63               0.66               0.68  \n",
       "31               0.62               0.64               0.66  \n",
       "32               0.64               0.67               0.69  \n",
       "33               0.64               0.67               0.69  \n",
       "34               0.60               0.63               0.66  \n",
       "35               0.62               0.65               0.67  \n",
       "36               0.65               0.68               0.70  \n",
       "37               0.63               0.65               0.67  \n",
       "38               0.62               0.66               0.67  \n",
       "39               0.61               0.65               0.67  \n",
       "40               0.60               0.63               0.65  \n",
       "41               0.62               0.65               0.67  \n",
       "42               0.62               0.65               0.67  \n",
       "43               0.62               0.65               0.67  \n",
       "44               0.60               0.63               0.65  \n",
       "45               0.61               0.63               0.65  \n",
       "46               0.61               0.64               0.66  \n",
       "47               0.63               0.66               0.68  \n",
       "48               0.63               0.65               0.67  \n",
       "49               0.61               0.64               0.66  \n",
       "50               0.61               0.64               0.66  \n",
       "51               0.63               0.66               0.68  \n",
       "52               0.62               0.65               0.67  \n",
       "53               0.63               0.66               0.68  \n",
       "54               0.63               0.66               0.68  \n",
       "55               0.62               0.65               0.68  \n",
       "56               0.63               0.66               0.68  \n",
       "57               0.59               0.62               0.64  \n",
       "58               0.61               0.64               0.65  \n",
       "59               0.63               0.65               0.68  "
      ]
     },
     "execution_count": 216,
     "metadata": {},
     "output_type": "execute_result"
    }
   ],
   "source": [
    "conferences_data"
   ]
  },
  {
   "cell_type": "code",
   "execution_count": 227,
   "id": "3276e3f2",
   "metadata": {},
   "outputs": [
    {
     "data": {
      "text/plain": [
       "[0.3,\n",
       " 0.33,\n",
       " 0.32,\n",
       " 0.32,\n",
       " 0.32,\n",
       " 0.34,\n",
       " 0.31,\n",
       " 0.33,\n",
       " 0.32,\n",
       " 0.32,\n",
       " 0.35,\n",
       " 0.33,\n",
       " 0.32,\n",
       " 0.31,\n",
       " 0.3,\n",
       " 0.32,\n",
       " 0.32,\n",
       " 0.32,\n",
       " 0.36,\n",
       " 0.36,\n",
       " 0.31,\n",
       " 0.33,\n",
       " 0.34,\n",
       " 0.35,\n",
       " 0.28,\n",
       " 0.29,\n",
       " 0.35,\n",
       " 0.3,\n",
       " 0.33,\n",
       " 0.31,\n",
       " 0.33,\n",
       " 0.31,\n",
       " 0.32,\n",
       " 0.33,\n",
       " 0.32,\n",
       " 0.32,\n",
       " 0.37,\n",
       " 0.32,\n",
       " 0.33,\n",
       " 0.31,\n",
       " 0.3,\n",
       " 0.31,\n",
       " 0.3,\n",
       " 0.33,\n",
       " 0.32,\n",
       " 0.3,\n",
       " 0.3,\n",
       " 0.33,\n",
       " 0.32,\n",
       " 0.32,\n",
       " 0.32,\n",
       " 0.33,\n",
       " 0.32,\n",
       " 0.32,\n",
       " 0.34,\n",
       " 0.32,\n",
       " 0.34,\n",
       " 0.29,\n",
       " 0.32,\n",
       " 0.3]"
      ]
     },
     "execution_count": 227,
     "metadata": {},
     "output_type": "execute_result"
    }
   ],
   "source": [
    "list(conferences_data['top300basicwords'])"
   ]
  },
  {
   "cell_type": "code",
   "execution_count": 252,
   "id": "0325a160",
   "metadata": {},
   "outputs": [
    {
     "data": {
      "text/plain": [
       "<Figure size 432x288 with 0 Axes>"
      ]
     },
     "metadata": {},
     "output_type": "display_data"
    },
    {
     "data": {
      "image/png": "[encoded data removed]",
      "text/plain": [
       "<Figure size 1440x864 with 1 Axes>"
      ]
     },
     "metadata": {
      "needs_background": "light"
     },
     "output_type": "display_data"
    }
   ],
   "source": [
    "import numpy as np\n",
    "from matplotlib import pyplot as plt\n",
    "plt.figure()\n",
    "plt.rcParams.update({'font.size': 18}) # must set in top\n",
    "conferences_data = pd.DataFrame(data=conferences_basic_words[1:], columns=conferences_basic_words[0])\n",
    "\n",
    "#nos_data = pd.DataFrame(data=nos_basic_words[1:], columns=nos_basic_words[0])\n",
    "x = np.arange(60)\n",
    "basic_words_figure = conferences_data.plot.line(figsize=(20,12))\n",
    "basic_words_figure.set_ylim(0, 1)\n",
    "basic_words_figure.set_xlim(0, 59)\n",
    "basic_words_figure.set_title('Basic Word Usage in Press Conferences')\n",
    "basic_words_figure.set_ylabel('percentage of basic words')\n",
    "basic_words_figure.set_xlabel(\"Press Conferences\") # dataset of 'nos.nl' Articles\n",
    "basic_words_figure.xaxis.get_major_ticks()[0].label1.set_visible(False)\n",
    "for index in range(len(conferences_data.columns)):\n",
    "    if index == 0:\n",
    "        plt.fill_between(x, 0, list(conferences_data[conferences_data.columns[index]]), alpha=0.4)\n",
    "    else:\n",
    "        plt.fill_between(x, list(conferences_data[conferences_data.columns[index-1]]), list(conferences_data[conferences_data.columns[index]]), alpha=0.4)\n",
    "\n",
    "#basic_words_figure.axhline(y=average_conferences_basic_words, xmin=0, xmax=60, color='blue', linestyle='--', alpha=0.5)\n",
    "# basic_words_figure.axhline(y=nos_data.iloc[0, 0], xmin=0, xmax=60, color='red')\n",
    "# basic_words_figure.text(30, 0.67, 'percentage of top 1300 basic words in the conferences', fontsize=14, va='center', ha='center', backgroundcolor='w', color='blue')\n",
    "# basic_words_figure.text(30, 0.49, 'percentage of top 1300 basic words in nos.nl articles', fontsize=14, va='center', ha='center', backgroundcolor='w', color='red')"
   ]
  },
  {
   "cell_type": "code",
   "execution_count": 20,
   "id": "e324df81",
   "metadata": {},
   "outputs": [],
   "source": [
    "urls = pd.Series(urls)\n",
    "urls = urls[urls.str.contains('/artikel/')]"
   ]
  },
  {
   "cell_type": "code",
   "execution_count": 23,
   "id": "4e66fe67",
   "metadata": {},
   "outputs": [
    {
     "data": {
      "text/plain": [
       "'/artikel/2332717-politiemol-mark-m-krijgt-ook-in-hoger-beroep-vijf-jaar-cel'"
      ]
     },
     "execution_count": 23,
     "metadata": {},
     "output_type": "execute_result"
    }
   ],
   "source": [
    "urls.iloc[27]"
   ]
  },
  {
   "cell_type": "code",
   "execution_count": 26,
   "id": "cfe19ab8",
   "metadata": {},
   "outputs": [],
   "source": [
    "from datetime import datetime\n",
    "\n",
    "datelist = pd.date_range('01/04/2020', periods=100).tolist()"
   ]
  },
  {
   "cell_type": "code",
   "execution_count": 30,
   "id": "ac3cc879",
   "metadata": {},
   "outputs": [
    {
     "data": {
      "text/plain": [
       "'26-01-2022'"
      ]
     },
     "execution_count": 30,
     "metadata": {},
     "output_type": "execute_result"
    }
   ],
   "source": [
    "datetime.today().strftime('%d-%m-%Y')"
   ]
  },
  {
   "cell_type": "code",
   "execution_count": 113,
   "id": "e4b14027",
   "metadata": {},
   "outputs": [],
   "source": [
    "import pandas as pd\n",
    "from bs4 import BeautifulSoup\n",
    "import pathlib\n",
    "import requests\n",
    "from tqdm.notebook import tqdm\n",
    "import os\n",
    "\n",
    "pd.set_option('display.max_rows', None)"
   ]
  },
  {
   "cell_type": "code",
   "execution_count": 135,
   "id": "067ed985",
   "metadata": {},
   "outputs": [],
   "source": [
    "# https://nos.nl/nieuws/archief/2020-05-25\n",
    "\n",
    "ARTICLE_OUTPUT_FOLDER = '../input/articles'\n",
    "NOS_ARCHIVE_URL = 'https://nos.nl/nieuws/archief/'\n",
    "NOS_URL = 'https://nos.nl'"
   ]
  },
  {
   "cell_type": "code",
   "execution_count": 68,
   "id": "866c9729",
   "metadata": {
    "collapsed": true
   },
   "outputs": [
    {
     "data": {
      "text/plain": [
       "['2020-04-01',\n",
       " '2020-04-02',\n",
       " '2020-04-03',\n",
       " '2020-04-04',\n",
       " '2020-04-05',\n",
       " '2020-04-06',\n",
       " '2020-04-07',\n",
       " '2020-04-08',\n",
       " '2020-04-09',\n",
       " '2020-04-10',\n",
       " '2020-04-11',\n",
       " '2020-04-12',\n",
       " '2020-04-13',\n",
       " '2020-04-14',\n",
       " '2020-04-15',\n",
       " '2020-04-16',\n",
       " '2020-04-17',\n",
       " '2020-04-18',\n",
       " '2020-04-19',\n",
       " '2020-04-20',\n",
       " '2020-04-21',\n",
       " '2020-04-22',\n",
       " '2020-04-23',\n",
       " '2020-04-24',\n",
       " '2020-04-25',\n",
       " '2020-04-26',\n",
       " '2020-04-27',\n",
       " '2020-04-28',\n",
       " '2020-04-29',\n",
       " '2020-04-30']"
      ]
     },
     "execution_count": 68,
     "metadata": {},
     "output_type": "execute_result"
    }
   ],
   "source": [
    "dates = [x.strftime('%Y-%m-%d') for x in pd.date_range(start = '2020-04-01',end='2020-04-30', freq='D')] # datetime.today()\n",
    "dates"
   ]
  },
  {
   "cell_type": "code",
   "execution_count": null,
   "id": "220bd6c0",
   "metadata": {},
   "outputs": [],
   "source": [
    "def get_article_urls(dates):\n",
    "    article_urls_dict = {}\n",
    "    \n",
    "    for date in tqdm(dates, total=len(dates)):\n",
    "        urls = []\n",
    "        response = requests.get(NOS_ARCHIVE_URL+date)\n",
    "        soup = BeautifulSoup(response.content, \"html.parser\")\n",
    "        \n",
    "        for page_content in soup.findAll('a', href=True):\n",
    "                urls.append(page_content['href'])\n",
    "        urls = pd.Series(urls)\n",
    "        urls = urls[urls.str.contains('/artikel/')]\n",
    "        urls = NOS_URL + urls\n",
    "        article_urls_dict[date] = list(urls)\n",
    "        \n",
    "    return(article_urls_dict)\n",
    "\n",
    "article_urls = get_article_urls(dates)"
   ]
  },
  {
   "cell_type": "code",
   "execution_count": 144,
   "id": "4e35ccfc",
   "metadata": {
    "scrolled": false
   },
   "outputs": [
    {
     "data": {
      "application/vnd.jupyter.widget-view+json": {
       "model_id": "1ab2581c252b46fa96d4138db8ab4dd6",
       "version_major": 2,
       "version_minor": 0
      },
      "text/plain": [
       "  0%|          | 0/30 [00:00<?, ?it/s]"
      ]
     },
     "metadata": {},
     "output_type": "display_data"
    },
    {
     "data": {
      "application/vnd.jupyter.widget-view+json": {
       "model_id": "0cc339afb712486aba94f93ba5981cf1",
       "version_major": 2,
       "version_minor": 0
      },
      "text/plain": [
       "  0%|          | 0/37 [00:00<?, ?it/s]"
      ]
     },
     "metadata": {},
     "output_type": "display_data"
    },
    {
     "data": {
      "application/vnd.jupyter.widget-view+json": {
       "model_id": "a918910fc02e44e586dadbb929619e16",
       "version_major": 2,
       "version_minor": 0
      },
      "text/plain": [
       "  0%|          | 0/34 [00:00<?, ?it/s]"
      ]
     },
     "metadata": {},
     "output_type": "display_data"
    },
    {
     "data": {
      "application/vnd.jupyter.widget-view+json": {
       "model_id": "eaa038305dd0443790aaf187781970bb",
       "version_major": 2,
       "version_minor": 0
      },
      "text/plain": [
       "  0%|          | 0/47 [00:00<?, ?it/s]"
      ]
     },
     "metadata": {},
     "output_type": "display_data"
    },
    {
     "data": {
      "application/vnd.jupyter.widget-view+json": {
       "model_id": "e5cd5e7bc6e6459b9d527b1c1b7b14b5",
       "version_major": 2,
       "version_minor": 0
      },
      "text/plain": [
       "  0%|          | 0/25 [00:00<?, ?it/s]"
      ]
     },
     "metadata": {},
     "output_type": "display_data"
    },
    {
     "data": {
      "application/vnd.jupyter.widget-view+json": {
       "model_id": "e4091b36e1e546e49be571b7131b1fed",
       "version_major": 2,
       "version_minor": 0
      },
      "text/plain": [
       "  0%|          | 0/25 [00:00<?, ?it/s]"
      ]
     },
     "metadata": {},
     "output_type": "display_data"
    },
    {
     "data": {
      "application/vnd.jupyter.widget-view+json": {
       "model_id": "0cd7beed18ca455db98cabd060b70829",
       "version_major": 2,
       "version_minor": 0
      },
      "text/plain": [
       "  0%|          | 0/42 [00:00<?, ?it/s]"
      ]
     },
     "metadata": {},
     "output_type": "display_data"
    },
    {
     "data": {
      "application/vnd.jupyter.widget-view+json": {
       "model_id": "4374c4e27ca44c528639dabb7071d2b5",
       "version_major": 2,
       "version_minor": 0
      },
      "text/plain": [
       "  0%|          | 0/40 [00:00<?, ?it/s]"
      ]
     },
     "metadata": {},
     "output_type": "display_data"
    },
    {
     "data": {
      "application/vnd.jupyter.widget-view+json": {
       "model_id": "004270f6c0de4cd9b0fc278ff75d5cb7",
       "version_major": 2,
       "version_minor": 0
      },
      "text/plain": [
       "  0%|          | 0/46 [00:00<?, ?it/s]"
      ]
     },
     "metadata": {},
     "output_type": "display_data"
    },
    {
     "data": {
      "application/vnd.jupyter.widget-view+json": {
       "model_id": "aba719f661f3449f8cd6406b29f1fca2",
       "version_major": 2,
       "version_minor": 0
      },
      "text/plain": [
       "  0%|          | 0/36 [00:00<?, ?it/s]"
      ]
     },
     "metadata": {},
     "output_type": "display_data"
    },
    {
     "data": {
      "application/vnd.jupyter.widget-view+json": {
       "model_id": "3e7cc7c51df44c7ca5ac005b5f06d50a",
       "version_major": 2,
       "version_minor": 0
      },
      "text/plain": [
       "  0%|          | 0/40 [00:00<?, ?it/s]"
      ]
     },
     "metadata": {},
     "output_type": "display_data"
    },
    {
     "data": {
      "application/vnd.jupyter.widget-view+json": {
       "model_id": "2a56acce0ace45839b127e01a359fd56",
       "version_major": 2,
       "version_minor": 0
      },
      "text/plain": [
       "  0%|          | 0/29 [00:00<?, ?it/s]"
      ]
     },
     "metadata": {},
     "output_type": "display_data"
    },
    {
     "data": {
      "application/vnd.jupyter.widget-view+json": {
       "model_id": "4922f7546daa4499a358fa236e4b45f3",
       "version_major": 2,
       "version_minor": 0
      },
      "text/plain": [
       "  0%|          | 0/31 [00:00<?, ?it/s]"
      ]
     },
     "metadata": {},
     "output_type": "display_data"
    },
    {
     "data": {
      "application/vnd.jupyter.widget-view+json": {
       "model_id": "73cd0f6411d6410089cfe414738334ac",
       "version_major": 2,
       "version_minor": 0
      },
      "text/plain": [
       "  0%|          | 0/29 [00:00<?, ?it/s]"
      ]
     },
     "metadata": {},
     "output_type": "display_data"
    },
    {
     "data": {
      "application/vnd.jupyter.widget-view+json": {
       "model_id": "b9154566ccd64dba8ed3537e4f84ed97",
       "version_major": 2,
       "version_minor": 0
      },
      "text/plain": [
       "  0%|          | 0/35 [00:00<?, ?it/s]"
      ]
     },
     "metadata": {},
     "output_type": "display_data"
    },
    {
     "data": {
      "application/vnd.jupyter.widget-view+json": {
       "model_id": "ea46c8bbd96947fc867b273564635cda",
       "version_major": 2,
       "version_minor": 0
      },
      "text/plain": [
       "  0%|          | 0/46 [00:00<?, ?it/s]"
      ]
     },
     "metadata": {},
     "output_type": "display_data"
    },
    {
     "data": {
      "application/vnd.jupyter.widget-view+json": {
       "model_id": "7480ff91601f469d94889c97424af92a",
       "version_major": 2,
       "version_minor": 0
      },
      "text/plain": [
       "  0%|          | 0/41 [00:00<?, ?it/s]"
      ]
     },
     "metadata": {},
     "output_type": "display_data"
    },
    {
     "data": {
      "application/vnd.jupyter.widget-view+json": {
       "model_id": "05b89a070c964d439e722e30097b4c57",
       "version_major": 2,
       "version_minor": 0
      },
      "text/plain": [
       "  0%|          | 0/40 [00:00<?, ?it/s]"
      ]
     },
     "metadata": {},
     "output_type": "display_data"
    },
    {
     "data": {
      "application/vnd.jupyter.widget-view+json": {
       "model_id": "44937aad53d34b88b98e776cba5dd1af",
       "version_major": 2,
       "version_minor": 0
      },
      "text/plain": [
       "  0%|          | 0/23 [00:00<?, ?it/s]"
      ]
     },
     "metadata": {},
     "output_type": "display_data"
    },
    {
     "data": {
      "application/vnd.jupyter.widget-view+json": {
       "model_id": "ef1bfae2aa8647fb9889f5db0c9ee041",
       "version_major": 2,
       "version_minor": 0
      },
      "text/plain": [
       "  0%|          | 0/24 [00:00<?, ?it/s]"
      ]
     },
     "metadata": {},
     "output_type": "display_data"
    },
    {
     "data": {
      "application/vnd.jupyter.widget-view+json": {
       "model_id": "905312d7188b44bd80fddfb540c8b9d3",
       "version_major": 2,
       "version_minor": 0
      },
      "text/plain": [
       "  0%|          | 0/47 [00:00<?, ?it/s]"
      ]
     },
     "metadata": {},
     "output_type": "display_data"
    },
    {
     "data": {
      "application/vnd.jupyter.widget-view+json": {
       "model_id": "2986a0784881472aae0101335f42ee53",
       "version_major": 2,
       "version_minor": 0
      },
      "text/plain": [
       "  0%|          | 0/47 [00:00<?, ?it/s]"
      ]
     },
     "metadata": {},
     "output_type": "display_data"
    },
    {
     "data": {
      "application/vnd.jupyter.widget-view+json": {
       "model_id": "b0483350dcbc46ee93eeb8a50a4112ac",
       "version_major": 2,
       "version_minor": 0
      },
      "text/plain": [
       "  0%|          | 0/44 [00:00<?, ?it/s]"
      ]
     },
     "metadata": {},
     "output_type": "display_data"
    },
    {
     "data": {
      "application/vnd.jupyter.widget-view+json": {
       "model_id": "f74239f328994aa7963af22abc528126",
       "version_major": 2,
       "version_minor": 0
      },
      "text/plain": [
       "  0%|          | 0/41 [00:00<?, ?it/s]"
      ]
     },
     "metadata": {},
     "output_type": "display_data"
    },
    {
     "data": {
      "application/vnd.jupyter.widget-view+json": {
       "model_id": "17726f68845742ae9b8c9008e0ffeaf2",
       "version_major": 2,
       "version_minor": 0
      },
      "text/plain": [
       "  0%|          | 0/49 [00:00<?, ?it/s]"
      ]
     },
     "metadata": {},
     "output_type": "display_data"
    },
    {
     "data": {
      "application/vnd.jupyter.widget-view+json": {
       "model_id": "9b4173050ef1419fb4a9fe1c3d3714af",
       "version_major": 2,
       "version_minor": 0
      },
      "text/plain": [
       "  0%|          | 0/22 [00:00<?, ?it/s]"
      ]
     },
     "metadata": {},
     "output_type": "display_data"
    },
    {
     "data": {
      "application/vnd.jupyter.widget-view+json": {
       "model_id": "63785bfe29134dc783c9a0396eab57f3",
       "version_major": 2,
       "version_minor": 0
      },
      "text/plain": [
       "  0%|          | 0/25 [00:00<?, ?it/s]"
      ]
     },
     "metadata": {},
     "output_type": "display_data"
    },
    {
     "data": {
      "application/vnd.jupyter.widget-view+json": {
       "model_id": "87c8b9f0310a4769be728450be8eaee7",
       "version_major": 2,
       "version_minor": 0
      },
      "text/plain": [
       "  0%|          | 0/38 [00:00<?, ?it/s]"
      ]
     },
     "metadata": {},
     "output_type": "display_data"
    },
    {
     "data": {
      "application/vnd.jupyter.widget-view+json": {
       "model_id": "07b0d74995cb4e8797865abd27c1d836",
       "version_major": 2,
       "version_minor": 0
      },
      "text/plain": [
       "  0%|          | 0/46 [00:00<?, ?it/s]"
      ]
     },
     "metadata": {},
     "output_type": "display_data"
    },
    {
     "data": {
      "application/vnd.jupyter.widget-view+json": {
       "model_id": "66d3a33d1385412ab930a4d59dc07c74",
       "version_major": 2,
       "version_minor": 0
      },
      "text/plain": [
       "  0%|          | 0/44 [00:00<?, ?it/s]"
      ]
     },
     "metadata": {},
     "output_type": "display_data"
    },
    {
     "data": {
      "application/vnd.jupyter.widget-view+json": {
       "model_id": "1b29e08215764fcda0f187bce5725deb",
       "version_major": 2,
       "version_minor": 0
      },
      "text/plain": [
       "  0%|          | 0/45 [00:00<?, ?it/s]"
      ]
     },
     "metadata": {},
     "output_type": "display_data"
    }
   ],
   "source": [
    "def get_article_text(article_url, date):\n",
    "    file_name = f\"{ARTICLE_OUTPUT_FOLDER}/{date}/{article_url[article_url.find('/artikel/')+9:]}\"\n",
    "    \n",
    "    if not os.path.exists(file_name):\n",
    "        response_text = requests.get(article_url)\n",
    "        soup = BeautifulSoup(response_text.content, \"html.parser\")\n",
    "        raw_paragraphs = soup.find_all('p', class_=\"text_3v_J6Y0G\")\n",
    "        texts = [p.get_text() for p in raw_paragraphs]\n",
    "\n",
    "        with open(file_name, \"w\", encoding='utf-8') as txt_file:\n",
    "            txt_file.write('\\n'.join(texts))\n",
    "\n",
    "pathlib.Path(ARTICLE_OUTPUT_FOLDER).mkdir(parents=True, exist_ok=True)\n",
    "\n",
    "i = 0\n",
    "for date in tqdm(article_urls, total=len(article_urls)):\n",
    "    pathlib.Path(ARTICLE_OUTPUT_FOLDER + '/' + date).mkdir(parents=True, exist_ok=True)\n",
    "    for article_url in tqdm(article_urls[date]):\n",
    "        get_article_text(article_url, date)\n",
    "    i += 1\n",
    "    if i == 1000:\n",
    "        break"
   ]
  },
  {
   "cell_type": "code",
   "execution_count": 147,
   "id": "0e5fd23c",
   "metadata": {},
   "outputs": [
    {
     "name": "stdout",
     "output_type": "stream",
     "text": [
      "1029\n"
     ]
    }
   ],
   "source": [
    "file_count = sum(len(files) for _, _, files in os.walk('../input/articles/'))\n",
    "print(file_count)"
   ]
  },
  {
   "cell_type": "code",
   "execution_count": null,
   "id": "cede13ab",
   "metadata": {},
   "outputs": [],
   "source": []
  }
 ],
 "metadata": {
  "kernelspec": {
   "display_name": "Python 3 (ipykernel)",
   "language": "python",
   "name": "python3"
  },
  "language_info": {
   "codemirror_mode": {
    "name": "ipython",
    "version": 3
   },
   "file_extension": ".py",
   "mimetype": "text/x-python",
   "name": "python",
   "nbconvert_exporter": "python",
   "pygments_lexer": "ipython3",
   "version": "3.8.0"
  }
 },
 "nbformat": 4,
 "nbformat_minor": 5
}
