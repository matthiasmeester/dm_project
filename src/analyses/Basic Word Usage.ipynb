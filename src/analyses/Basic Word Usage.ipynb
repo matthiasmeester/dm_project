{
 "cells": [
  {
   "cell_type": "code",
   "execution_count": 2,
   "id": "b60bf11e",
   "metadata": {},
   "outputs": [],
   "source": [
    "import pandas as pd\n",
    "import spacy\n",
    "nlp = spacy.load(\"nl_core_news_sm\")\n",
    "from tqdm.notebook import tqdm\n",
    "from wordfreq import word_frequency, top_n_list"
   ]
  },
  {
   "cell_type": "code",
   "execution_count": 39,
   "id": "7a46f222",
   "metadata": {},
   "outputs": [],
   "source": [
    "df = pd.read_csv('../output/corpus.csv')\n",
    "#df = pd.read_csv('../output/NOS_corpus.csv')\n",
    "df.set_index('word', inplace=True)"
   ]
  },
  {
   "cell_type": "code",
   "execution_count": 40,
   "id": "bfa66236",
   "metadata": {},
   "outputs": [
    {
     "name": "stdout",
     "output_type": "stream",
     "text": [
      "60\n"
     ]
    }
   ],
   "source": [
    "print(len(df.columns))"
   ]
  },
  {
   "cell_type": "code",
   "execution_count": 55,
   "id": "86b5c7a6",
   "metadata": {},
   "outputs": [
    {
     "data": {
      "application/vnd.jupyter.widget-view+json": {
       "model_id": "10ec237c2a2f4fc3bdb96f2a0e3f0220",
       "version_major": 2,
       "version_minor": 0
      },
      "text/plain": [
       "  0%|          | 0/1 [00:00<?, ?it/s]"
      ]
     },
     "metadata": {},
     "output_type": "display_data"
    },
    {
     "data": {
      "application/vnd.jupyter.widget-view+json": {
       "model_id": "3f22b84fc0684df489d0c7169fd2faff",
       "version_major": 2,
       "version_minor": 0
      },
      "text/plain": [
       "  0%|          | 0/60 [00:00<?, ?it/s]"
      ]
     },
     "metadata": {},
     "output_type": "display_data"
    }
   ],
   "source": [
    "def process_text(text, remove_stopwords=True):\n",
    "    return [token.lemma_ for token in nlp(text) if not ((remove_stopwords and token.is_stop) or token.is_punct or token.is_space)]\n",
    "\n",
    "nr_of_words = [1200]\n",
    "freqworddict = {str(k): [] for k in nr_of_words}\n",
    "\n",
    "for number in tqdm(freqworddict.keys(), total=len(freqworddict)):\n",
    "    freqworddict[number] = process_text(' '.join(top_n_list('nl', int(number))), remove_stopwords=True)\n",
    "    # print(len(freqworddict[number]))\n",
    "\n",
    "conferenceworddict = {k: {} for k in df.columns}\n",
    "#print(conferenceworddict)\n",
    "for column in tqdm(df.columns, total=len(df.columns)):\n",
    "        conference_words = df.loc[:, column]\n",
    "        conferenceworddict[column]['totalwords'] = conference_words.sum()\n",
    "        for number in freqworddict:   \n",
    "            conferenceworddict[column][f'top{number}basicwords'] = 0 \n",
    "\n",
    "            for word, count in conference_words.iteritems():\n",
    "                    if word in freqworddict[number]:\n",
    "                        conferenceworddict[column][f'top{number}basicwords'] += count"
   ]
  },
  {
   "cell_type": "code",
   "execution_count": 56,
   "id": "2958163f",
   "metadata": {},
   "outputs": [
    {
     "data": {
      "text/plain": [
       "{'totalwords': 1665.0, 'top1200basicwords': 942.0}"
      ]
     },
     "execution_count": 56,
     "metadata": {},
     "output_type": "execute_result"
    }
   ],
   "source": [
    "list(conferenceworddict.keys())\n",
    "conferenceworddict['2020-03-06']"
   ]
  },
  {
   "cell_type": "code",
   "execution_count": 57,
   "id": "0dc9e5b6",
   "metadata": {},
   "outputs": [
    {
     "data": {
      "text/plain": [
       "['top1200basicwords']"
      ]
     },
     "execution_count": 57,
     "metadata": {},
     "output_type": "execute_result"
    }
   ],
   "source": [
    "l3 = conferenceworddict[list(conferenceworddict.keys())[0]].keys()\n",
    "l3 = [x for x in l3 if 'basicwords' in x]\n",
    "l3"
   ]
  },
  {
   "cell_type": "code",
   "execution_count": 58,
   "id": "5ef50f5b",
   "metadata": {
    "scrolled": false
   },
   "outputs": [
    {
     "name": "stdout",
     "output_type": "stream",
     "text": [
      "[['top1200basicwords'],\n",
      " [0.57],\n",
      " [0.57],\n",
      " [0.56],\n",
      " [0.56],\n",
      " [0.56],\n",
      " [0.61],\n",
      " [0.56],\n",
      " [0.58],\n",
      " [0.59],\n",
      " [0.58],\n",
      " [0.62],\n",
      " [0.61],\n",
      " [0.57],\n",
      " [0.59],\n",
      " [0.57],\n",
      " [0.57],\n",
      " [0.58],\n",
      " [0.56],\n",
      " [0.6],\n",
      " [0.6],\n",
      " [0.56],\n",
      " [0.6],\n",
      " [0.58],\n",
      " [0.63],\n",
      " [0.53],\n",
      " [0.6],\n",
      " [0.59],\n",
      " [0.55],\n",
      " [0.57],\n",
      " [0.55],\n",
      " [0.58],\n",
      " [0.55],\n",
      " [0.58],\n",
      " [0.58],\n",
      " [0.55],\n",
      " [0.55],\n",
      " [0.61],\n",
      " [0.58],\n",
      " [0.57],\n",
      " [0.56],\n",
      " [0.54],\n",
      " [0.56],\n",
      " [0.56],\n",
      " [0.57],\n",
      " [0.56],\n",
      " [0.56],\n",
      " [0.56],\n",
      " [0.58],\n",
      " [0.58],\n",
      " [0.56],\n",
      " [0.56],\n",
      " [0.58],\n",
      " [0.57],\n",
      " [0.58],\n",
      " [0.57],\n",
      " [0.57],\n",
      " [0.58],\n",
      " [0.54],\n",
      " [0.56],\n",
      " [0.57]]\n"
     ]
    }
   ],
   "source": [
    "from pprint import pprint\n",
    "l = [l3]\n",
    "# Zonder Stopwoorden\n",
    "for conference in conferenceworddict:\n",
    "    l2 = []\n",
    "    for key in l3:\n",
    "        conferenceworddict[conference][f'percentage_{key}'] = float(format(round(conferenceworddict[conference][key] / conferenceworddict[conference]['totalwords'], 2), '.2f'))\n",
    "        l2.append(conferenceworddict[conference][f'percentage_{key}'])\n",
    "    l.append(l2)\n",
    "#pprint(conferenceworddict)\n",
    "pprint(l)"
   ]
  },
  {
   "cell_type": "code",
   "execution_count": 23,
   "id": "664fb778",
   "metadata": {},
   "outputs": [
    {
     "data": {
      "text/plain": [
       "0.46"
      ]
     },
     "execution_count": 23,
     "metadata": {},
     "output_type": "execute_result"
    }
   ],
   "source": [
    "df3['basicwords1200'][0]"
   ]
  },
  {
   "cell_type": "code",
   "execution_count": 64,
   "id": "428b2247",
   "metadata": {},
   "outputs": [
    {
     "data": {
      "text/plain": [
       "Text(30, 0.46, 'percentage of top 1200 basic words in nos.nl articles')"
      ]
     },
     "execution_count": 64,
     "metadata": {},
     "output_type": "execute_result"
    },
    {
     "data": {
      "text/plain": [
       "<Figure size 432x288 with 0 Axes>"
      ]
     },
     "metadata": {},
     "output_type": "display_data"
    },
    {
     "data": {
      "image/png": "[encoded data removed]",
      "text/plain": [
       "<Figure size 1440x864 with 1 Axes>"
      ]
     },
     "metadata": {
      "needs_background": "light"
     },
     "output_type": "display_data"
    }
   ],
   "source": [
    "from matplotlib import pyplot as plt\n",
    "plt.figure()\n",
    "plt.rcParams.update({'font.size': 18}) # must set in top\n",
    "df1 = pd.DataFrame(data=l[1:], columns=l[0])\n",
    "# df2 = pd.DataFrame(data=l[1:], columns=l[0])\n",
    "#df3 = pd.DataFrame(data=l[1:], columns=l[0])\n",
    "#lines = df2.plot.line()\n",
    "customdata = df1\n",
    "a = customdata.plot.line(figsize=(20,12))\n",
    "# a = customdata.plot.bar(figsize=(6,9))\n",
    "a.set_ylim(0, 1)\n",
    "a.set_xlim(0, 59)\n",
    "# a.set_xlabel('Press Conferences')\n",
    "a.set_ylabel('percentage of basic words')\n",
    "a.set_xlabel(\"Press Conferences\") # dataset of 'nos.nl' Articles\n",
    "a.xaxis.get_major_ticks()[0].label1.set_visible(False)\n",
    "a.axhline(y=df3['basicwords1200'][0], xmin=0, xmax=60, color='red')\n",
    "a.text(30, 0.46, 'percentage of top 1200 basic words in nos.nl articles', fontsize=14, va='center', ha='center', backgroundcolor='w')"
   ]
  },
  {
   "cell_type": "code",
   "execution_count": 20,
   "id": "e324df81",
   "metadata": {},
   "outputs": [],
   "source": [
    "urls = pd.Series(urls)\n",
    "urls = urls[urls.str.contains('/artikel/')]"
   ]
  },
  {
   "cell_type": "code",
   "execution_count": 23,
   "id": "4e66fe67",
   "metadata": {},
   "outputs": [
    {
     "data": {
      "text/plain": [
       "'/artikel/2332717-politiemol-mark-m-krijgt-ook-in-hoger-beroep-vijf-jaar-cel'"
      ]
     },
     "execution_count": 23,
     "metadata": {},
     "output_type": "execute_result"
    }
   ],
   "source": [
    "urls.iloc[27]"
   ]
  },
  {
   "cell_type": "code",
   "execution_count": 26,
   "id": "cfe19ab8",
   "metadata": {},
   "outputs": [],
   "source": [
    "from datetime import datetime\n",
    "\n",
    "datelist = pd.date_range('01/04/2020', periods=100).tolist()"
   ]
  },
  {
   "cell_type": "code",
   "execution_count": 30,
   "id": "ac3cc879",
   "metadata": {},
   "outputs": [
    {
     "data": {
      "text/plain": [
       "'26-01-2022'"
      ]
     },
     "execution_count": 30,
     "metadata": {},
     "output_type": "execute_result"
    }
   ],
   "source": [
    "datetime.today().strftime('%d-%m-%Y')"
   ]
  },
  {
   "cell_type": "code",
   "execution_count": 113,
   "id": "e4b14027",
   "metadata": {},
   "outputs": [],
   "source": [
    "import pandas as pd\n",
    "from bs4 import BeautifulSoup\n",
    "import pathlib\n",
    "import requests\n",
    "from tqdm.notebook import tqdm\n",
    "import os\n",
    "\n",
    "pd.set_option('display.max_rows', None)"
   ]
  },
  {
   "cell_type": "code",
   "execution_count": 135,
   "id": "067ed985",
   "metadata": {},
   "outputs": [],
   "source": [
    "# https://nos.nl/nieuws/archief/2020-05-25\n",
    "\n",
    "ARTICLE_OUTPUT_FOLDER = '../input/articles'\n",
    "NOS_ARCHIVE_URL = 'https://nos.nl/nieuws/archief/'\n",
    "NOS_URL = 'https://nos.nl'"
   ]
  },
  {
   "cell_type": "code",
   "execution_count": 68,
   "id": "866c9729",
   "metadata": {
    "collapsed": true
   },
   "outputs": [
    {
     "data": {
      "text/plain": [
       "['2020-04-01',\n",
       " '2020-04-02',\n",
       " '2020-04-03',\n",
       " '2020-04-04',\n",
       " '2020-04-05',\n",
       " '2020-04-06',\n",
       " '2020-04-07',\n",
       " '2020-04-08',\n",
       " '2020-04-09',\n",
       " '2020-04-10',\n",
       " '2020-04-11',\n",
       " '2020-04-12',\n",
       " '2020-04-13',\n",
       " '2020-04-14',\n",
       " '2020-04-15',\n",
       " '2020-04-16',\n",
       " '2020-04-17',\n",
       " '2020-04-18',\n",
       " '2020-04-19',\n",
       " '2020-04-20',\n",
       " '2020-04-21',\n",
       " '2020-04-22',\n",
       " '2020-04-23',\n",
       " '2020-04-24',\n",
       " '2020-04-25',\n",
       " '2020-04-26',\n",
       " '2020-04-27',\n",
       " '2020-04-28',\n",
       " '2020-04-29',\n",
       " '2020-04-30']"
      ]
     },
     "execution_count": 68,
     "metadata": {},
     "output_type": "execute_result"
    }
   ],
   "source": [
    "dates = [x.strftime('%Y-%m-%d') for x in pd.date_range(start = '2020-04-01',end='2020-04-30', freq='D')] # datetime.today()\n",
    "dates"
   ]
  },
  {
   "cell_type": "code",
   "execution_count": null,
   "id": "220bd6c0",
   "metadata": {},
   "outputs": [],
   "source": [
    "def get_article_urls(dates):\n",
    "    article_urls_dict = {}\n",
    "    \n",
    "    for date in tqdm(dates, total=len(dates)):\n",
    "        urls = []\n",
    "        response = requests.get(NOS_ARCHIVE_URL+date)\n",
    "        soup = BeautifulSoup(response.content, \"html.parser\")\n",
    "        \n",
    "        for page_content in soup.findAll('a', href=True):\n",
    "                urls.append(page_content['href'])\n",
    "        urls = pd.Series(urls)\n",
    "        urls = urls[urls.str.contains('/artikel/')]\n",
    "        urls = NOS_URL + urls\n",
    "        article_urls_dict[date] = list(urls)\n",
    "        \n",
    "    return(article_urls_dict)\n",
    "\n",
    "article_urls = get_article_urls(dates)"
   ]
  },
  {
   "cell_type": "code",
   "execution_count": 144,
   "id": "4e35ccfc",
   "metadata": {
    "scrolled": false
   },
   "outputs": [
    {
     "data": {
      "application/vnd.jupyter.widget-view+json": {
       "model_id": "1ab2581c252b46fa96d4138db8ab4dd6",
       "version_major": 2,
       "version_minor": 0
      },
      "text/plain": [
       "  0%|          | 0/30 [00:00<?, ?it/s]"
      ]
     },
     "metadata": {},
     "output_type": "display_data"
    },
    {
     "data": {
      "application/vnd.jupyter.widget-view+json": {
       "model_id": "0cc339afb712486aba94f93ba5981cf1",
       "version_major": 2,
       "version_minor": 0
      },
      "text/plain": [
       "  0%|          | 0/37 [00:00<?, ?it/s]"
      ]
     },
     "metadata": {},
     "output_type": "display_data"
    },
    {
     "data": {
      "application/vnd.jupyter.widget-view+json": {
       "model_id": "a918910fc02e44e586dadbb929619e16",
       "version_major": 2,
       "version_minor": 0
      },
      "text/plain": [
       "  0%|          | 0/34 [00:00<?, ?it/s]"
      ]
     },
     "metadata": {},
     "output_type": "display_data"
    },
    {
     "data": {
      "application/vnd.jupyter.widget-view+json": {
       "model_id": "eaa038305dd0443790aaf187781970bb",
       "version_major": 2,
       "version_minor": 0
      },
      "text/plain": [
       "  0%|          | 0/47 [00:00<?, ?it/s]"
      ]
     },
     "metadata": {},
     "output_type": "display_data"
    },
    {
     "data": {
      "application/vnd.jupyter.widget-view+json": {
       "model_id": "e5cd5e7bc6e6459b9d527b1c1b7b14b5",
       "version_major": 2,
       "version_minor": 0
      },
      "text/plain": [
       "  0%|          | 0/25 [00:00<?, ?it/s]"
      ]
     },
     "metadata": {},
     "output_type": "display_data"
    },
    {
     "data": {
      "application/vnd.jupyter.widget-view+json": {
       "model_id": "e4091b36e1e546e49be571b7131b1fed",
       "version_major": 2,
       "version_minor": 0
      },
      "text/plain": [
       "  0%|          | 0/25 [00:00<?, ?it/s]"
      ]
     },
     "metadata": {},
     "output_type": "display_data"
    },
    {
     "data": {
      "application/vnd.jupyter.widget-view+json": {
       "model_id": "0cd7beed18ca455db98cabd060b70829",
       "version_major": 2,
       "version_minor": 0
      },
      "text/plain": [
       "  0%|          | 0/42 [00:00<?, ?it/s]"
      ]
     },
     "metadata": {},
     "output_type": "display_data"
    },
    {
     "data": {
      "application/vnd.jupyter.widget-view+json": {
       "model_id": "4374c4e27ca44c528639dabb7071d2b5",
       "version_major": 2,
       "version_minor": 0
      },
      "text/plain": [
       "  0%|          | 0/40 [00:00<?, ?it/s]"
      ]
     },
     "metadata": {},
     "output_type": "display_data"
    },
    {
     "data": {
      "application/vnd.jupyter.widget-view+json": {
       "model_id": "004270f6c0de4cd9b0fc278ff75d5cb7",
       "version_major": 2,
       "version_minor": 0
      },
      "text/plain": [
       "  0%|          | 0/46 [00:00<?, ?it/s]"
      ]
     },
     "metadata": {},
     "output_type": "display_data"
    },
    {
     "data": {
      "application/vnd.jupyter.widget-view+json": {
       "model_id": "aba719f661f3449f8cd6406b29f1fca2",
       "version_major": 2,
       "version_minor": 0
      },
      "text/plain": [
       "  0%|          | 0/36 [00:00<?, ?it/s]"
      ]
     },
     "metadata": {},
     "output_type": "display_data"
    },
    {
     "data": {
      "application/vnd.jupyter.widget-view+json": {
       "model_id": "3e7cc7c51df44c7ca5ac005b5f06d50a",
       "version_major": 2,
       "version_minor": 0
      },
      "text/plain": [
       "  0%|          | 0/40 [00:00<?, ?it/s]"
      ]
     },
     "metadata": {},
     "output_type": "display_data"
    },
    {
     "data": {
      "application/vnd.jupyter.widget-view+json": {
       "model_id": "2a56acce0ace45839b127e01a359fd56",
       "version_major": 2,
       "version_minor": 0
      },
      "text/plain": [
       "  0%|          | 0/29 [00:00<?, ?it/s]"
      ]
     },
     "metadata": {},
     "output_type": "display_data"
    },
    {
     "data": {
      "application/vnd.jupyter.widget-view+json": {
       "model_id": "4922f7546daa4499a358fa236e4b45f3",
       "version_major": 2,
       "version_minor": 0
      },
      "text/plain": [
       "  0%|          | 0/31 [00:00<?, ?it/s]"
      ]
     },
     "metadata": {},
     "output_type": "display_data"
    },
    {
     "data": {
      "application/vnd.jupyter.widget-view+json": {
       "model_id": "73cd0f6411d6410089cfe414738334ac",
       "version_major": 2,
       "version_minor": 0
      },
      "text/plain": [
       "  0%|          | 0/29 [00:00<?, ?it/s]"
      ]
     },
     "metadata": {},
     "output_type": "display_data"
    },
    {
     "data": {
      "application/vnd.jupyter.widget-view+json": {
       "model_id": "b9154566ccd64dba8ed3537e4f84ed97",
       "version_major": 2,
       "version_minor": 0
      },
      "text/plain": [
       "  0%|          | 0/35 [00:00<?, ?it/s]"
      ]
     },
     "metadata": {},
     "output_type": "display_data"
    },
    {
     "data": {
      "application/vnd.jupyter.widget-view+json": {
       "model_id": "ea46c8bbd96947fc867b273564635cda",
       "version_major": 2,
       "version_minor": 0
      },
      "text/plain": [
       "  0%|          | 0/46 [00:00<?, ?it/s]"
      ]
     },
     "metadata": {},
     "output_type": "display_data"
    },
    {
     "data": {
      "application/vnd.jupyter.widget-view+json": {
       "model_id": "7480ff91601f469d94889c97424af92a",
       "version_major": 2,
       "version_minor": 0
      },
      "text/plain": [
       "  0%|          | 0/41 [00:00<?, ?it/s]"
      ]
     },
     "metadata": {},
     "output_type": "display_data"
    },
    {
     "data": {
      "application/vnd.jupyter.widget-view+json": {
       "model_id": "05b89a070c964d439e722e30097b4c57",
       "version_major": 2,
       "version_minor": 0
      },
      "text/plain": [
       "  0%|          | 0/40 [00:00<?, ?it/s]"
      ]
     },
     "metadata": {},
     "output_type": "display_data"
    },
    {
     "data": {
      "application/vnd.jupyter.widget-view+json": {
       "model_id": "44937aad53d34b88b98e776cba5dd1af",
       "version_major": 2,
       "version_minor": 0
      },
      "text/plain": [
       "  0%|          | 0/23 [00:00<?, ?it/s]"
      ]
     },
     "metadata": {},
     "output_type": "display_data"
    },
    {
     "data": {
      "application/vnd.jupyter.widget-view+json": {
       "model_id": "ef1bfae2aa8647fb9889f5db0c9ee041",
       "version_major": 2,
       "version_minor": 0
      },
      "text/plain": [
       "  0%|          | 0/24 [00:00<?, ?it/s]"
      ]
     },
     "metadata": {},
     "output_type": "display_data"
    },
    {
     "data": {
      "application/vnd.jupyter.widget-view+json": {
       "model_id": "905312d7188b44bd80fddfb540c8b9d3",
       "version_major": 2,
       "version_minor": 0
      },
      "text/plain": [
       "  0%|          | 0/47 [00:00<?, ?it/s]"
      ]
     },
     "metadata": {},
     "output_type": "display_data"
    },
    {
     "data": {
      "application/vnd.jupyter.widget-view+json": {
       "model_id": "2986a0784881472aae0101335f42ee53",
       "version_major": 2,
       "version_minor": 0
      },
      "text/plain": [
       "  0%|          | 0/47 [00:00<?, ?it/s]"
      ]
     },
     "metadata": {},
     "output_type": "display_data"
    },
    {
     "data": {
      "application/vnd.jupyter.widget-view+json": {
       "model_id": "b0483350dcbc46ee93eeb8a50a4112ac",
       "version_major": 2,
       "version_minor": 0
      },
      "text/plain": [
       "  0%|          | 0/44 [00:00<?, ?it/s]"
      ]
     },
     "metadata": {},
     "output_type": "display_data"
    },
    {
     "data": {
      "application/vnd.jupyter.widget-view+json": {
       "model_id": "f74239f328994aa7963af22abc528126",
       "version_major": 2,
       "version_minor": 0
      },
      "text/plain": [
       "  0%|          | 0/41 [00:00<?, ?it/s]"
      ]
     },
     "metadata": {},
     "output_type": "display_data"
    },
    {
     "data": {
      "application/vnd.jupyter.widget-view+json": {
       "model_id": "17726f68845742ae9b8c9008e0ffeaf2",
       "version_major": 2,
       "version_minor": 0
      },
      "text/plain": [
       "  0%|          | 0/49 [00:00<?, ?it/s]"
      ]
     },
     "metadata": {},
     "output_type": "display_data"
    },
    {
     "data": {
      "application/vnd.jupyter.widget-view+json": {
       "model_id": "9b4173050ef1419fb4a9fe1c3d3714af",
       "version_major": 2,
       "version_minor": 0
      },
      "text/plain": [
       "  0%|          | 0/22 [00:00<?, ?it/s]"
      ]
     },
     "metadata": {},
     "output_type": "display_data"
    },
    {
     "data": {
      "application/vnd.jupyter.widget-view+json": {
       "model_id": "63785bfe29134dc783c9a0396eab57f3",
       "version_major": 2,
       "version_minor": 0
      },
      "text/plain": [
       "  0%|          | 0/25 [00:00<?, ?it/s]"
      ]
     },
     "metadata": {},
     "output_type": "display_data"
    },
    {
     "data": {
      "application/vnd.jupyter.widget-view+json": {
       "model_id": "87c8b9f0310a4769be728450be8eaee7",
       "version_major": 2,
       "version_minor": 0
      },
      "text/plain": [
       "  0%|          | 0/38 [00:00<?, ?it/s]"
      ]
     },
     "metadata": {},
     "output_type": "display_data"
    },
    {
     "data": {
      "application/vnd.jupyter.widget-view+json": {
       "model_id": "07b0d74995cb4e8797865abd27c1d836",
       "version_major": 2,
       "version_minor": 0
      },
      "text/plain": [
       "  0%|          | 0/46 [00:00<?, ?it/s]"
      ]
     },
     "metadata": {},
     "output_type": "display_data"
    },
    {
     "data": {
      "application/vnd.jupyter.widget-view+json": {
       "model_id": "66d3a33d1385412ab930a4d59dc07c74",
       "version_major": 2,
       "version_minor": 0
      },
      "text/plain": [
       "  0%|          | 0/44 [00:00<?, ?it/s]"
      ]
     },
     "metadata": {},
     "output_type": "display_data"
    },
    {
     "data": {
      "application/vnd.jupyter.widget-view+json": {
       "model_id": "1b29e08215764fcda0f187bce5725deb",
       "version_major": 2,
       "version_minor": 0
      },
      "text/plain": [
       "  0%|          | 0/45 [00:00<?, ?it/s]"
      ]
     },
     "metadata": {},
     "output_type": "display_data"
    }
   ],
   "source": [
    "def get_article_text(article_url, date):\n",
    "    file_name = f\"{ARTICLE_OUTPUT_FOLDER}/{date}/{article_url[article_url.find('/artikel/')+9:]}\"\n",
    "    \n",
    "    if not os.path.exists(file_name):\n",
    "        response_text = requests.get(article_url)\n",
    "        soup = BeautifulSoup(response_text.content, \"html.parser\")\n",
    "        raw_paragraphs = soup.find_all('p', class_=\"text_3v_J6Y0G\")\n",
    "        texts = [p.get_text() for p in raw_paragraphs]\n",
    "\n",
    "        with open(file_name, \"w\", encoding='utf-8') as txt_file:\n",
    "            txt_file.write('\\n'.join(texts))\n",
    "\n",
    "pathlib.Path(ARTICLE_OUTPUT_FOLDER).mkdir(parents=True, exist_ok=True)\n",
    "\n",
    "i = 0\n",
    "for date in tqdm(article_urls, total=len(article_urls)):\n",
    "    pathlib.Path(ARTICLE_OUTPUT_FOLDER + '/' + date).mkdir(parents=True, exist_ok=True)\n",
    "    for article_url in tqdm(article_urls[date]):\n",
    "        get_article_text(article_url, date)\n",
    "    i += 1\n",
    "    if i == 1000:\n",
    "        break"
   ]
  },
  {
   "cell_type": "code",
   "execution_count": 147,
   "id": "0e5fd23c",
   "metadata": {},
   "outputs": [
    {
     "name": "stdout",
     "output_type": "stream",
     "text": [
      "1029\n"
     ]
    }
   ],
   "source": [
    "file_count = sum(len(files) for _, _, files in os.walk('../input/articles/'))\n",
    "print(file_count)"
   ]
  },
  {
   "cell_type": "code",
   "execution_count": null,
   "id": "cede13ab",
   "metadata": {},
   "outputs": [],
   "source": []
  }
 ],
 "metadata": {
  "kernelspec": {
   "display_name": "Python 3 (ipykernel)",
   "language": "python",
   "name": "python3"
  },
  "language_info": {
   "codemirror_mode": {
    "name": "ipython",
    "version": 3
   },
   "file_extension": ".py",
   "mimetype": "text/x-python",
   "name": "python",
   "nbconvert_exporter": "python",
   "pygments_lexer": "ipython3",
   "version": "3.8.0"
  }
 },
 "nbformat": 4,
 "nbformat_minor": 5
}
