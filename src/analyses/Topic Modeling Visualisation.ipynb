{
 "cells": [
  {
   "cell_type": "markdown",
   "id": "8ce3c830",
   "metadata": {},
   "source": [
    "<div class=\"alert alert-success\" style=\"font-size: 16px;\">\n",
    "    <div style=\"font-size: 22px; font-weight:bold; margin: 10px 0px;\">Topic Modeling</div>\n",
    "After preprocessing we have to vectorize our preprocessed text and train our topic model.\n",
    "</div>"
   ]
  },
  {
   "cell_type": "markdown",
   "id": "d1dd84e7",
   "metadata": {},
   "source": [
    "## Imports\n"
   ]
  },
  {
   "cell_type": "code",
   "execution_count": 6,
   "id": "9f0fce16",
   "metadata": {},
   "outputs": [
    {
     "name": "stdout",
     "output_type": "stream",
     "text": [
      "C:\\Users\\matth\\Documents\\dm_project\\src\\analyses\n"
     ]
    }
   ],
   "source": [
    "import os\n",
    "print(os.getcwd())\n",
    "#!py -m spacy download en_core_web_sm\n",
    "\n",
    "import spacy\n",
    "from util.conferences import get_conference_data\n",
    "from tqdm.notebook import tqdm\n",
    "import spacy\n",
    "\n",
    "try:\n",
    "    nlp\n",
    "except:\n",
    "    nlp = spacy.load(\"nl_core_news_sm\")"
   ]
  },
  {
   "cell_type": "markdown",
   "id": "76c8fe8b",
   "metadata": {},
   "source": [
    "## Get Data"
   ]
  },
  {
   "cell_type": "code",
   "execution_count": 7,
   "id": "2157a2c8",
   "metadata": {},
   "outputs": [],
   "source": [
    "conferences_data = get_conference_data()"
   ]
  },
  {
   "cell_type": "code",
   "execution_count": 14,
   "id": "d48ef519",
   "metadata": {},
   "outputs": [],
   "source": [
    "text_by_Rutte = [conference['text'] for conference in conferences_data[0]]\n",
    "text_by_de_jonge = [conference['text'] for conference in conferences_data[1]]\n",
    "\n",
    "merged_texts = [text_by_Rutte, text_by_de_jonge]\n",
    "merged_texts = [item for sublist in merged_texts for item in sublist]"
   ]
  },
  {
   "cell_type": "markdown",
   "id": "7f8d169e",
   "metadata": {},
   "source": [
    "## Tokenize Texts"
   ]
  },
  {
   "cell_type": "code",
   "execution_count": 15,
   "id": "16029d9d",
   "metadata": {},
   "outputs": [
    {
     "data": {
      "text/plain": "  0%|          | 0/58 [00:00<?, ?it/s]",
      "application/vnd.jupyter.widget-view+json": {
       "version_major": 2,
       "version_minor": 0,
       "model_id": "6944a271f66c44388ce3671155760ab1"
      }
     },
     "metadata": {},
     "output_type": "display_data"
    }
   ],
   "source": [
    "processed_texts = [text for text in\n",
    "                   tqdm(nlp.pipe(merged_texts, n_process=1, disable=[\"ner\", \"parser\"]), total=len(merged_texts))]"
   ]
  },
  {
   "cell_type": "code",
   "execution_count": 10,
   "id": "b1164ab1",
   "metadata": {},
   "outputs": [],
   "source": [
    "# processed_texts[:10]"
   ]
  },
  {
   "cell_type": "code",
   "execution_count": 16,
   "id": "a9299c2e",
   "metadata": {},
   "outputs": [],
   "source": [
    "# word.pos_ == 'VERB' and not \n",
    "tokenized_texts_lem = [[word.lemma_ for word in processed_text if not word.is_stop and not word.is_punct] for\n",
    "                       processed_text in processed_texts]"
   ]
  },
  {
   "cell_type": "markdown",
   "id": "0b457880",
   "metadata": {},
   "source": [
    "## Vectorization"
   ]
  },
  {
   "cell_type": "code",
   "execution_count": 17,
   "id": "18d5c740",
   "metadata": {},
   "outputs": [],
   "source": [
    "from gensim.corpora import Dictionary\n",
    "\n",
    "MIN_DF = 1  # minium document frequency\n",
    "MAX_DF = 0.6  # maximum document frequency\n",
    "\n",
    "dictionary = Dictionary(tokenized_texts_lem)  # get the vocabulary\n",
    "dictionary.filter_extremes(no_below=MIN_DF,\n",
    "                           no_above=MAX_DF)\n",
    "corpus = [dictionary.doc2bow(text) for text in tokenized_texts_lem]"
   ]
  },
  {
   "cell_type": "raw",
   "id": "3ac54a44",
   "metadata": {},
   "source": [
    "dictionary"
   ]
  },
  {
   "cell_type": "markdown",
   "id": "a62ff9ac",
   "metadata": {},
   "source": [
    "## Train Model"
   ]
  },
  {
   "cell_type": "code",
   "execution_count": 18,
   "id": "34e46501",
   "metadata": {},
   "outputs": [],
   "source": [
    "from gensim.models.wrappers import LdaMallet\n",
    "\n",
    "os.environ.update({'MALLET_HOME': r'C:/mallet/'})\n",
    "PATH_TO_MALLET = r'C:/mallet/bin/mallet.bat'\n",
    "\n",
    "N_TOPICS = 2\n",
    "N_ITERATIONS = 1000  # usually 1000 will do\n",
    "\n",
    "lda = LdaMallet(PATH_TO_MALLET,\n",
    "                corpus=corpus,\n",
    "                id2word=dictionary,\n",
    "                num_topics=N_TOPICS,\n",
    "                optimize_interval=10,\n",
    "                iterations=N_ITERATIONS)"
   ]
  },
  {
   "cell_type": "markdown",
   "id": "a8c89505",
   "metadata": {},
   "source": [
    "## Show Topics"
   ]
  },
  {
   "cell_type": "code",
   "execution_count": 19,
   "id": "7eaaeb48",
   "metadata": {},
   "outputs": [
    {
     "name": "stdout",
     "output_type": "stream",
     "text": [
      "Topic 0: prikken daadwerkelijk maat vaccinatiegraad gezondheidsraad toegangstest levering besmettingsgraad regio 60 bescherming kortom verantwoorden astrazeneca leveren organiseren naam huisarts routekaart opbouwen\n",
      "Topic 1: uur hugo jonge avondklok pakket lockdown school winkel helaas maximaal corona kind   variant ervoor afstand feit beperking burgemeester discussie\n"
     ]
    }
   ],
   "source": [
    "for topic in range(N_TOPICS):\n",
    "    words = lda.show_topic(topic, 20)\n",
    "    topic_n_words = ' '.join([word[0] for word in words])\n",
    "    print('Topic {}: {}'.format(str(topic), topic_n_words))"
   ]
  },
  {
   "cell_type": "markdown",
   "id": "6c3885fa",
   "metadata": {},
   "source": [
    "## Visualisation with pyLDAvis"
   ]
  },
  {
   "cell_type": "code",
   "execution_count": 22,
   "id": "397b81d7",
   "metadata": {
    "pycharm": {
     "name": "#%%\n"
    }
   },
   "outputs": [
    {
     "data": {
      "text/plain": "PreparedData(topic_coordinates=              x    y  topics  cluster       Freq\ntopic                                           \n1      0.156316  0.0       1        1  57.254423\n0     -0.156316  0.0       2        1  42.745577, topic_info=                 Term        Freq       Total Category  logprob  loglift\n1546    daadwerkelijk  131.000000  131.000000  Default  30.0000  30.0000\n2248  gezondheidsraad  112.000000  112.000000  Default  29.0000  29.0000\n351           prikken  140.000000  140.000000  Default  28.0000  28.0000\n3618     toegangstest  110.000000  110.000000  Default  27.0000  27.0000\n209              hugo  151.000000  151.000000  Default  26.0000  26.0000\n...               ...         ...         ...      ...      ...      ...\n784           medisch   56.890965   85.270203   Topic2  -6.0164   0.4452\n743              juni   60.954605  119.740170   Topic2  -5.9474   0.1747\n162              fase   57.906875   97.435100   Topic2  -5.9987   0.3296\n912            spelen   52.827325   70.057576   Topic2  -6.0905   0.5676\n355       quarantaine   52.827325   72.084665   Topic2  -6.0905   0.5391\n\n[213 rows x 6 columns], token_table=      Topic      Freq         Term\nterm                              \n10        1  0.986637         2021\n1988      1  0.986637           28\n1483      1  0.022630           60\n1483      2  0.973077           60\n534       2  0.984339  aanschaffen\n...     ...       ...          ...\n1043      1  1.005253     zaterdag\n1061      1  0.875526        zwaar\n1061      2  0.121909        zwaar\n1982      1  0.707179             \n1982      2  0.292391             \n\n[253 rows x 3 columns], R=30, lambda_step=0.01, plot_opts={'xlab': 'PC1', 'ylab': 'PC2'}, topic_order=[2, 1])",
      "text/html": "\n<link rel=\"stylesheet\" type=\"text/css\" href=\"https://cdn.jsdelivr.net/gh/bmabey/pyLDAvis@3.3.1/pyLDAvis/js/ldavis.v1.0.0.css\">\n\n\n<div id=\"ldavis_el2038424497206676005904469688\"></div>\n<script type=\"text/javascript\">\n\nvar ldavis_el2038424497206676005904469688_data = {\"mdsDat\": {\"x\": [0.1563164452881642, -0.1563164452881642], \"y\": [0.0, 0.0], \"topics\": [1, 2], \"cluster\": [1, 1], \"Freq\": [57.25442252768524, 42.74557747231475]}, \"tinfo\": {\"Term\": [\"daadwerkelijk\", \"gezondheidsraad\", \"prikken\", \"toegangstest\", \"hugo\", \"jonge\", \"levering\", \"besmettingsgraad\", \"vaccinatiegraad\", \"pakket\", \"uur\", \"maat\", \"avondklok\", \"60\", \"astrazeneca\", \"maximaal\", \"kortom\", \"winkel\", \"leveren\", \"naam\", \"opbouwen\", \"burgemeester\", \"lastig\", \"afstand\", \"bescherming\", \"avond\", \"huisarts\", \"ema\", \"risiconiveau\", \"ervoor\", \"2021\", \"aanzienlijk\", \"alarmeren\", \"besmettingshaard\", \"blijkbaar\", \"boa\", \"burgemeester\", \"concreet\", \"dichtbij\", \"discotheek\", \"foutloos\", \"goedenavond\", \"grotendeels\", \"heftig\", \"heilig\", \"herhalen\", \"hugo\", \"kajsa\", \"knuffelen\", \"kritisch\", \"laboratorium\", \"leuk\", \"niet-medisch\", \"omstandigheid\", \"ongetwijfeld\", \"ontploffen\", \"outbreak\", \"overspring\", \"realiseren\", \"reproductiegetal\", \"jonge\", \"pakket\", \"maximaal\", \"lastig\", \"avond\", \"avondklok\", \"uitzondering\", \"coronatoegangsbewij\", \"handhaving\", \"zaterdag\", \"winkel\", \"verlengen\", \"nos\", \"team\", \"gedeeltelijk\", \"ontzettend\", \"bestrijden\", \"gast\", \"hopelijk\", \"mbo\", \"steunpakkett\", \"28\", \"verschrikkelijk\", \"kantoor\", \"oproep\", \"museum\", \"verruiming\", \"afstand\", \"uur\", \"persconferentie\", \"dringend\", \"praten\", \"ervoor\", \"inzicht\", \"helaas\", \"gevolg\", \"beperking\", \"gezondheid\", \"kerst\", \"discussie\", \"feit\", \"vanavond\", \"school\", \"maandag\", \"lockdown\", \"vertellen\", \"kind\", \"zwaar\", \"corona\", \"belang\", \"december\", \"\\u00a0\", \"variant\", \"maart\", \"vrijdag\", \"plek\", \"gedrag\", \"april\", \"regio\", \"aanvragen\", \"bijbenen\", \"boeteinstrument\", \"contracteren\", \"coronadashboard.rijksoverheid.nl\", \"dijk\", \"doornemen\", \"doorvrag\", \"enthousiast\", \"expert\", \"geloofwaardig\", \"hoeveelheid\", \"houseparty\", \"innovatief\", \"longziekte\", \"luchtcirculatiesystem\", \"medicus\", \"menen\", \"nagaan\", \"preventief\", \"spiken\", \"stabilisering\", \"testresultaat\", \"uittrekken\", \"verkoudheidsklacht\", \"vragensteller\", \"werkbaar\", \"aanschaffen\", \"basisschoolleeftijd\", \"bekende\", \"gezondheidsraad\", \"besmettingsgraad\", \"astrazeneca\", \"ema\", \"toegangstest\", \"setting\", \"context\", \"registratie\", \"richtlijn\", \"doelgroep\", \"toegang\", \"daadwerkelijk\", \"versnelling\", \"dusdanig\", \"pfizer\", \"astra\", \"veroorloven\", \"europese\", \"geweldig\", \"leveren\", \"spul\", \"commissie\", \"nul\", \"mekaar\", \"toelating\", \"vaccinatiebereidheid\", \"asymptomatisch\", \"datgene\", \"technisch\", \"naam\", \"60\", \"levering\", \"kortom\", \"opbouwen\", \"prikken\", \"aanzien\", \"app\", \"vaccinatiegraad\", \"type\", \"kwartaal\", \"maat\", \"alternatief\", \"risiconiveau\", \"winter\", \"huisarts\", \"infectie\", \"bescherming\", \"telkens\", \"verantwoorden\", \"indicator\", \"organiseren\", \"verschillend\", \"doormaken\", \"gebruik\", \"routekaart\", \"regio\", \"exact\", \"afnemen\", \"ernstig\", \"medisch\", \"juni\", \"fase\", \"spelen\", \"quarantaine\"], \"Freq\": [131.0, 112.0, 140.0, 110.0, 151.0, 147.0, 105.0, 91.0, 124.0, 137.0, 205.0, 136.0, 143.0, 88.0, 77.0, 116.0, 83.0, 122.0, 75.0, 71.0, 68.0, 86.0, 83.0, 93.0, 100.0, 78.0, 75.0, 47.0, 69.0, 97.0, 11.148986408869481, 12.162530627857617, 3.040632656964404, 3.040632656964404, 12.162530627857617, 13.17607484684575, 86.15125861399144, 24.325061255715234, 6.081265313928808, 29.392782350655906, 3.040632656964404, 24.325061255715234, 6.081265313928808, 31.419870788632174, 3.040632656964404, 12.162530627857617, 151.01808862923207, 3.040632656964404, 6.081265313928808, 6.081265313928808, 6.081265313928808, 15.203163284822022, 3.040632656964404, 11.148986408869481, 13.17607484684575, 3.040632656964404, 30.406326569644044, 6.081265313928808, 44.595945635477925, 12.162530627857617, 147.97745597226768, 137.84201378238632, 116.5575851836355, 83.11062595702704, 78.04290486208637, 142.909734877327, 61.82619735827622, 54.73138782535928, 53.71784360637114, 53.71784360637114, 121.62530627857618, 42.56885719750166, 41.55531297851352, 39.52822454053726, 37.501136102560984, 36.487591883572854, 35.47404766458472, 34.46050344559658, 34.46050344559658, 34.46050344559658, 34.46050344559658, 34.46050344559658, 33.44695922660845, 33.44695922660845, 33.44695922660845, 33.44695922660845, 33.44695922660845, 92.23252392792025, 197.64112270268626, 65.88037423422875, 61.82619735827622, 60.81265313928809, 94.25961236589653, 56.758476263335545, 118.58467362161177, 48.65012251143047, 86.15125861399144, 47.63657829244234, 63.853285796252486, 85.13771439500331, 88.17834705196772, 68.92100689119316, 126.69302737351686, 58.78556470131181, 127.70657159250497, 56.758476263335545, 109.46277565071856, 79.05644908107452, 110.47631986970669, 76.01581642411011, 83.11062595702704, 104.39505455577788, 101.35442189881348, 82.09708173803891, 67.90746267220503, 79.05644908107452, 80.06999330006265, 75.00227220512197, 69.9345511101813, 5.079550443250639, 1.0159100886501278, 1.0159100886501278, 9.143190797851151, 1.0159100886501278, 6.095460531900767, 1.0159100886501278, 1.0159100886501278, 6.095460531900767, 23.36593203895294, 1.0159100886501278, 3.0477302659503835, 1.0159100886501278, 6.095460531900767, 1.0159100886501278, 1.0159100886501278, 3.0477302659503835, 16.254561418402044, 4.063640354600511, 16.254561418402044, 2.0318201773002555, 1.0159100886501278, 3.0477302659503835, 3.0477302659503835, 1.0159100886501278, 1.0159100886501278, 2.0318201773002555, 8.127280709201022, 4.063640354600511, 1.0159100886501278, 112.76601984016419, 91.43190797851152, 77.20916673740972, 47.74777416655601, 109.71828957421381, 41.65231363465524, 39.62049345735499, 36.572763191404604, 34.54094301410435, 33.52503292545422, 30.477302659503835, 129.02058125856624, 26.413662304903326, 26.413662304903326, 26.413662304903326, 24.38184212760307, 22.350021950302814, 20.318201773002556, 20.318201773002556, 74.16143647145934, 19.30229168435243, 19.30229168435243, 19.30229168435243, 19.30229168435243, 18.286381595702302, 18.286381595702302, 18.286381595702302, 18.286381595702302, 18.286381595702302, 70.09779611685882, 86.35235753526086, 102.60691895366291, 81.27280709201023, 66.03415576225832, 132.06831152451664, 41.65231363465524, 38.60458336870486, 115.81375010611458, 45.71595398925576, 52.82732460980665, 121.90921063801534, 49.779594343856274, 62.98642549630793, 50.7955044325064, 67.05006585090844, 51.81141452115652, 84.32053735796062, 42.668223723305374, 79.24098691470998, 42.668223723305374, 72.12961629415908, 61.97051540765781, 49.779594343856274, 61.97051540765781, 66.03415576225832, 89.40008780121126, 52.82732460980665, 51.81141452115652, 60.95460531900767, 56.89096496440717, 60.95460531900767, 57.90687505305729, 52.82732460980665, 52.82732460980665], \"Total\": [131.0, 112.0, 140.0, 110.0, 151.0, 147.0, 105.0, 91.0, 124.0, 137.0, 205.0, 136.0, 143.0, 88.0, 77.0, 116.0, 83.0, 122.0, 75.0, 71.0, 68.0, 86.0, 83.0, 93.0, 100.0, 78.0, 75.0, 47.0, 69.0, 97.0, 11.148986408869481, 12.162530627857617, 3.040632656964404, 3.040632656964404, 12.162530627857617, 13.17607484684575, 86.15125861399144, 24.325061255715234, 6.081265313928808, 29.392782350655906, 3.040632656964404, 24.325061255715234, 6.081265313928808, 31.419870788632174, 3.040632656964404, 12.162530627857617, 151.01808862923207, 3.040632656964404, 6.081265313928808, 6.081265313928808, 6.081265313928808, 15.203163284822022, 3.040632656964404, 11.148986408869481, 13.17607484684575, 3.040632656964404, 30.406326569644044, 6.081265313928808, 44.595945635477925, 12.162530627857617, 147.97745597226768, 137.84201378238632, 116.5575851836355, 83.11062595702704, 78.04290486208637, 143.9256449659771, 61.82619735827622, 54.73138782535928, 53.71784360637114, 53.71784360637114, 122.6412163672263, 42.56885719750166, 41.55531297851352, 39.52822454053726, 37.501136102560984, 36.487591883572854, 35.47404766458472, 34.46050344559658, 34.46050344559658, 34.46050344559658, 34.46050344559658, 34.46050344559658, 33.44695922660845, 33.44695922660845, 33.44695922660845, 33.44695922660845, 33.44695922660845, 93.24843401657039, 205.76840341188728, 66.89628432287888, 62.84210744692635, 61.82856322793822, 97.30734263184691, 57.774386351985676, 126.71195433081279, 49.6660326000806, 91.23080905724208, 48.65248838109247, 66.90101606220287, 92.24908501555421, 97.32153784981887, 74.0005573344438, 148.02713923516956, 61.8332949672622, 153.10432380875818, 59.80620652928593, 133.84461777832163, 90.23146005622593, 139.9377124405604, 87.19082739926152, 102.41291764137947, 147.06327827908325, 151.13401624266976, 111.55847430889261, 76.03474338140605, 108.51784165192822, 127.81776746661866, 107.51139504192605, 159.33463891139257, 5.079550443250639, 1.0159100886501278, 1.0159100886501278, 9.143190797851151, 1.0159100886501278, 6.095460531900767, 1.0159100886501278, 1.0159100886501278, 6.095460531900767, 23.36593203895294, 1.0159100886501278, 3.0477302659503835, 1.0159100886501278, 6.095460531900767, 1.0159100886501278, 1.0159100886501278, 3.0477302659503835, 16.254561418402044, 4.063640354600511, 16.254561418402044, 2.0318201773002555, 1.0159100886501278, 3.0477302659503835, 3.0477302659503835, 1.0159100886501278, 1.0159100886501278, 2.0318201773002555, 8.127280709201022, 4.063640354600511, 1.0159100886501278, 112.76601984016419, 91.43190797851152, 77.20916673740972, 47.74777416655601, 110.73183379320194, 41.65231363465524, 39.62049345735499, 36.572763191404604, 34.54094301410435, 33.52503292545422, 30.477302659503835, 131.0476696965425, 26.413662304903326, 26.413662304903326, 26.413662304903326, 24.38184212760307, 22.350021950302814, 20.318201773002556, 20.318201773002556, 75.17498069044747, 19.30229168435243, 19.30229168435243, 19.30229168435243, 19.30229168435243, 18.286381595702302, 18.286381595702302, 18.286381595702302, 18.286381595702302, 18.286381595702302, 71.11134033584695, 88.37944597323714, 105.64755161062732, 83.2998955299865, 68.0612442002346, 140.17666527642172, 42.66585785364338, 39.618127587692996, 124.9356480770078, 47.74304242723203, 55.86795726677106, 136.09882970384922, 52.82022700082068, 69.06769081023674, 54.84968130845894, 75.15841960281352, 56.879135616097194, 100.53724486177077, 45.70885638026978, 102.55250395143707, 45.70885638026978, 98.48176598785058, 79.2007671304561, 57.88794809576135, 84.26848822539677, 94.4133938939261, 159.33463891139257, 64.98985523766427, 62.960400930026005, 102.50991829752118, 85.27020309607494, 119.74017002031948, 97.43509959359454, 70.05757633260494, 72.08466477058121], \"Category\": [\"Default\", \"Default\", \"Default\", \"Default\", \"Default\", \"Default\", \"Default\", \"Default\", \"Default\", \"Default\", \"Default\", \"Default\", \"Default\", \"Default\", \"Default\", \"Default\", \"Default\", \"Default\", \"Default\", \"Default\", \"Default\", \"Default\", \"Default\", \"Default\", \"Default\", \"Default\", \"Default\", \"Default\", \"Default\", \"Default\", \"Topic1\", \"Topic1\", \"Topic1\", \"Topic1\", \"Topic1\", \"Topic1\", \"Topic1\", \"Topic1\", \"Topic1\", \"Topic1\", \"Topic1\", \"Topic1\", \"Topic1\", \"Topic1\", \"Topic1\", \"Topic1\", \"Topic1\", \"Topic1\", \"Topic1\", \"Topic1\", \"Topic1\", \"Topic1\", \"Topic1\", \"Topic1\", \"Topic1\", \"Topic1\", \"Topic1\", \"Topic1\", \"Topic1\", \"Topic1\", \"Topic1\", \"Topic1\", \"Topic1\", \"Topic1\", \"Topic1\", \"Topic1\", \"Topic1\", \"Topic1\", \"Topic1\", \"Topic1\", \"Topic1\", \"Topic1\", \"Topic1\", \"Topic1\", \"Topic1\", \"Topic1\", \"Topic1\", \"Topic1\", \"Topic1\", \"Topic1\", \"Topic1\", \"Topic1\", \"Topic1\", \"Topic1\", \"Topic1\", \"Topic1\", \"Topic1\", \"Topic1\", \"Topic1\", \"Topic1\", \"Topic1\", \"Topic1\", \"Topic1\", \"Topic1\", \"Topic1\", \"Topic1\", \"Topic1\", \"Topic1\", \"Topic1\", \"Topic1\", \"Topic1\", \"Topic1\", \"Topic1\", \"Topic1\", \"Topic1\", \"Topic1\", \"Topic1\", \"Topic1\", \"Topic1\", \"Topic1\", \"Topic1\", \"Topic1\", \"Topic1\", \"Topic1\", \"Topic1\", \"Topic1\", \"Topic1\", \"Topic1\", \"Topic1\", \"Topic2\", \"Topic2\", \"Topic2\", \"Topic2\", \"Topic2\", \"Topic2\", \"Topic2\", \"Topic2\", \"Topic2\", \"Topic2\", \"Topic2\", \"Topic2\", \"Topic2\", \"Topic2\", \"Topic2\", \"Topic2\", \"Topic2\", \"Topic2\", \"Topic2\", \"Topic2\", \"Topic2\", \"Topic2\", \"Topic2\", \"Topic2\", \"Topic2\", \"Topic2\", \"Topic2\", \"Topic2\", \"Topic2\", \"Topic2\", \"Topic2\", \"Topic2\", \"Topic2\", \"Topic2\", \"Topic2\", \"Topic2\", \"Topic2\", \"Topic2\", \"Topic2\", \"Topic2\", \"Topic2\", \"Topic2\", \"Topic2\", \"Topic2\", \"Topic2\", \"Topic2\", \"Topic2\", \"Topic2\", \"Topic2\", \"Topic2\", \"Topic2\", \"Topic2\", \"Topic2\", \"Topic2\", \"Topic2\", \"Topic2\", \"Topic2\", \"Topic2\", \"Topic2\", \"Topic2\", \"Topic2\", \"Topic2\", \"Topic2\", \"Topic2\", \"Topic2\", \"Topic2\", \"Topic2\", \"Topic2\", \"Topic2\", \"Topic2\", \"Topic2\", \"Topic2\", \"Topic2\", \"Topic2\", \"Topic2\", \"Topic2\", \"Topic2\", \"Topic2\", \"Topic2\", \"Topic2\", \"Topic2\", \"Topic2\", \"Topic2\", \"Topic2\", \"Topic2\", \"Topic2\", \"Topic2\", \"Topic2\", \"Topic2\", \"Topic2\", \"Topic2\", \"Topic2\", \"Topic2\", \"Topic2\"], \"logprob\": [30.0, 29.0, 28.0, 27.0, 26.0, 25.0, 24.0, 23.0, 22.0, 21.0, 20.0, 19.0, 18.0, 17.0, 16.0, 15.0, 14.0, 13.0, 12.0, 11.0, 10.0, 9.0, 8.0, 7.0, 6.0, 5.0, 4.0, 3.0, 2.0, 1.0, -7.9384, -7.8514, -9.2377, -9.2377, -7.8514, -7.7714, -5.8937, -7.1583, -8.5446, -6.969, -9.2377, -7.1583, -8.5446, -6.9024, -9.2377, -7.8514, -5.3324, -9.2377, -8.5446, -8.5446, -8.5446, -7.6283, -9.2377, -7.9384, -7.7714, -9.2377, -6.9351, -8.5446, -6.5522, -7.8514, -5.3527, -5.4237, -5.5914, -5.9296, -5.9925, -5.3876, -6.2255, -6.3474, -6.366, -6.366, -5.5488, -6.5987, -6.6228, -6.6728, -6.7254, -6.7528, -6.781, -6.81, -6.81, -6.81, -6.81, -6.81, -6.8398, -6.8398, -6.8398, -6.8398, -6.8398, -5.8255, -5.0633, -6.162, -6.2255, -6.242, -5.8037, -6.311, -5.5742, -6.4651, -5.8937, -6.4862, -6.1932, -5.9055, -5.8704, -6.1168, -5.508, -6.2759, -5.5001, -6.311, -5.6542, -5.9796, -5.645, -6.0189, -5.9296, -5.7016, -5.7312, -5.9419, -6.1316, -5.9796, -5.9669, -6.0323, -6.1022, -8.4323, -10.0418, -10.0418, -7.8445, -10.0418, -8.25, -10.0418, -10.0418, -8.25, -6.9063, -10.0418, -8.9432, -10.0418, -8.25, -10.0418, -10.0418, -8.9432, -7.2692, -8.6555, -7.2692, -9.3486, -10.0418, -8.9432, -8.9432, -10.0418, -10.0418, -9.3486, -7.9623, -8.6555, -10.0418, -5.3322, -5.542, -5.711, -6.1916, -5.3596, -6.3282, -6.3782, -6.4583, -6.5154, -6.5453, -6.6406, -5.1976, -6.7837, -6.7837, -6.7837, -6.8637, -6.9507, -7.046, -7.046, -5.7513, -7.0973, -7.0973, -7.0973, -7.0973, -7.1514, -7.1514, -7.1514, -7.1514, -7.1514, -5.8077, -5.5991, -5.4266, -5.6597, -5.8674, -5.1742, -6.3282, -6.4042, -5.3056, -6.2351, -6.0905, -5.2543, -6.1499, -5.9146, -6.1297, -5.8521, -6.1099, -5.6229, -6.3041, -5.6851, -6.3041, -5.7791, -5.9309, -6.1499, -5.9309, -5.8674, -5.5644, -6.0905, -6.1099, -5.9474, -6.0164, -5.9474, -5.9987, -6.0905, -6.0905], \"loglift\": [30.0, 29.0, 28.0, 27.0, 26.0, 25.0, 24.0, 23.0, 22.0, 21.0, 20.0, 19.0, 18.0, 17.0, 16.0, 15.0, 14.0, 13.0, 12.0, 11.0, 10.0, 9.0, 8.0, 7.0, 6.0, 5.0, 4.0, 3.0, 2.0, 1.0, 0.5577, 0.5577, 0.5577, 0.5577, 0.5577, 0.5577, 0.5577, 0.5577, 0.5577, 0.5577, 0.5577, 0.5577, 0.5577, 0.5577, 0.5577, 0.5577, 0.5577, 0.5577, 0.5577, 0.5577, 0.5577, 0.5577, 0.5577, 0.5577, 0.5577, 0.5577, 0.5577, 0.5577, 0.5577, 0.5577, 0.5577, 0.5577, 0.5577, 0.5577, 0.5577, 0.5506, 0.5577, 0.5577, 0.5577, 0.5577, 0.5493, 0.5577, 0.5577, 0.5577, 0.5577, 0.5577, 0.5577, 0.5577, 0.5577, 0.5577, 0.5577, 0.5577, 0.5577, 0.5577, 0.5577, 0.5577, 0.5577, 0.5467, 0.5174, 0.5424, 0.5414, 0.5411, 0.5258, 0.5399, 0.4914, 0.537, 0.5004, 0.5366, 0.511, 0.4774, 0.459, 0.4866, 0.402, 0.5071, 0.3763, 0.5054, 0.3566, 0.4254, 0.3213, 0.4205, 0.3488, 0.215, 0.1581, 0.251, 0.4446, 0.2409, 0.09, 0.1976, -0.2658, 0.8499, 0.8499, 0.8499, 0.8499, 0.8499, 0.8499, 0.8499, 0.8499, 0.8499, 0.8499, 0.8499, 0.8499, 0.8499, 0.8499, 0.8499, 0.8499, 0.8499, 0.8499, 0.8499, 0.8499, 0.8499, 0.8499, 0.8499, 0.8499, 0.8499, 0.8499, 0.8499, 0.8499, 0.8499, 0.8499, 0.8499, 0.8499, 0.8499, 0.8499, 0.8407, 0.8499, 0.8499, 0.8499, 0.8499, 0.8499, 0.8499, 0.8343, 0.8499, 0.8499, 0.8499, 0.8499, 0.8499, 0.8499, 0.8499, 0.8363, 0.8499, 0.8499, 0.8499, 0.8499, 0.8499, 0.8499, 0.8499, 0.8499, 0.8499, 0.8355, 0.8267, 0.8207, 0.8253, 0.8197, 0.7903, 0.8259, 0.824, 0.7741, 0.8065, 0.7939, 0.7398, 0.7906, 0.7577, 0.7731, 0.7357, 0.7566, 0.674, 0.7811, 0.592, 0.7811, 0.5385, 0.6046, 0.699, 0.5426, 0.4924, 0.272, 0.6427, 0.655, 0.3301, 0.4452, 0.1747, 0.3296, 0.5676, 0.5391]}, \"token.table\": {\"Topic\": [1, 1, 1, 2, 2, 2, 1, 2, 1, 1, 2, 1, 2, 1, 1, 2, 1, 2, 1, 2, 2, 2, 2, 1, 1, 2, 2, 2, 1, 2, 1, 2, 1, 2, 2, 1, 1, 2, 1, 1, 2, 1, 2, 1, 2, 2, 1, 2, 2, 1, 1, 2, 2, 1, 2, 1, 2, 1, 1, 2, 2, 1, 2, 2, 2, 1, 2, 2, 2, 2, 1, 2, 1, 2, 2, 1, 2, 2, 1, 2, 1, 2, 1, 1, 1, 2, 1, 1, 2, 2, 1, 2, 2, 1, 2, 2, 1, 1, 1, 1, 1, 1, 2, 1, 2, 1, 2, 1, 1, 2, 1, 2, 1, 2, 2, 1, 2, 1, 1, 2, 1, 1, 1, 2, 1, 2, 1, 1, 2, 1, 1, 2, 1, 1, 1, 1, 2, 1, 2, 1, 2, 2, 2, 1, 2, 1, 2, 1, 2, 1, 1, 2, 1, 2, 2, 2, 1, 1, 2, 2, 1, 1, 2, 1, 1, 1, 1, 1, 2, 1, 1, 2, 1, 1, 1, 1, 2, 2, 1, 2, 1, 2, 2, 1, 2, 1, 2, 1, 1, 2, 2, 1, 2, 1, 2, 1, 2, 1, 2, 2, 1, 2, 2, 2, 2, 1, 1, 2, 1, 2, 2, 2, 1, 2, 2, 1, 2, 2, 1, 1, 2, 2, 1, 2, 1, 2, 1, 2, 1, 2, 2, 1, 2, 1, 1, 2, 1, 2, 1, 2, 2, 1, 2, 2, 1, 2, 1, 2, 1, 1, 2, 1, 2], \"Freq\": [0.9866367754515374, 0.9866367754515373, 0.02262969605631648, 0.9730769304216087, 0.9843390780071216, 0.9843390780071216, 0.02343794430268573, 0.9843936607128005, 0.9866367754515373, 0.1747129916187377, 0.8259159603794874, 0.9866117428165224, 0.010724040682788287, 0.9866367754515373, 0.056796423838795476, 0.9466070639799246, 0.025240970759825627, 0.9843978596331996, 0.6976004726824758, 0.3069442079802894, 0.9843390780071216, 0.9972909079808995, 0.9843390780071215, 0.999450240067791, 0.9935685890711421, 0.006948032091406588, 0.9843390780071216, 0.9843390780071216, 0.8716513223573755, 0.12616005981488332, 0.9426640066958076, 0.05480604690091905, 0.159145001655839, 0.8355112586931547, 0.9952761788738672, 0.9866367754515373, 0.9866367754515373, 0.9843390780071216, 0.9866367754515373, 0.9866367754515373, 0.9843390780071216, 0.9982442669274378, 0.9843390780071216, 0.9866367754515373, 1.0095785415457657, 0.9843390780071215, 0.7860640143501226, 0.20723505832866868, 0.9843390780071216, 1.0049078268487879, 0.01526162200847412, 0.9843746195465808, 0.9843390780071215, 0.8104446383476944, 0.1855234714289903, 0.9866367754515373, 0.9843390780071216, 0.9866367754515373, 0.921418353208252, 0.07588151144067957, 1.0141675349164283, 0.13819802330471223, 0.8637376456544515, 0.9843390780071216, 0.9843390780071216, 0.9865996307072045, 0.01591289726947104, 0.9843390780071215, 1.005282462645571, 0.9843390780071216, 0.4097164518081136, 0.5950643704832126, 0.9660113765067049, 0.030830150314043774, 0.9843390780071216, 0.1846442026392684, 0.815511894990102, 0.9843390780071215, 0.4105296773631012, 0.5952680321764967, 0.9042191681742294, 0.09247696038145528, 0.9866367754515373, 0.9866367754515373, 0.26107030591501296, 0.7357435893968547, 1.0133026342475249, 0.6258910759092478, 0.37553464554554866, 0.9843390780071216, 0.9865897764485517, 0.020134485233643914, 0.9843390780071216, 0.9865887973502699, 0.020553933278130623, 1.0020749172504932, 0.9866367754515373, 0.9866367754515373, 1.005252563667604, 0.9866367754515374, 0.9866367754515373, 0.9391379102978806, 0.06313532170069786, 0.9866367754515373, 0.9843390780071216, 0.9866367754515373, 0.9843390780071216, 0.9998802221018935, 0.10644183369311458, 0.8914503571798347, 0.06563279498926491, 0.9407367281794637, 0.08790569592595857, 0.9142192376299692, 0.9843390780071216, 0.9865963725297264, 0.0173087082899952, 1.0001523477179965, 0.49273355791951784, 0.5094363903913659, 0.9866367754515373, 0.9866367754515372, 0.9566371897923706, 0.04484236827151737, 0.8143771621846595, 0.1793124026828608, 0.9866367754515373, 0.024009633953022608, 0.9723901750974157, 0.9866367754515373, 0.053698043507746596, 0.9486654353035232, 0.9866367754515373, 0.9986689312497269, 0.9866367754515372, 0.013302298062672739, 0.9843700566377828, 0.028396304072021896, 0.9749397731394185, 0.8360312551321812, 0.16328735451800414, 0.9843390780071216, 0.9843390780071216, 0.9541784896185413, 0.04851755031958685, 0.7350405292649612, 0.25995335791077895, 0.10286642457149685, 0.8964074141230439, 1.0037956758941726, 0.9866367754515373, 0.9843390780071216, 0.32836792904611795, 0.6684632841295972, 0.9843390780071216, 0.9843390780071216, 0.9866367754515372, 0.0140624546700592, 0.9843718269041439, 0.9843390780071216, 0.9866367754515373, 1.0107010870479163, 0.9843390780071216, 0.9866367754515374, 0.9866367754515373, 0.9866367754515373, 0.9866367754515372, 0.029385298836383987, 0.9697148616006716, 0.9866367754515372, 0.26400826324750865, 0.7310998059161778, 0.9866367754515372, 0.9866367754515373, 1.0011461397964128, 0.9866018818242144, 0.014948513360972946, 0.9843390780071215, 0.7279908888475047, 0.2672371617288309, 0.9865990218002701, 0.016173754455742134, 0.9843390780071216, 0.0570708397451486, 0.9416688557949519, 0.26357894651338065, 0.7352465350110092, 1.0090603385299814, 0.43932694408607303, 0.5585728289094357, 1.011681830173986, 0.9866367754515373, 1.0132902273602722, 0.08687129871599415, 0.9121486365179385, 0.2965680910852345, 0.6990533575580528, 0.8579507829185031, 0.14186587749046115, 1.0083473482024172, 0.2426575524007696, 0.7565206045435758, 0.9843390780071216, 0.9843390780071216, 0.9843390780071216, 0.9866367754515373, 1.011935154309269, 0.9843390780071215, 0.06563279498926491, 0.9407367281794637, 0.9843390780071216, 0.9843390780071216, 0.00903082668952776, 0.9933909358480536, 0.9843390780071215, 0.04189092061002014, 0.9634911740304631, 0.9843390780071216, 1.0028111488195952, 0.9622468596583449, 0.03887866099629676, 0.9843390780071215, 0.07203708579998387, 0.9284779947553476, 0.9324254098270652, 0.06756705868312067, 0.6682810561841247, 0.3308322060317449, 0.2242753625098366, 0.7703371147076996, 0.9843390780071216, 1.0101281272480025, 0.9843390780071215, 0.9866367754515372, 0.21464438560296178, 0.7828207004343312, 0.9866367754515372, 0.9843390780071215, 0.9530783393206559, 0.05016201785898189, 0.9843390780071216, 0.8943280002787396, 0.1052150588563223, 0.9843390780071216, 0.9947716078964326, 0.00815386563849535, 0.07292658598151451, 0.92981397126431, 1.005252563667604, 0.8755261186150898, 0.12190870006032896, 0.7071785779359434, 0.2923911428004381], \"Term\": [\"2021\", \"28\", \"60\", \"60\", \"aanschaffen\", \"aanvragen\", \"aanzien\", \"aanzien\", \"aanzienlijk\", \"afnemen\", \"afnemen\", \"afstand\", \"afstand\", \"alarmeren\", \"alternatief\", \"alternatief\", \"app\", \"app\", \"april\", \"april\", \"astra\", \"astrazeneca\", \"asymptomatisch\", \"avond\", \"avondklok\", \"avondklok\", \"basisschoolleeftijd\", \"bekende\", \"belang\", \"belang\", \"beperking\", \"beperking\", \"bescherming\", \"bescherming\", \"besmettingsgraad\", \"besmettingshaard\", \"bestrijden\", \"bijbenen\", \"blijkbaar\", \"boa\", \"boeteinstrument\", \"burgemeester\", \"commissie\", \"concreet\", \"context\", \"contracteren\", \"corona\", \"corona\", \"coronadashboard.rijksoverheid.nl\", \"coronatoegangsbewij\", \"daadwerkelijk\", \"daadwerkelijk\", \"datgene\", \"december\", \"december\", \"dichtbij\", \"dijk\", \"discotheek\", \"discussie\", \"discussie\", \"doelgroep\", \"doormaken\", \"doormaken\", \"doornemen\", \"doorvrag\", \"dringend\", \"dringend\", \"dusdanig\", \"ema\", \"enthousiast\", \"ernstig\", \"ernstig\", \"ervoor\", \"ervoor\", \"europese\", \"exact\", \"exact\", \"expert\", \"fase\", \"fase\", \"feit\", \"feit\", \"foutloos\", \"gast\", \"gebruik\", \"gebruik\", \"gedeeltelijk\", \"gedrag\", \"gedrag\", \"geloofwaardig\", \"gevolg\", \"gevolg\", \"geweldig\", \"gezondheid\", \"gezondheid\", \"gezondheidsraad\", \"goedenavond\", \"grotendeels\", \"handhaving\", \"heftig\", \"heilig\", \"helaas\", \"helaas\", \"herhalen\", \"hoeveelheid\", \"hopelijk\", \"houseparty\", \"hugo\", \"huisarts\", \"huisarts\", \"indicator\", \"indicator\", \"infectie\", \"infectie\", \"innovatief\", \"inzicht\", \"inzicht\", \"jonge\", \"juni\", \"juni\", \"kajsa\", \"kantoor\", \"kerst\", \"kerst\", \"kind\", \"kind\", \"knuffelen\", \"kortom\", \"kortom\", \"kritisch\", \"kwartaal\", \"kwartaal\", \"laboratorium\", \"lastig\", \"leuk\", \"leveren\", \"leveren\", \"levering\", \"levering\", \"lockdown\", \"lockdown\", \"longziekte\", \"luchtcirculatiesystem\", \"maandag\", \"maandag\", \"maart\", \"maart\", \"maat\", \"maat\", \"maximaal\", \"mbo\", \"medicus\", \"medisch\", \"medisch\", \"mekaar\", \"menen\", \"museum\", \"naam\", \"naam\", \"nagaan\", \"niet-medisch\", \"nos\", \"nul\", \"omstandigheid\", \"ongetwijfeld\", \"ontploffen\", \"ontzettend\", \"opbouwen\", \"opbouwen\", \"oproep\", \"organiseren\", \"organiseren\", \"outbreak\", \"overspring\", \"pakket\", \"persconferentie\", \"persconferentie\", \"pfizer\", \"plek\", \"plek\", \"praten\", \"praten\", \"preventief\", \"prikken\", \"prikken\", \"quarantaine\", \"quarantaine\", \"realiseren\", \"regio\", \"regio\", \"registratie\", \"reproductiegetal\", \"richtlijn\", \"risiconiveau\", \"risiconiveau\", \"routekaart\", \"routekaart\", \"school\", \"school\", \"setting\", \"spelen\", \"spelen\", \"spiken\", \"spul\", \"stabilisering\", \"steunpakkett\", \"team\", \"technisch\", \"telkens\", \"telkens\", \"testresultaat\", \"toegang\", \"toegangstest\", \"toegangstest\", \"toelating\", \"type\", \"type\", \"uittrekken\", \"uitzondering\", \"uur\", \"uur\", \"vaccinatiebereidheid\", \"vaccinatiegraad\", \"vaccinatiegraad\", \"vanavond\", \"vanavond\", \"variant\", \"variant\", \"verantwoorden\", \"verantwoorden\", \"verkoudheidsklacht\", \"verlengen\", \"veroorloven\", \"verruiming\", \"verschillend\", \"verschillend\", \"verschrikkelijk\", \"versnelling\", \"vertellen\", \"vertellen\", \"vragensteller\", \"vrijdag\", \"vrijdag\", \"werkbaar\", \"winkel\", \"winkel\", \"winter\", \"winter\", \"zaterdag\", \"zwaar\", \"zwaar\", \"\\u00a0\", \"\\u00a0\"]}, \"R\": 30, \"lambda.step\": 0.01, \"plot.opts\": {\"xlab\": \"PC1\", \"ylab\": \"PC2\"}, \"topic.order\": [2, 1]};\n\nfunction LDAvis_load_lib(url, callback){\n  var s = document.createElement('script');\n  s.src = url;\n  s.async = true;\n  s.onreadystatechange = s.onload = callback;\n  s.onerror = function(){console.warn(\"failed to load library \" + url);};\n  document.getElementsByTagName(\"head\")[0].appendChild(s);\n}\n\nif(typeof(LDAvis) !== \"undefined\"){\n   // already loaded: just create the visualization\n   !function(LDAvis){\n       new LDAvis(\"#\" + \"ldavis_el2038424497206676005904469688\", ldavis_el2038424497206676005904469688_data);\n   }(LDAvis);\n}else if(typeof define === \"function\" && define.amd){\n   // require.js is available: use it to load d3/LDAvis\n   require.config({paths: {d3: \"https://d3js.org/d3.v5\"}});\n   require([\"d3\"], function(d3){\n      window.d3 = d3;\n      LDAvis_load_lib(\"https://cdn.jsdelivr.net/gh/bmabey/pyLDAvis@3.3.1/pyLDAvis/js/ldavis.v3.0.0.js\", function(){\n        new LDAvis(\"#\" + \"ldavis_el2038424497206676005904469688\", ldavis_el2038424497206676005904469688_data);\n      });\n    });\n}else{\n    // require.js not available: dynamically load d3 & LDAvis\n    LDAvis_load_lib(\"https://d3js.org/d3.v5.js\", function(){\n         LDAvis_load_lib(\"https://cdn.jsdelivr.net/gh/bmabey/pyLDAvis@3.3.1/pyLDAvis/js/ldavis.v3.0.0.js\", function(){\n                 new LDAvis(\"#\" + \"ldavis_el2038424497206676005904469688\", ldavis_el2038424497206676005904469688_data);\n            })\n         });\n}\n</script>"
     },
     "execution_count": 22,
     "metadata": {},
     "output_type": "execute_result"
    }
   ],
   "source": [
    "import gensim\n",
    "\n",
    "import pyLDAvis\n",
    "import pyLDAvis.gensim_models as gensimvis\n",
    "\n",
    "pyLDAvis.enable_notebook()\n",
    "\n",
    "lda_conv = gensim.models.wrappers.ldamallet.malletmodel2ldamodel(lda)\n",
    "\n",
    "gensimvis.prepare(lda_conv, corpus, dictionary)\n"
   ]
  }
 ],
 "metadata": {
  "kernelspec": {
   "name": "pycharm-f9a84032",
   "language": "python",
   "display_name": "PyCharm (data_wrangling)"
  },
  "language_info": {
   "codemirror_mode": {
    "name": "ipython",
    "version": 3
   },
   "file_extension": ".py",
   "mimetype": "text/x-python",
   "name": "python",
   "nbconvert_exporter": "python",
   "pygments_lexer": "ipython3",
   "version": "3.8.0"
  }
 },
 "nbformat": 4,
 "nbformat_minor": 5
}