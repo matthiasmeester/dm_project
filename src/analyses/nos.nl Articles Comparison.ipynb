{
 "cells": [
  {
   "cell_type": "markdown",
   "id": "c2c2a80b",
   "metadata": {},
   "source": [
    "# Imports"
   ]
  },
  {
   "cell_type": "code",
   "execution_count": 1,
   "id": "09297e52",
   "metadata": {},
   "outputs": [
    {
     "name": "stdout",
     "output_type": "stream",
     "text": [
      "There are 0 articles!\n"
     ]
    },
    {
     "data": {
      "application/vnd.jupyter.widget-view+json": {
       "model_id": "0e76f47e96eb4d19a12caaac56636a60",
       "version_major": 2,
       "version_minor": 0
      },
      "text/plain": [
       "Fetching article urls...:   0%|          | 0/30 [00:00<?, ?it/s]"
      ]
     },
     "metadata": {},
     "output_type": "display_data"
    },
    {
     "data": {
      "application/vnd.jupyter.widget-view+json": {
       "model_id": "d1190636159c4fb7b6794746f4153a85",
       "version_major": 2,
       "version_minor": 0
      },
      "text/plain": [
       "Downloading article by day.. :   0%|          | 0/30 [00:00<?, ?it/s]"
      ]
     },
     "metadata": {},
     "output_type": "display_data"
    },
    {
     "data": {
      "application/vnd.jupyter.widget-view+json": {
       "model_id": "9473faa17ea146199c5d37a01fd62035",
       "version_major": 2,
       "version_minor": 0
      },
      "text/plain": [
       "Articles (2020-04-01).. :   0%|          | 0/37 [00:00<?, ?it/s]"
      ]
     },
     "metadata": {},
     "output_type": "display_data"
    },
    {
     "data": {
      "application/vnd.jupyter.widget-view+json": {
       "model_id": "b08a2bd267234c408239bb6512784833",
       "version_major": 2,
       "version_minor": 0
      },
      "text/plain": [
       "Articles (2020-04-02).. :   0%|          | 0/34 [00:00<?, ?it/s]"
      ]
     },
     "metadata": {},
     "output_type": "display_data"
    },
    {
     "name": "stdout",
     "output_type": "stream",
     "text": [
      "Downloaded 42 articles.\n"
     ]
    }
   ],
   "source": [
    "import sys \n",
    "sys.path.append('..')\n",
    "from util.nos_articles import *\n",
    "import pandas as pd\n",
    "\n",
    "import spacy\n",
    "# nlp = spacy.load(\"nl_core_news_sm\")\n",
    "nlp = spacy.load(\"nl_core_news_lg\")"
   ]
  },
  {
   "cell_type": "markdown",
   "id": "d0b642f8",
   "metadata": {},
   "source": [
    "# Download Articles"
   ]
  },
  {
   "cell_type": "code",
   "execution_count": 2,
   "id": "40a439c2",
   "metadata": {
    "scrolled": false
   },
   "outputs": [],
   "source": [
    "dates = [x.strftime('%Y-%m-%d') for x in pd.date_range(start='2020-04-01', end='2020-4-30', freq='D')]"
   ]
  },
  {
   "cell_type": "code",
   "execution_count": 5,
   "id": "765d9d8e",
   "metadata": {},
   "outputs": [
    {
     "data": {
      "application/vnd.jupyter.widget-view+json": {
       "model_id": "fc32e5075dc94d058380fe7d6a12d436",
       "version_major": 2,
       "version_minor": 0
      },
      "text/plain": [
       "  0%|          | 0/30 [00:00<?, ?it/s]"
      ]
     },
     "metadata": {},
     "output_type": "display_data"
    }
   ],
   "source": [
    "a = get_article_urls(l_of_dates)"
   ]
  },
  {
   "cell_type": "code",
   "execution_count": 8,
   "id": "c498afc3",
   "metadata": {},
   "outputs": [
    {
     "name": "stdout",
     "output_type": "stream",
     "text": [
      "There are 45 articles!\n"
     ]
    },
    {
     "data": {
      "application/vnd.jupyter.widget-view+json": {
       "model_id": "28f29d317fae40b180d8b8d9423ec17e",
       "version_major": 2,
       "version_minor": 0
      },
      "text/plain": [
       "Fetching article urls...:   0%|          | 0/26 [00:00<?, ?it/s]"
      ]
     },
     "metadata": {},
     "output_type": "display_data"
    },
    {
     "data": {
      "application/vnd.jupyter.widget-view+json": {
       "model_id": "81c0d1d2782d490896aa603a3778f16d",
       "version_major": 2,
       "version_minor": 0
      },
      "text/plain": [
       "Downloading article by day...:   0%|          | 0/26 [00:00<?, ?it/s]"
      ]
     },
     "metadata": {},
     "output_type": "display_data"
    },
    {
     "data": {
      "application/vnd.jupyter.widget-view+json": {
       "model_id": "8438bcc5b3bc4c19bbaf1ea8310c1c64",
       "version_major": 2,
       "version_minor": 0
      },
      "text/plain": [
       "  0%|          | 0/25 [00:00<?, ?it/s]"
      ]
     },
     "metadata": {},
     "output_type": "display_data"
    },
    {
     "name": "stdout",
     "output_type": "stream",
     "text": [
      "45\n",
      "46\n",
      "47\n",
      "48\n",
      "49\n",
      "50\n",
      "51\n",
      "52\n",
      "53\n",
      "54\n",
      "55\n",
      "56\n",
      "57\n",
      "58\n",
      "59\n",
      "60\n",
      "Downloaded 60 articles.\n"
     ]
    }
   ],
   "source": [
    "download_articles(dates=dates, max_articles=60, refresh_articles=False)"
   ]
  },
  {
   "cell_type": "markdown",
   "id": "727cfb3e",
   "metadata": {},
   "source": [
    "# Calculate tfidf"
   ]
  },
  {
   "cell_type": "code",
   "execution_count": 11,
   "id": "69b48c85",
   "metadata": {
    "collapsed": true
   },
   "outputs": [
    {
     "name": "stdout",
     "output_type": "stream",
     "text": [
      "os.listdir(base_path): True\n"
     ]
    },
    {
     "data": {
      "application/vnd.jupyter.widget-view+json": {
       "model_id": "aa8f086b7d9e44c5bb0b4659248ed669",
       "version_major": 2,
       "version_minor": 0
      },
      "text/plain": [
       "  0%|          | 0/30 [00:00<?, ?it/s]"
      ]
     },
     "metadata": {},
     "output_type": "display_data"
    },
    {
     "name": "stdout",
     "output_type": "stream",
     "text": [
      "2020-04-01\n",
      "Schrijfster Angela Levin, die voor haar boek een jaar mocht optrekken met Harry, leerde de prins in 2017 kennen als een charismatische en grappige man.\n",
      "\n",
      "2020-04-02\n",
      "De Luisterlijn kan haar hulp op dit moment goed gebruiken. Door de crisis steeg het aantal telefoontjes met dertig procent tot zo'n 1200 gesprekken per dag. Het aantal chatsessies verdubbelde zelfs.\n",
      "\n",
      "2020-04-03\n",
      "President Bouterse noemt de vondst een geweldig cadeau in een periode dat het land is getroffen door het coronavirus. \"We zullen snel bij elkaar moeten komen, want dit is heel veel geld voor een klein land.\" De vondst is net als de vorige gedaan in 'Blok 58', een gebied van 1,4 miljoen hectare in de Surinaamse wateren.\n",
      "\n",
      "2020-04-04\n",
      "IC-verpleegkundige Christel Schilders (51) van het Elisabeth-TweeSteden Ziekenhuis (ETZ) in Tilburg legt uit wat er allemaal komt kijken bij de verzorging van een coronapatiënt. \"Alles moet goed gaan, anders krijgt een patiënt geen adem meer.\"\n",
      "\n",
      "2020-04-05\n",
      "De bewoner werd gisteravond rond 21.30 uur neergestoken op de galerij van het appartementencomplex aan de Tellegenstraat. Er is een traumahelikopter ingezet en de man is nog gereanimeerd, maar dat mocht niet baten.\n",
      "\n",
      "2020-04-06\n",
      "Het CJIB heeft deurwaarders opgedragen tijdens de coronacrisis te zoeken naar oplossingen. Zo moeten ze beslagleggingen op banktegoeden, salaris, eigendommen en woningen zo veel mogelijk vermijden.\n",
      "\n",
      "2020-04-07\n",
      "Pell, tussen 2014 en 2017 de belangrijkste financiële man in het Vaticaan en een belangrijk adviseur van de paus, is de hoogste katholieke geestelijke ooit die werd veroordeeld voor kindermisbruik. Hij zou in 1996 en 1997 twee 13-jarige misdienaars hebben misbruikt in een achterkamer van de St. Patrick's kathedraal in Melbourne, waar hij toen aartsbisschop was.\n",
      "\n",
      "2020-04-08\n",
      "Correa spreekt alle beschuldigingen tegen. Hij vluchtte in 2017 samen met zijn vrouw naar België, waar hij sindsdien woont. Zijn advocaten zeggen dat ze de zaak gaan aanvechten.\n",
      "\n",
      "2020-04-09\n",
      "Op de scholen die de leerlingen niet in beeld hebben, gaat het om gemiddeld vier kinderen. In veel gevallen zijn het leden van één gezin en soms gaat het om vluchtelingengezinnen, die ook in normale tijden soms zomaar verdwijnen.\n",
      "\n",
      "2020-04-10\n",
      "Uiteindelijk heeft Nederland niet alle harde voorwaarden kunnen binnenslepen. Minister Hoekstra heeft lang vastgehouden aan zijn eis dat landen alleen geld uit het noodfonds, het Europees Stabilisatie Mechanisme (ESM), kunnen krijgen als ze ook hun economie zouden hervormen. Oftewel: zodra de crisis voorbij is, moet er worden bezuinigd om de begroting op orde te brengen en die eisen kunnen door de geldschieters worden opgelegd.\n",
      "\n",
      "2020-04-11\n",
      "Een omstander heeft de brand geblust. Van de daders ontbreekt ieder spoor. De politie roept via Burgernet mensen in de omgeving op uit te kijken naar een blauwe Kia Picanto.\n",
      "\n",
      "2020-04-12\n",
      "Met lichten en rookeffecten werd het paasvuur gesimuleerd op de toren van de kerk in het midden van de Brabantse plaats, terwijl op het carillon vrolijke paasmelodieën werden gespeeld. \"Omdat we geen diensten kunnen houden vanwege de coronacrisis, wilden we op deze manier toch laten zien dat we als kerk licht brengen in een donkere periode\", zegt diaken Wilfred van Nunen.\n",
      "\n",
      "2020-04-13\n",
      "In Mississippi en buurstaat Louisiana werden meerdere tornado's en harde wind gemeld. De stormen veroorzaakten op een lokaal vliegveld in Louisiana voor zeker 30 miljoen dollar schade aan vliegtuigen.\n",
      "\n",
      "2020-04-14\n",
      "Hoe groot de schade is en om welk type zendmasten het gaat, is niet bekend. De politie doet onderzoek op de locaties bij Sportpark de Marken en de Sluiskade. Of sprake is van brandstichting is nog onduidelijk, zei een politiewoordvoerder.\n",
      "\n",
      "2020-04-15\n",
      "\"We zoeken op dit moment uit wat er precies fout is gegaan. Ook leggen we contact met de getroffen gebruikers om ze te helpen bij het herstel van hun accounts.\" Het is niet duidelijk om hoeveel mensen het precies gaat. Marktplaats schat dat het zo'n 20.000 gebruikers zijn.\n",
      "\n",
      "2020-04-16\n",
      "Bekijk hier een fragment van de persconferentie:\n",
      "\n",
      "2020-04-17\n",
      "De brand brak uit rond middernacht. De brandende stal werd vrijwel meteen als verloren beschouwd. De brandweer zei \"in te zetten in het behouden van een naastgelegen stal\". Rond 04.00 uur was de brand onder controle.\n",
      "\n",
      "2020-04-18\n",
      "Milka Yemane van de Corona Helpdesk Statushouders weet wat het gevolg kan zijn als cruciale informatie wordt gemist. \"Twee dagen nadat alle scholen waren gesloten bracht een gezin nog steeds de kinderen naar school. De ouders snapten niet wat er aan de hand was.\"\n",
      "\n",
      "2020-04-19\n",
      "Er is vandaag veel ruimte voor de zon, alleen in het zuiden zijn in de ochtend een paar wolken aanwezig. Het wordt 16 tot 20 graden. Ook de komende dagen is er volop zon, maar gaat het wel harder waaien.\n",
      "\n",
      "2020-04-20\n",
      "Economen van ABN Amro zeiden eerder dat dit jaar waarschijnlijk minder huizen worden verkocht vanwege de coronamaatregelen. Volgend jaar zouden de huizenprijzen na jaren van stijging weer gaan dalen.\n",
      "\n",
      "2020-04-21\n",
      "Vorig jaar meldde het Centraal Bureau voor de Statistiek dat het aantal mensen dat feitelijk dakloos is in Nederland sinds 2009 in tien jaar tijd ruim is verdubbeld: van 17.800 naar 39.300. Vooral onder jongeren en niet-westerse migranten steeg het aantal daklozen sterk.\n",
      "\n",
      "2020-04-22\n",
      "In de extra uitzending spreekt presentator Sjoerd van Ramshorst met de vaste gasten Pierre van Hooijdonk, Arno Vermeulen (chef voetbal NOS) en Jeroen Stekelenburg (volger van het Nederlands elftal).\n",
      "\n",
      "2020-04-23\n",
      "In het overzicht staan bijna 5000 zaken, tegenover bijna 4000 in 2018. In diezelfde periode steeg het aantal asielzoekers veel minder, met drie procent naar bijna 55.000.\n",
      "\n",
      "2020-04-24\n",
      "\"Zelfs als wij alle treinen, bussen en trams weer laten rijden, kunnen wij maar een kwart van de reizigers van voor de crisis vervoeren\", zegt Pedro Peters van branche-organisatie OV-NL in het NOS Radio 1 Journaal. Op dit moment zit het openbaar vervoer al op 10 tot 15 procent van het niveau van voor de coronacrisis.\n",
      "\n",
      "2020-04-25\n",
      "Deze cijfers zijn tot nu toe niet meegerekend in het officiële sterftecijfer. Dat stond gisteren op 4289. Van de negen weken waarvoor meldingen zijn gedaan, had week 15 de meeste sterfgevallen voor de huisartsen. Sindsdien neemt het aantal doden af.\n",
      "\n",
      "2020-04-26\n",
      "Anderhalf uur later werd twee kilometer verderop geschoten, daarbij werd een man in zijn been geraakt. Hij is naar het ziekenhuis vervoerd is en buiten levensgevaar, meldt een woordvoerder van de politie.\n",
      "\n",
      "2020-04-27\n",
      "\"Ik kreeg geen informatie van de Marokkaanse en Nederlandse overheid. Het was heel onzeker\", zegt de 66-jarige Floor van Hasselt eenmaal aangekomen op Schiphol. De afgelopen weken verbleven zo'n 3000 Nederlanders in Marokko. Het eerste vliegtuig, met de meest 'urgente' groep Nederlanders, landde rond half een vannacht op een verder vrijwel verlaten Schiphol. Het toestel was vertrokken uit Casablanca Passagiers en familieleden die stonden te wachten, waren duidelijk opgelucht om elkaar weer te zien.\n",
      "\n",
      "2020-04-28\n",
      "Terwijl bij misdrijven als woninginbraken en straatroven een duidelijk vermindering is te zien sinds de coronamaatregelen van kracht zijn, gaat de internationale georganiseerde criminaliteit volop door, zegt Westerbeke in het NOS Radio 1 Journaal. \"We zijn constant bezig partijen te onderscheppen en wegen te vinden die ze gebruiken om partijen drugs naar Nederland en ook weer naar buiten te krijgen. En op het moment dat wij zo'n methode ontdekken, zie je onmiddellijk dat ze zich ook weer aanpassen.\"\n",
      "\n",
      "2020-04-29\n",
      "\"Het is alsof we in een parallel universum leven\", vertelt Sasha Tudor. Ze woont in Bondi Beach en was 's ochtends vroeg bij de eerste van 550 mensen die het water indoken toen het strand weer opende. Onder streng toezicht, dat wel. Dranghekken, rode linten en ambtenaren moeten ervoor zorgen dat de strandgangers alleen een snel bezoekje kunnen brengen.\n",
      "\n",
      "2020-04-30\n",
      "Microsoft profiteert vooral van het toegenomen aantal thuiswerkers. Zo was er een fors grotere vraag naar producten als Teams en Skype, waarmee mensen kunnen communiceren.\n",
      "\n"
     ]
    },
    {
     "data": {
      "text/plain": [
       "dict_keys(['2020-04-01', '2020-04-02', '2020-04-03', '2020-04-04', '2020-04-05', '2020-04-06', '2020-04-07', '2020-04-08', '2020-04-09', '2020-04-10', '2020-04-11', '2020-04-12', '2020-04-13', '2020-04-14', '2020-04-15', '2020-04-16', '2020-04-17', '2020-04-18', '2020-04-19', '2020-04-20', '2020-04-21', '2020-04-22', '2020-04-23', '2020-04-24', '2020-04-25', '2020-04-26', '2020-04-27', '2020-04-28', '2020-04-29', '2020-04-30'])"
      ]
     },
     "execution_count": 11,
     "metadata": {},
     "output_type": "execute_result"
    }
   ],
   "source": [
    "x = load_nos_texts(dates=[])"
   ]
  },
  {
   "cell_type": "code",
   "execution_count": 1,
   "id": "ad914276",
   "metadata": {},
   "outputs": [],
   "source": [
    "TF_IDF_CSV_PATH = '../output/NOS_tf_idf.csv'\n",
    "TF_CSV_PATH = '../output/NOS_tf.csv'\n",
    "CORPUS_PATH = '../output/NOS_corpus.csv'"
   ]
  },
  {
   "cell_type": "code",
   "execution_count": null,
   "id": "edba9a91",
   "metadata": {},
   "outputs": [],
   "source": [
    "def calculate_tfidf(full_text: list, include_idf=True) -> tuple:\n",
    "    corpus = pd.DataFrame(columns=['word'])\n",
    "\n",
    "    # Create Dataframe with Word Counts\n",
    "    word = [token.lemma_ for token in nlp(full_text) if not (token.is_stop or token.is_punct or token.is_space)]\n",
    "\n",
    "    word_count = Counter(word)\n",
    "\n",
    "    new_word = list(set(word_count.keys()) - set(corpus['word']))\n",
    "    corpus = corpus.append(pd.DataFrame({'word': new_word}), ignore_index=True)\n",
    "\n",
    "    wordlist = []\n",
    "    for word in corpus['word']:\n",
    "        if word in word_count.keys():\n",
    "            wordlist.append(word_count[word])\n",
    "        else:\n",
    "            wordlist.append(0)\n",
    "\n",
    "    corpus['nos'] = wordlist\n",
    "\n",
    "    corpus.set_index('word', inplace=True)\n",
    "    corpus.fillna(0, inplace=True)\n",
    "\n",
    "    corpus.to_csv(CORPUS_PATH)\n",
    "    \n",
    "    tf_idf = {k: [] for k in corpus.columns}\n",
    "    \n",
    "    # Create Dataframe with Relative Word Frequencies\n",
    "    for index, row in tqdm(corpus.iterrows(), total=len(corpus)):\n",
    "        docs_with = np.count_nonzero(row)\n",
    "\n",
    "        for colname, count in row.items():\n",
    "            total_uniques = np.count_nonzero(corpus[colname])\n",
    "            tf = count / total_uniques\n",
    "            result = tf\n",
    "            if include_idf:\n",
    "                idf = math.log(len(corpus.columns) / docs_with)\n",
    "                result *= idf\n",
    "\n",
    "            tf_idf[colname].append(result)\n",
    "\n",
    "    tf_idf_df = pd.DataFrame.from_dict(tf_idf)\n",
    "    tf_idf_df.set_index(corpus.index, inplace=True)\n",
    "\n",
    "    if include_idf:\n",
    "        tf_idf_df.to_csv(TF_IDF_CSV_PATH)\n",
    "        print(f\"Saved results to 'output/corpus.csv and '{TF_IDF_CSV_PATH}'\")\n",
    "    else:\n",
    "        tf_idf_df.to_csv(TF_CSV_PATH)\n",
    "        print(f\"Saved results to 'output/corpus.csv' and '{TF_CSV_PATH}'\")"
   ]
  },
  {
   "cell_type": "code",
   "execution_count": null,
   "id": "02e50d2b",
   "metadata": {},
   "outputs": [],
   "source": [
    "calculate_tfidf(full_text=, include_idf=True):"
   ]
  }
 ],
 "metadata": {
  "kernelspec": {
   "display_name": "Python 3 (ipykernel)",
   "language": "python",
   "name": "python3"
  },
  "language_info": {
   "codemirror_mode": {
    "name": "ipython",
    "version": 3
   },
   "file_extension": ".py",
   "mimetype": "text/x-python",
   "name": "python",
   "nbconvert_exporter": "python",
   "pygments_lexer": "ipython3",
   "version": "3.8.0"
  }
 },
 "nbformat": 4,
 "nbformat_minor": 5
}
