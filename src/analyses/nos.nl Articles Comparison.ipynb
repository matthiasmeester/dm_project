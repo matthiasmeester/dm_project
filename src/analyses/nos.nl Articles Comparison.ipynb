{
 "cells": [
  {
   "cell_type": "markdown",
   "id": "c2c2a80b",
   "metadata": {},
   "source": [
    "# Imports"
   ]
  },
  {
   "cell_type": "code",
   "execution_count": 128,
   "id": "09297e52",
   "metadata": {},
   "outputs": [],
   "source": [
    "import sys \n",
    "sys.path.append('..')\n",
    "\n",
    "from itertools import chain\n",
    "\n",
    "from util.nos_articles import *\n",
    "import pandas as pd\n",
    "from tqdm.notebook import tqdm\n",
    "import spacy\n",
    "# nlp = spacy.load(\"nl_core_news_sm\")\n",
    "nlp = spacy.load(\"nl_core_news_lg\")"
   ]
  },
  {
   "cell_type": "markdown",
   "id": "d0b642f8",
   "metadata": {},
   "source": [
    "# Download Articles"
   ]
  },
  {
   "cell_type": "code",
   "execution_count": 129,
   "id": "40a439c2",
   "metadata": {
    "scrolled": false
   },
   "outputs": [],
   "source": [
    "dates = [x.strftime('%Y-%m-%d') for x in pd.date_range(start='2020-04-01', end='2020-12-31', freq='D')]"
   ]
  },
  {
   "cell_type": "code",
   "execution_count": 130,
   "id": "c498afc3",
   "metadata": {},
   "outputs": [],
   "source": [
    "# download_articles(dates=dates, max_articles=5000, refresh_articles=False)"
   ]
  },
  {
   "cell_type": "markdown",
   "id": "632f7d25",
   "metadata": {},
   "source": [
    "# Load Articles"
   ]
  },
  {
   "cell_type": "code",
   "execution_count": 131,
   "id": "69b48c85",
   "metadata": {},
   "outputs": [
    {
     "data": {
      "application/vnd.jupyter.widget-view+json": {
       "model_id": "1ed2de597ef249f9977ec224c9988699",
       "version_major": 2,
       "version_minor": 0
      },
      "text/plain": [
       "  0%|          | 0/275 [00:00<?, ?it/s]"
      ]
     },
     "metadata": {},
     "output_type": "display_data"
    }
   ],
   "source": [
    "articles_dict = load_nos_texts(dates=dates)"
   ]
  },
  {
   "cell_type": "code",
   "execution_count": null,
   "id": "efd04e05",
   "metadata": {},
   "outputs": [],
   "source": [
    "# articles_dict['2020-04-01']"
   ]
  },
  {
   "cell_type": "markdown",
   "id": "fcfde08b",
   "metadata": {},
   "source": [
    "# Prepare Data"
   ]
  },
  {
   "cell_type": "code",
   "execution_count": 177,
   "id": "556fc16c",
   "metadata": {},
   "outputs": [
    {
     "name": "stdout",
     "output_type": "stream",
     "text": [
      "4990\n",
      "De biograaf van de Britse prins Harry heeft in een artikel in modemagazine Tatler hard uitgehaald naar Harry en zijn vrouw Meghan, die sinds gisteren geen volwaardige leden van het Britse koningshuis meer zijn.\n",
      " Schrijfster Angela Levin, die voor haar boek een jaar mocht optrekken met Harry, leerde de prins in 2017 kennen als een charismatische en grappige man.\n",
      " Drie jaar later ziet ze \"een enorme verandering in zijn doen en laten\". Volgens Levin zijn Harry en Meghan \"toenemend egoïstisch\", doelend op het besluit van het paar een stap terug te doen in het Britse koningshuis en te verhuizen naar Noord-Amerika. \"Harry is bitter geworden en komt continu gestresst over\", aldus Levin.\n",
      " Volgens haar had de Harry die ze zo goed leerde kennen nooit zijn familie de rug toegekeerd. En al helemaal niet temidden van \"een nationale crisis\", schrijft ze, refererend aan de coronacrisis en het gegeven dat Harry's vader kroonprins Charles besmet is met het virus. Ze herkent de prins naar eigen zeggen \"nog amper\", volgens Levin omdat hij door zijn vrouw in de spotlights staat die hij juist zo verafschuwt.\n",
      " Harry en Meghan bedankten gisteren op hun laatste dag als fulltime royals op Instagram hun volgers voor de steun. \"Ook al zien jullie ons hier niet meer, het werk gaat door\", schreef het stel.\n",
      "501\n",
      "11457534\n",
      "22915\n"
     ]
    },
    {
     "data": {
      "text/plain": [
       "501"
      ]
     },
     "execution_count": 177,
     "metadata": {},
     "output_type": "execute_result"
    }
   ],
   "source": [
    "list_of_articles = list(chain(*articles_dict.values()))\n",
    "list_of_articles = [' '.join(x) for x in list_of_articles]\n",
    "print(len(list_of_articles))\n",
    "print(list_of_articles[1])\n",
    "\n",
    "print(len(chunks))\n",
    "list_of_text = [item for sublist in list_of_articles for item in sublist]\n",
    "print(len(list_of_text))\n",
    "chunk_size =  int(len(list_of_text)/500)\n",
    "print(chunk_size)\n",
    "chunks = [list_of_text[x:x+chunk_size] for x in range(0, len(list_of_text), chunk_size)]\n",
    "#chunks[1]\n",
    "string_chunks = [' '.join(x) for x in chunks]\n",
    "#len(list_of_text)\n",
    "#stringed_text = ' '.join(list_of_text)\n",
    "#stringed_text[:500]\n",
    "len(string_chunks)"
   ]
  },
  {
   "cell_type": "markdown",
   "id": "b62c1b59",
   "metadata": {},
   "source": [
    "# Calculate Average Sentence Length"
   ]
  },
  {
   "cell_type": "code",
   "execution_count": 46,
   "id": "fb996eef",
   "metadata": {},
   "outputs": [
    {
     "data": {
      "text/plain": [
       "17.202796550050405"
      ]
     },
     "execution_count": 46,
     "metadata": {},
     "output_type": "execute_result"
    }
   ],
   "source": [
    "average_sentence_length = get_average_sentence_length(stringed_text)\n",
    "average_sentence_length"
   ]
  },
  {
   "cell_type": "code",
   "execution_count": 191,
   "id": "ad914276",
   "metadata": {},
   "outputs": [],
   "source": [
    "TF_IDF_CSV_PATH = '../output/NOS_tf_idf.csv'\n",
    "TF_CSV_PATH = '../output/NOS_tf.csv'\n",
    "CORPUS_PATH = '../output/NOS_corpus_5000_articles_without_stopwords.csv'"
   ]
  },
  {
   "cell_type": "markdown",
   "id": "727cfb3e",
   "metadata": {},
   "source": [
    "# Create Corpus"
   ]
  },
  {
   "cell_type": "code",
   "execution_count": 180,
   "id": "63effe9e",
   "metadata": {},
   "outputs": [],
   "source": [
    "def create_corpus(full_text: list, save=False, stopwords=False) -> tuple:\n",
    "    nlp.max_length = 1500000\n",
    "    processed_texts = [text for text in tqdm(nlp.pipe(full_text), total=len(full_text))]\n",
    "    \n",
    "    lemmatized_texts = [[word.lemma_ for word in processed_text if not (word.is_punct or word.is_space or (stopwords and word.is_stop))] \\\n",
    "                        for processed_text in tqdm(processed_texts, total=len(processed_texts))]\n",
    "\n",
    "    flattened_lemmatized_texts = [item for sublist in lemmatized_texts for item in sublist]\n",
    "    word_count = Counter(flattened_lemmatized_texts)\n",
    "    \n",
    "    # Create Dataframe with Word Counts\n",
    "    corpus = pd.DataFrame(columns=['word'])\n",
    "    \n",
    "    # Allows you to differentiate between subsets by creating columns for each of them\n",
    "    new_word = list(set(word_count.keys()) - set(corpus['word']))\n",
    "    corpus = corpus.append(pd.DataFrame({'word': new_word}), ignore_index=True)\n",
    "\n",
    "    wordlist = []\n",
    "    for word in corpus['word']:\n",
    "        if word in word_count.keys():\n",
    "            wordlist.append(word_count[word])\n",
    "        else:\n",
    "            wordlist.append(0)\n",
    "\n",
    "    corpus['nos'] = wordlist\n",
    "    corpus.set_index('word', inplace=True)\n",
    "    corpus.fillna(0, inplace=True)\n",
    "    \n",
    "    if save:\n",
    "        corpus.to_csv(CORPUS_PATH)\n",
    "    \n",
    "    return corpus"
   ]
  },
  {
   "cell_type": "code",
   "execution_count": 160,
   "id": "d4cf627c",
   "metadata": {
    "collapsed": true
   },
   "outputs": [
    {
     "data": {
      "text/plain": [
       "['Daarom',\n",
       " 'zijn',\n",
       " 'scholen',\n",
       " 'gewoon',\n",
       " 'open,',\n",
       " 'zodat',\n",
       " 'ouders',\n",
       " 'van',\n",
       " 'kinderen',\n",
       " 'met',\n",
       " 'cruciale',\n",
       " 'beroepen',\n",
       " 'kunnen',\n",
       " 'blijven',\n",
       " 'werken.',\n",
       " 'Ook',\n",
       " 'is',\n",
       " 'er',\n",
       " 'volgens',\n",
       " 'de',\n",
       " 'Zweedse',\n",
       " 'wetenschappers',\n",
       " 'onvoldoende',\n",
       " 'bewijs',\n",
       " 'dat',\n",
       " 'het',\n",
       " 'coronavirus',\n",
       " 'zich',\n",
       " 'sneller',\n",
       " 'via',\n",
       " 'kinderen',\n",
       " 'op',\n",
       " 'scholen',\n",
       " 'verspreidt.\\n',\n",
       " 'Alleen',\n",
       " 'voor',\n",
       " 'ouderen',\n",
       " 'gelden',\n",
       " 'er',\n",
       " 'voorlopig',\n",
       " 'extra',\n",
       " 'maatregelen.',\n",
       " 'Zo',\n",
       " 'worden',\n",
       " 'mensen',\n",
       " 'boven',\n",
       " 'de',\n",
       " '70',\n",
       " 'aangeraden',\n",
       " 'om',\n",
       " 'binnen',\n",
       " 'te',\n",
       " 'blijven',\n",
       " 'en',\n",
       " 'is',\n",
       " 'ook',\n",
       " 'in',\n",
       " 'Zweedse',\n",
       " 'verpleeghuizen',\n",
       " 'voorlopig',\n",
       " 'geen',\n",
       " 'bezoek',\n",
       " 'toegestaan.\\n',\n",
       " 'Dat',\n",
       " 'er',\n",
       " 'maar',\n",
       " 'weinig',\n",
       " 'onrust',\n",
       " 'is',\n",
       " 'in',\n",
       " 'Zweden',\n",
       " 'over',\n",
       " 'het',\n",
       " 'losse',\n",
       " 'coronabeleid',\n",
       " 'komt',\n",
       " '']"
      ]
     },
     "execution_count": 160,
     "metadata": {},
     "output_type": "execute_result"
    }
   ],
   "source": [
    "string_chunks[1][:500].split(' ')"
   ]
  },
  {
   "cell_type": "code",
   "execution_count": 184,
   "id": "c7ee1cfc",
   "metadata": {},
   "outputs": [
    {
     "name": "stdout",
     "output_type": "stream",
     "text": [
      "Wall time: 0 ns\n"
     ]
    },
    {
     "data": {
      "application/vnd.jupyter.widget-view+json": {
       "model_id": "153f6469c4c04e6ca5280b3c86b94162",
       "version_major": 2,
       "version_minor": 0
      },
      "text/plain": [
       "  0%|          | 0/4990 [00:00<?, ?it/s]"
      ]
     },
     "metadata": {},
     "output_type": "display_data"
    },
    {
     "data": {
      "application/vnd.jupyter.widget-view+json": {
       "model_id": "e730e9dbb7244d1983d3165b357e6555",
       "version_major": 2,
       "version_minor": 0
      },
      "text/plain": [
       "  0%|          | 0/4990 [00:00<?, ?it/s]"
      ]
     },
     "metadata": {},
     "output_type": "display_data"
    },
    {
     "data": {
      "text/html": [
       "<div>\n",
       "<style scoped>\n",
       "    .dataframe tbody tr th:only-of-type {\n",
       "        vertical-align: middle;\n",
       "    }\n",
       "\n",
       "    .dataframe tbody tr th {\n",
       "        vertical-align: top;\n",
       "    }\n",
       "\n",
       "    .dataframe thead th {\n",
       "        text-align: right;\n",
       "    }\n",
       "</style>\n",
       "<table border=\"1\" class=\"dataframe\">\n",
       "  <thead>\n",
       "    <tr style=\"text-align: right;\">\n",
       "      <th></th>\n",
       "      <th>nos</th>\n",
       "    </tr>\n",
       "    <tr>\n",
       "      <th>word</th>\n",
       "      <th></th>\n",
       "    </tr>\n",
       "  </thead>\n",
       "  <tbody>\n",
       "    <tr>\n",
       "      <th>jeugdig</th>\n",
       "      <td>1</td>\n",
       "    </tr>\n",
       "    <tr>\n",
       "      <th>winnen</th>\n",
       "      <td>187</td>\n",
       "    </tr>\n",
       "    <tr>\n",
       "      <th>katinka</th>\n",
       "      <td>2</td>\n",
       "    </tr>\n",
       "    <tr>\n",
       "      <th>veiligheidsbril</th>\n",
       "      <td>2</td>\n",
       "    </tr>\n",
       "    <tr>\n",
       "      <th>tijdstraf</th>\n",
       "      <td>1</td>\n",
       "    </tr>\n",
       "    <tr>\n",
       "      <th>...</th>\n",
       "      <td>...</td>\n",
       "    </tr>\n",
       "    <tr>\n",
       "      <th>wvggz</th>\n",
       "      <td>1</td>\n",
       "    </tr>\n",
       "    <tr>\n",
       "      <th>ryanair</th>\n",
       "      <td>26</td>\n",
       "    </tr>\n",
       "    <tr>\n",
       "      <th>werk-voucher</th>\n",
       "      <td>1</td>\n",
       "    </tr>\n",
       "    <tr>\n",
       "      <th>ruit</th>\n",
       "      <td>11</td>\n",
       "    </tr>\n",
       "    <tr>\n",
       "      <th>overgave</th>\n",
       "      <td>3</td>\n",
       "    </tr>\n",
       "  </tbody>\n",
       "</table>\n",
       "<p>53323 rows × 1 columns</p>\n",
       "</div>"
      ],
      "text/plain": [
       "                 nos\n",
       "word                \n",
       "jeugdig            1\n",
       "winnen           187\n",
       "katinka            2\n",
       "veiligheidsbril    2\n",
       "tijdstraf          1\n",
       "...              ...\n",
       "wvggz              1\n",
       "ryanair           26\n",
       "werk-voucher       1\n",
       "ruit              11\n",
       "overgave           3\n",
       "\n",
       "[53323 rows x 1 columns]"
      ]
     },
     "execution_count": 184,
     "metadata": {},
     "output_type": "execute_result"
    }
   ],
   "source": [
    "# string_chunks[1][:5000].split(' ')\n",
    "%time\n",
    "corpus = create_corpus(list_of_articles, save=False)\n",
    "corpus"
   ]
  },
  {
   "cell_type": "code",
   "execution_count": 192,
   "id": "f8047ebd",
   "metadata": {},
   "outputs": [
    {
     "data": {
      "text/html": [
       "<div>\n",
       "<style scoped>\n",
       "    .dataframe tbody tr th:only-of-type {\n",
       "        vertical-align: middle;\n",
       "    }\n",
       "\n",
       "    .dataframe tbody tr th {\n",
       "        vertical-align: top;\n",
       "    }\n",
       "\n",
       "    .dataframe thead th {\n",
       "        text-align: right;\n",
       "    }\n",
       "</style>\n",
       "<table border=\"1\" class=\"dataframe\">\n",
       "  <thead>\n",
       "    <tr style=\"text-align: right;\">\n",
       "      <th></th>\n",
       "      <th>nos</th>\n",
       "    </tr>\n",
       "    <tr>\n",
       "      <th>word</th>\n",
       "      <th></th>\n",
       "    </tr>\n",
       "  </thead>\n",
       "  <tbody>\n",
       "    <tr>\n",
       "      <th>gaan</th>\n",
       "      <td>8382</td>\n",
       "    </tr>\n",
       "    <tr>\n",
       "      <th>zeggen</th>\n",
       "      <td>8039</td>\n",
       "    </tr>\n",
       "    <tr>\n",
       "      <th>komen</th>\n",
       "      <td>7166</td>\n",
       "    </tr>\n",
       "    <tr>\n",
       "      <th>mens</th>\n",
       "      <td>6885</td>\n",
       "    </tr>\n",
       "    <tr>\n",
       "      <th>jaar</th>\n",
       "      <td>5897</td>\n",
       "    </tr>\n",
       "    <tr>\n",
       "      <th>...</th>\n",
       "      <td>...</td>\n",
       "    </tr>\n",
       "    <tr>\n",
       "      <th>politiekleding</th>\n",
       "      <td>1</td>\n",
       "    </tr>\n",
       "    <tr>\n",
       "      <th>barak</th>\n",
       "      <td>1</td>\n",
       "    </tr>\n",
       "    <tr>\n",
       "      <th>kerkstraat</th>\n",
       "      <td>1</td>\n",
       "    </tr>\n",
       "    <tr>\n",
       "      <th>testkit</th>\n",
       "      <td>1</td>\n",
       "    </tr>\n",
       "    <tr>\n",
       "      <th>jeugdig</th>\n",
       "      <td>1</td>\n",
       "    </tr>\n",
       "  </tbody>\n",
       "</table>\n",
       "<p>53323 rows × 1 columns</p>\n",
       "</div>"
      ],
      "text/plain": [
       "                 nos\n",
       "word                \n",
       "gaan            8382\n",
       "zeggen          8039\n",
       "komen           7166\n",
       "mens            6885\n",
       "jaar            5897\n",
       "...              ...\n",
       "politiekleding     1\n",
       "barak              1\n",
       "kerkstraat         1\n",
       "testkit            1\n",
       "jeugdig            1\n",
       "\n",
       "[53323 rows x 1 columns]"
      ]
     },
     "execution_count": 192,
     "metadata": {},
     "output_type": "execute_result"
    }
   ],
   "source": [
    "corpus.sort_values(by='nos', ascending=False)"
   ]
  },
  {
   "cell_type": "code",
   "execution_count": 190,
   "id": "1d4032f3",
   "metadata": {},
   "outputs": [
    {
     "data": {
      "text/plain": [
       "855629"
      ]
     },
     "execution_count": 190,
     "metadata": {},
     "output_type": "execute_result"
    }
   ],
   "source": [
    "corpus['nos'].sum()"
   ]
  },
  {
   "cell_type": "code",
   "execution_count": 193,
   "id": "d044dcee",
   "metadata": {},
   "outputs": [],
   "source": [
    "corpus.to_csv(CORPUS_PATH)"
   ]
  },
  {
   "cell_type": "markdown",
   "id": "4cbcee9b",
   "metadata": {},
   "source": [
    "# Create tf & tf-idf"
   ]
  },
  {
   "cell_type": "code",
   "execution_count": 21,
   "id": "edba9a91",
   "metadata": {},
   "outputs": [],
   "source": [
    "def calculate_tfidf(corpus, include_idf=True):\n",
    "    # Create Dataframe with Relative Word Frequencies\n",
    "    tf_idf = {k: [] for k in corpus.columns}\n",
    "    for index, row in tqdm(corpus.iterrows(), total=len(corpus)):\n",
    "        docs_with = np.count_nonzero(row)\n",
    "\n",
    "        for colname, count in row.items():\n",
    "            total_uniques = np.count_nonzero(corpus[colname])\n",
    "            tf = count / total_uniques\n",
    "            result = tf\n",
    "            if include_idf:\n",
    "                idf = math.log(len(corpus.columns) / docs_with)\n",
    "                result *= idf\n",
    "\n",
    "            tf_idf[colname].append(result)\n",
    "\n",
    "    tf_idf_df = pd.DataFrame.from_dict(tf_idf)\n",
    "    tf_idf_df.set_index(corpus.index, inplace=True)\n",
    "\n",
    "    if include_idf:\n",
    "        tf_idf_df.to_csv(TF_IDF_CSV_PATH)\n",
    "        print(f\"Saved results to 'output/corpus.csv and '{TF_IDF_CSV_PATH}'\")\n",
    "    else:\n",
    "        tf_idf_df.to_csv(TF_CSV_PATH)\n",
    "        print(f\"Saved results to 'output/corpus.csv' and '{TF_CSV_PATH}'\")"
   ]
  },
  {
   "cell_type": "code",
   "execution_count": null,
   "id": "02e50d2b",
   "metadata": {},
   "outputs": [],
   "source": [
    "calculate_tfidf(full_text=stringified_text, include_idf=True):"
   ]
  },
  {
   "cell_type": "markdown",
   "id": "954441d6",
   "metadata": {},
   "source": [
    "# Basis woorden"
   ]
  },
  {
   "cell_type": "code",
   "execution_count": null,
   "id": "1e050377",
   "metadata": {},
   "outputs": [],
   "source": []
  }
 ],
 "metadata": {
  "kernelspec": {
   "display_name": "Python 3 (ipykernel)",
   "language": "python",
   "name": "python3"
  },
  "language_info": {
   "codemirror_mode": {
    "name": "ipython",
    "version": 3
   },
   "file_extension": ".py",
   "mimetype": "text/x-python",
   "name": "python",
   "nbconvert_exporter": "python",
   "pygments_lexer": "ipython3",
   "version": "3.8.0"
  }
 },
 "nbformat": 4,
 "nbformat_minor": 5
}
