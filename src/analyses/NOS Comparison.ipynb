{
 "cells": [
  {
   "cell_type": "markdown",
   "id": "a22dcb98",
   "metadata": {},
   "source": [
    "# Imports"
   ]
  },
  {
   "cell_type": "code",
   "execution_count": 5,
   "id": "91cece1a",
   "metadata": {},
   "outputs": [],
   "source": [
    "import pandas as pd\n",
    "from bs4 import BeautifulSoup\n",
    "import pathlib\n",
    "import requests\n",
    "from tqdm.notebook import tqdm\n",
    "import os\n",
    "\n",
    "pd.set_option('display.max_rows', None)"
   ]
  },
  {
   "cell_type": "markdown",
   "id": "deda668d",
   "metadata": {},
   "source": [
    "# Code"
   ]
  },
  {
   "cell_type": "code",
   "execution_count": 6,
   "id": "5c029b7b",
   "metadata": {},
   "outputs": [],
   "source": [
    "ARTICLE_OUTPUT_FOLDER = '../input/articles'\n",
    "NOS_ARCHIVE_URL = 'https://nos.nl/nieuws/archief/'\n",
    "NOS_URL = 'https://nos.nl'\n",
    "\n",
    "pathlib.Path(ARTICLE_OUTPUT_FOLDER).mkdir(parents=True, exist_ok=True)\n",
    "\n",
    "# example article url: https://nos.nl/nieuws/archief/2020-05-25"
   ]
  },
  {
   "cell_type": "code",
   "execution_count": 7,
   "id": "c8635de7",
   "metadata": {},
   "outputs": [],
   "source": [
    "# get list of formatted dates\n",
    "dates = [x.strftime('%Y-%m-%d') for x in pd.date_range(start = '2020-04-01',end='2020-04-30', freq='D')] # datetime.today()"
   ]
  },
  {
   "cell_type": "markdown",
   "id": "5cbc3b6c",
   "metadata": {},
   "source": [
    "### Get Article URL's"
   ]
  },
  {
   "cell_type": "code",
   "execution_count": 8,
   "id": "fca0eb7a",
   "metadata": {},
   "outputs": [
    {
     "data": {
      "application/vnd.jupyter.widget-view+json": {
       "model_id": "39bf820b1a6b4d8d8ca1956d872260b7",
       "version_major": 2,
       "version_minor": 0
      },
      "text/plain": [
       "  0%|          | 0/30 [00:00<?, ?it/s]"
      ]
     },
     "metadata": {},
     "output_type": "display_data"
    }
   ],
   "source": [
    "def get_article_urls(dates):\n",
    "    article_urls_dict = {}\n",
    "    \n",
    "    for date in tqdm(dates, total=len(dates)):\n",
    "        urls = []\n",
    "        response = requests.get(NOS_ARCHIVE_URL+date)\n",
    "        soup = BeautifulSoup(response.content, \"html.parser\")\n",
    "        \n",
    "        for page_content in soup.findAll('a', href=True):\n",
    "                urls.append(page_content['href'])\n",
    "        urls = pd.Series(urls)\n",
    "        urls = urls[urls.str.contains('/artikel/')]\n",
    "        urls = NOS_URL + urls\n",
    "        article_urls_dict[date] = list(urls)\n",
    "        \n",
    "    return(article_urls_dict)\n",
    "\n",
    "article_urls = get_article_urls(dates)"
   ]
  },
  {
   "cell_type": "markdown",
   "id": "b1f9c232",
   "metadata": {},
   "source": [
    "### Get Article Texts"
   ]
  },
  {
   "cell_type": "code",
   "execution_count": 32,
   "id": "c818ce72",
   "metadata": {},
   "outputs": [],
   "source": [
    "def get_article_text(article_url, date):\n",
    "    file_name = f\"{ARTICLE_OUTPUT_FOLDER}/{date}/{article_url[article_url.find('/artikel/')+9:]}.txt\"\n",
    "    \n",
    "    if not os.path.exists(file_name):\n",
    "        response_text = requests.get(article_url)\n",
    "        soup = BeautifulSoup(response_text.content, \"html.parser\")\n",
    "        raw_paragraphs = soup.find_all('p', class_=\"text_3v_J6Y0G\")\n",
    "        texts = [p.get_text() for p in raw_paragraphs]\n",
    "        try:\n",
    "            with open(file_name, \"w\", encoding='utf-8') as txt_file:\n",
    "                txt_file.write('\\n'.join(texts))\n",
    "        except:\n",
    "            print(f'Could not save {file_name}')"
   ]
  },
  {
   "cell_type": "code",
   "execution_count": 33,
   "id": "d4fc09b5",
   "metadata": {},
   "outputs": [
    {
     "data": {
      "application/vnd.jupyter.widget-view+json": {
       "model_id": "d9d287c595914a91889ae95e7bc5ab5a",
       "version_major": 2,
       "version_minor": 0
      },
      "text/plain": [
       "  0%|          | 0/30 [00:00<?, ?it/s]"
      ]
     },
     "metadata": {},
     "output_type": "display_data"
    },
    {
     "data": {
      "application/vnd.jupyter.widget-view+json": {
       "model_id": "021b9b7b1db445ce912177061052e387",
       "version_major": 2,
       "version_minor": 0
      },
      "text/plain": [
       "  0%|          | 0/37 [00:00<?, ?it/s]"
      ]
     },
     "metadata": {},
     "output_type": "display_data"
    },
    {
     "data": {
      "application/vnd.jupyter.widget-view+json": {
       "model_id": "5021776fd8cf45e2aba03da176b654fc",
       "version_major": 2,
       "version_minor": 0
      },
      "text/plain": [
       "  0%|          | 0/34 [00:00<?, ?it/s]"
      ]
     },
     "metadata": {},
     "output_type": "display_data"
    },
    {
     "data": {
      "application/vnd.jupyter.widget-view+json": {
       "model_id": "9d68cbeeb114481a9b036acf8aa681bc",
       "version_major": 2,
       "version_minor": 0
      },
      "text/plain": [
       "  0%|          | 0/47 [00:00<?, ?it/s]"
      ]
     },
     "metadata": {},
     "output_type": "display_data"
    },
    {
     "data": {
      "application/vnd.jupyter.widget-view+json": {
       "model_id": "c26f1955184949c2b3c04e398ab29616",
       "version_major": 2,
       "version_minor": 0
      },
      "text/plain": [
       "  0%|          | 0/25 [00:00<?, ?it/s]"
      ]
     },
     "metadata": {},
     "output_type": "display_data"
    },
    {
     "data": {
      "application/vnd.jupyter.widget-view+json": {
       "model_id": "2ccc827e753d4cf1832052c22bf5fdaa",
       "version_major": 2,
       "version_minor": 0
      },
      "text/plain": [
       "  0%|          | 0/25 [00:00<?, ?it/s]"
      ]
     },
     "metadata": {},
     "output_type": "display_data"
    },
    {
     "data": {
      "application/vnd.jupyter.widget-view+json": {
       "model_id": "1d905fa30cc24d0f9dd9584a14f7ca45",
       "version_major": 2,
       "version_minor": 0
      },
      "text/plain": [
       "  0%|          | 0/42 [00:00<?, ?it/s]"
      ]
     },
     "metadata": {},
     "output_type": "display_data"
    },
    {
     "data": {
      "application/vnd.jupyter.widget-view+json": {
       "model_id": "bd59568bf61b4a7d8ea7d5400d7cce44",
       "version_major": 2,
       "version_minor": 0
      },
      "text/plain": [
       "  0%|          | 0/40 [00:00<?, ?it/s]"
      ]
     },
     "metadata": {},
     "output_type": "display_data"
    },
    {
     "data": {
      "application/vnd.jupyter.widget-view+json": {
       "model_id": "72c6471f9dbd4a649eedda89508b0b3b",
       "version_major": 2,
       "version_minor": 0
      },
      "text/plain": [
       "  0%|          | 0/46 [00:00<?, ?it/s]"
      ]
     },
     "metadata": {},
     "output_type": "display_data"
    },
    {
     "data": {
      "application/vnd.jupyter.widget-view+json": {
       "model_id": "a9f5612eab7b41cb85ec322465d38c55",
       "version_major": 2,
       "version_minor": 0
      },
      "text/plain": [
       "  0%|          | 0/36 [00:00<?, ?it/s]"
      ]
     },
     "metadata": {},
     "output_type": "display_data"
    },
    {
     "data": {
      "application/vnd.jupyter.widget-view+json": {
       "model_id": "a3de432759a24ed28a5b67e4f39ace95",
       "version_major": 2,
       "version_minor": 0
      },
      "text/plain": [
       "  0%|          | 0/40 [00:00<?, ?it/s]"
      ]
     },
     "metadata": {},
     "output_type": "display_data"
    },
    {
     "data": {
      "application/vnd.jupyter.widget-view+json": {
       "model_id": "8bac5273c4d844c9834a1f8b692093ba",
       "version_major": 2,
       "version_minor": 0
      },
      "text/plain": [
       "  0%|          | 0/29 [00:00<?, ?it/s]"
      ]
     },
     "metadata": {},
     "output_type": "display_data"
    },
    {
     "data": {
      "application/vnd.jupyter.widget-view+json": {
       "model_id": "9f086c4fcd6b48e8b0b99363519fcd8d",
       "version_major": 2,
       "version_minor": 0
      },
      "text/plain": [
       "  0%|          | 0/31 [00:00<?, ?it/s]"
      ]
     },
     "metadata": {},
     "output_type": "display_data"
    },
    {
     "data": {
      "application/vnd.jupyter.widget-view+json": {
       "model_id": "816de14074b546d3b79101386e86967a",
       "version_major": 2,
       "version_minor": 0
      },
      "text/plain": [
       "  0%|          | 0/29 [00:00<?, ?it/s]"
      ]
     },
     "metadata": {},
     "output_type": "display_data"
    },
    {
     "data": {
      "application/vnd.jupyter.widget-view+json": {
       "model_id": "44b9006fa3e243deb0f48b587df508ae",
       "version_major": 2,
       "version_minor": 0
      },
      "text/plain": [
       "  0%|          | 0/35 [00:00<?, ?it/s]"
      ]
     },
     "metadata": {},
     "output_type": "display_data"
    },
    {
     "data": {
      "application/vnd.jupyter.widget-view+json": {
       "model_id": "62276d8cfb0f48fea05ac8154cb2f0fd",
       "version_major": 2,
       "version_minor": 0
      },
      "text/plain": [
       "  0%|          | 0/46 [00:00<?, ?it/s]"
      ]
     },
     "metadata": {},
     "output_type": "display_data"
    },
    {
     "name": "stdout",
     "output_type": "stream",
     "text": [
      "Could not save ../input/articles/2020-04-15/2330512-wekdienst-15-4-persconferentie-kabinet-over-coronamaatregelen-verkiezingen-in-zuid-korea.txt\n"
     ]
    },
    {
     "data": {
      "application/vnd.jupyter.widget-view+json": {
       "model_id": "87d7aee968934950bf44e27b2fbc24e4",
       "version_major": 2,
       "version_minor": 0
      },
      "text/plain": [
       "  0%|          | 0/41 [00:00<?, ?it/s]"
      ]
     },
     "metadata": {},
     "output_type": "display_data"
    },
    {
     "name": "stdout",
     "output_type": "stream",
     "text": [
      "Could not save ../input/articles/2020-04-16/2330685-coronacijfers-van-16-april-aantal-doden-daalt-minder-hard-dan-aantal-ziekenhuisopnames.txt\n"
     ]
    },
    {
     "data": {
      "application/vnd.jupyter.widget-view+json": {
       "model_id": "8937e7c9fa684e58abd73d841548eac4",
       "version_major": 2,
       "version_minor": 0
      },
      "text/plain": [
       "  0%|          | 0/40 [00:00<?, ?it/s]"
      ]
     },
     "metadata": {},
     "output_type": "display_data"
    },
    {
     "data": {
      "application/vnd.jupyter.widget-view+json": {
       "model_id": "52b0bc62f2f74e36ad03c50eff44dde1",
       "version_major": 2,
       "version_minor": 0
      },
      "text/plain": [
       "  0%|          | 0/23 [00:00<?, ?it/s]"
      ]
     },
     "metadata": {},
     "output_type": "display_data"
    },
    {
     "data": {
      "application/vnd.jupyter.widget-view+json": {
       "model_id": "1cb03efe8ca64fb2a47989beadb7af6e",
       "version_major": 2,
       "version_minor": 0
      },
      "text/plain": [
       "  0%|          | 0/24 [00:00<?, ?it/s]"
      ]
     },
     "metadata": {},
     "output_type": "display_data"
    },
    {
     "data": {
      "application/vnd.jupyter.widget-view+json": {
       "model_id": "93038a7906834f1f883aecf293131b2d",
       "version_major": 2,
       "version_minor": 0
      },
      "text/plain": [
       "  0%|          | 0/47 [00:00<?, ?it/s]"
      ]
     },
     "metadata": {},
     "output_type": "display_data"
    },
    {
     "data": {
      "application/vnd.jupyter.widget-view+json": {
       "model_id": "0233447a9354442b8d7bc2806fe463b3",
       "version_major": 2,
       "version_minor": 0
      },
      "text/plain": [
       "  0%|          | 0/47 [00:00<?, ?it/s]"
      ]
     },
     "metadata": {},
     "output_type": "display_data"
    },
    {
     "data": {
      "application/vnd.jupyter.widget-view+json": {
       "model_id": "1ce32ee455324f378d029be1880ef774",
       "version_major": 2,
       "version_minor": 0
      },
      "text/plain": [
       "  0%|          | 0/44 [00:00<?, ?it/s]"
      ]
     },
     "metadata": {},
     "output_type": "display_data"
    },
    {
     "data": {
      "application/vnd.jupyter.widget-view+json": {
       "model_id": "0f87e10d004540a287831934f1d762f1",
       "version_major": 2,
       "version_minor": 0
      },
      "text/plain": [
       "  0%|          | 0/41 [00:00<?, ?it/s]"
      ]
     },
     "metadata": {},
     "output_type": "display_data"
    },
    {
     "data": {
      "application/vnd.jupyter.widget-view+json": {
       "model_id": "496c9ffca39f4623a0cd93fad2532e87",
       "version_major": 2,
       "version_minor": 0
      },
      "text/plain": [
       "  0%|          | 0/49 [00:00<?, ?it/s]"
      ]
     },
     "metadata": {},
     "output_type": "display_data"
    },
    {
     "data": {
      "application/vnd.jupyter.widget-view+json": {
       "model_id": "19e9b502b2ce40f69551b52f52f05b8a",
       "version_major": 2,
       "version_minor": 0
      },
      "text/plain": [
       "  0%|          | 0/22 [00:00<?, ?it/s]"
      ]
     },
     "metadata": {},
     "output_type": "display_data"
    },
    {
     "data": {
      "application/vnd.jupyter.widget-view+json": {
       "model_id": "09a41bc8aaae4483b56d8b40bd4f9ec8",
       "version_major": 2,
       "version_minor": 0
      },
      "text/plain": [
       "  0%|          | 0/25 [00:00<?, ?it/s]"
      ]
     },
     "metadata": {},
     "output_type": "display_data"
    },
    {
     "data": {
      "application/vnd.jupyter.widget-view+json": {
       "model_id": "b12fb45b1d5b4867912ed64a1fa7e3e7",
       "version_major": 2,
       "version_minor": 0
      },
      "text/plain": [
       "  0%|          | 0/38 [00:00<?, ?it/s]"
      ]
     },
     "metadata": {},
     "output_type": "display_data"
    },
    {
     "data": {
      "application/vnd.jupyter.widget-view+json": {
       "model_id": "c12522394fc4484f9bdc82c57830b7cf",
       "version_major": 2,
       "version_minor": 0
      },
      "text/plain": [
       "  0%|          | 0/46 [00:00<?, ?it/s]"
      ]
     },
     "metadata": {},
     "output_type": "display_data"
    },
    {
     "data": {
      "application/vnd.jupyter.widget-view+json": {
       "model_id": "fb39fb2af09d465f86af9a6e7e6e5991",
       "version_major": 2,
       "version_minor": 0
      },
      "text/plain": [
       "  0%|          | 0/44 [00:00<?, ?it/s]"
      ]
     },
     "metadata": {},
     "output_type": "display_data"
    },
    {
     "data": {
      "application/vnd.jupyter.widget-view+json": {
       "model_id": "39b7155a98c14506bb316c3a71c05d40",
       "version_major": 2,
       "version_minor": 0
      },
      "text/plain": [
       "  0%|          | 0/45 [00:00<?, ?it/s]"
      ]
     },
     "metadata": {},
     "output_type": "display_data"
    }
   ],
   "source": [
    "for date in tqdm(article_urls, total=len(article_urls)):\n",
    "    pathlib.Path(ARTICLE_OUTPUT_FOLDER + '/' + date).mkdir(parents=True, exist_ok=True)\n",
    "    for article_url in tqdm(article_urls[date]):\n",
    "        get_article_text(article_url, date)"
   ]
  },
  {
   "cell_type": "markdown",
   "id": "0bb5ea54",
   "metadata": {},
   "source": [
    "### Number of Articles"
   ]
  },
  {
   "cell_type": "code",
   "execution_count": 34,
   "id": "be792679",
   "metadata": {},
   "outputs": [
    {
     "name": "stdout",
     "output_type": "stream",
     "text": [
      "1116\n"
     ]
    }
   ],
   "source": [
    "file_count = sum(len(files) for _, _, files in os.walk('../input/articles/'))\n",
    "print(file_count)"
   ]
  },
  {
   "cell_type": "code",
   "execution_count": 44,
   "id": "2e0291ad",
   "metadata": {},
   "outputs": [
    {
     "name": "stdout",
     "output_type": "stream",
     "text": [
      "dict_keys(['2020-04-01'])\n"
     ]
    }
   ],
   "source": [
    "#load_texts():\n",
    "#    for os.listdir()\n",
    "text_dict = {}\n",
    "for date in article_urls:\n",
    "    text_dict[date] = []\n",
    "    #print(article_urls[date])\n",
    "    for article in article_urls[date]:\n",
    "        full_path_article = f\"{ARTICLE_OUTPUT_FOLDER}/{date}/{article[article.find('/artikel/')+9:]}.txt\"\n",
    "        if os.path.exists(full_path_article):\n",
    "            with open(full_path_article, \"r\", encoding='utf-8') as f:\n",
    "                text_dict[date].append(f.readlines())\n",
    "    break\n",
    "print(text_dict.keys())\n",
    "        #print(os.path.exists()"
   ]
  },
  {
   "cell_type": "code",
   "execution_count": 43,
   "id": "bbbe5006",
   "metadata": {},
   "outputs": [],
   "source": [
    "import spacy\n",
    "nlp = spacy.load(\"nl_core_news_sm\")"
   ]
  },
  {
   "cell_type": "code",
   "execution_count": 65,
   "id": "5b53f2c2",
   "metadata": {},
   "outputs": [],
   "source": [
    "TF_IDF_CSV_PATH = '../output/NOS_tf_idf.csv'\n",
    "TF_CSV_PATH = '../output/NOS_tf.csv'\n",
    "CORPUS_PATH = '../output/NOS_corpus.csv'"
   ]
  },
  {
   "cell_type": "code",
   "execution_count": 63,
   "id": "ebf8fb7d",
   "metadata": {},
   "outputs": [],
   "source": [
    "def calculate_tfidf(full_text: list, include_idf=True) -> tuple:\n",
    "    corpus = pd.DataFrame(columns=['word'])\n",
    "\n",
    "    # Create Dataframe with Word Counts\n",
    "    word = [token.lemma_ for token in nlp(full_text) if not (token.is_stop or token.is_punct or token.is_space)]\n",
    "\n",
    "    word_count = Counter(word)\n",
    "\n",
    "    new_word = list(set(word_count.keys()) - set(corpus['word']))\n",
    "    corpus = corpus.append(pd.DataFrame({'word': new_word}), ignore_index=True)\n",
    "\n",
    "    wordlist = []\n",
    "    for word in corpus['word']:\n",
    "        if word in word_count.keys():\n",
    "            wordlist.append(word_count[word])\n",
    "        else:\n",
    "            wordlist.append(0)\n",
    "\n",
    "    corpus['nos'] = wordlist\n",
    "\n",
    "    corpus.set_index('word', inplace=True)\n",
    "    corpus.fillna(0, inplace=True)\n",
    "\n",
    "    corpus.to_csv(CORPUS_PATH)\n"
   ]
  },
  {
   "cell_type": "code",
   "execution_count": 66,
   "id": "a5f44c9a",
   "metadata": {},
   "outputs": [],
   "source": [
    "from collections import Counter\n",
    "\n",
    "t = text_dict['2020-04-01']\n",
    "flat_list = [item for sublist in t for item in sublist]\n",
    "flat_list\n",
    "\n",
    "calculate_tfidf(' '.join(flat_list))"
   ]
  },
  {
   "cell_type": "code",
   "execution_count": 1,
   "id": "4d763a8e",
   "metadata": {},
   "outputs": [],
   "source": [
    "def calculate_tfidf(text_by_speaker: tuple, include_idf=True) -> tuple:\n",
    "    \"\"\"\n",
    "\n",
    "    Calculates the tfidf per speaker per conference\n",
    "\n",
    "    :return: a tuple containing Rutte texts and De Jonge texts respectively\n",
    "\n",
    "    \"\"\"\n",
    "    corpus = pd.DataFrame(columns=['word'])\n",
    "    nr_of_conferences = len(text_by_speaker[0])\n",
    "\n",
    "    # Create Dataframe with Word Counts\n",
    "    for i in tqdm(range(nr_of_conferences)):\n",
    "        full_conference_text = text_by_speaker[0][i]['text'] + text_by_speaker[1][i]['text']\n",
    "        word = [token.lemma_ for token in nlp(full_conference_text) if\n",
    "                 not (token.is_stop or token.is_punct or token.is_space)]\n",
    "\n",
    "        word_count = Counter(word)\n",
    "\n",
    "        new_word = list(set(word_count.keys()) - set(corpus['word']))\n",
    "        corpus = corpus.append(pd.DataFrame({'word': new_word}), ignore_index=True)\n",
    "\n",
    "        wordlist = []\n",
    "        for word in corpus['word']:\n",
    "            if word in word_count.keys():\n",
    "                wordlist.append(word_count[word])\n",
    "            else:\n",
    "                wordlist.append(0)\n",
    "\n",
    "        corpus[text_by_speaker[0][i]['date']] = wordlist\n",
    "\n",
    "    corpus.set_index('word', inplace=True)\n",
    "    corpus.fillna(0, inplace=True)\n",
    "\n",
    "    corpus.to_csv(CORPUS_PATH)\n",
    "\n",
    "    tf_idf = {k: [] for k in corpus.columns}\n",
    "\n",
    "    # Create Dataframe with Relative Word Frequencies\n",
    "    for index, row in tqdm(corpus.iterrows(), total=len(corpus)):\n",
    "        docs_with = np.count_nonzero(row)\n",
    "\n",
    "        for colname, count in row.items():\n",
    "            total_uniques = np.count_nonzero(corpus[colname])\n",
    "            tf = count / total_uniques\n",
    "            result = tf\n",
    "            if include_idf:\n",
    "                idf = math.log(len(corpus.columns) / docs_with)\n",
    "                result *= idf\n",
    "\n",
    "            tf_idf[colname].append(result)\n",
    "\n",
    "    tf_idf_df = pd.DataFrame.from_dict(tf_idf)\n",
    "    tf_idf_df.set_index(corpus.index, inplace=True)\n",
    "\n",
    "    if include_idf:\n",
    "        tf_idf_df.to_csv(TF_IDF_CSV_PATH)\n",
    "        print(f\"Saved results to 'output/corpus.csv and '{TF_IDF_CSV_PATH}'\")\n",
    "    else:\n",
    "        tf_idf_df.to_csv(TF_CSV_PATH)\n",
    "        print(f\"Saved results to 'output/corpus.csv' and '{TF_CSV_PATH}'\")"
   ]
  },
  {
   "cell_type": "code",
   "execution_count": null,
   "id": "951c9824",
   "metadata": {},
   "outputs": [],
   "source": [
    "calculate_tfidf()"
   ]
  }
 ],
 "metadata": {
  "kernelspec": {
   "display_name": "Python 3 (ipykernel)",
   "language": "python",
   "name": "python3"
  },
  "language_info": {
   "codemirror_mode": {
    "name": "ipython",
    "version": 3
   },
   "file_extension": ".py",
   "mimetype": "text/x-python",
   "name": "python",
   "nbconvert_exporter": "python",
   "pygments_lexer": "ipython3",
   "version": "3.8.0"
  }
 },
 "nbformat": 4,
 "nbformat_minor": 5
}
