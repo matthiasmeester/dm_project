{
 "cells": [
  {
   "cell_type": "markdown",
   "id": "8ce3c830",
   "metadata": {},
   "source": [
    "<div class=\"alert alert-success\" style=\"font-size: 16px;\">\n",
    "    <div style=\"font-size: 22px; font-weight:bold; margin: 10px 0px;\">Topic Modeling</div>\n",
    "After preprocessing we have to vectorize our preprocessed text and train our topic model.\n",
    "</div>"
   ]
  },
  {
   "cell_type": "markdown",
   "id": "d1dd84e7",
   "metadata": {},
   "source": [
    "## Imports"
   ]
  },
  {
   "cell_type": "code",
   "execution_count": 1,
   "id": "9f0fce16",
   "metadata": {},
   "outputs": [],
   "source": [
    "#!py -m spacy download en_core_web_sm\n",
    "\n",
    "from tqdm.notebook import tqdm\n",
    "import spacy\n",
    "\n",
    "from conferences import get_conference_data\n",
    "\n",
    "try:\n",
    "    nlp\n",
    "except:\n",
    "    nlp = spacy.load(\"nl_core_news_sm\")"
   ]
  },
  {
   "cell_type": "markdown",
   "id": "76c8fe8b",
   "metadata": {},
   "source": [
    "## Get Data"
   ]
  },
  {
   "cell_type": "code",
   "execution_count": 2,
   "id": "2157a2c8",
   "metadata": {},
   "outputs": [],
   "source": [
    "conferences_data = get_conference_data()"
   ]
  },
  {
   "cell_type": "code",
   "execution_count": 3,
   "id": "d48ef519",
   "metadata": {},
   "outputs": [],
   "source": [
    "text_by_Rutte = [conference['text'] for conference in conferences_data[0]]\n",
    "text_by_de_jonge = [conference['text'] for conference in conferences_data[1]]\n",
    "\n",
    "merged_texts = [text_by_Rutte, text_by_de_jonge]\n",
    "merged_texts = [item for sublist in merged_texts for item in sublist]"
   ]
  },
  {
   "cell_type": "markdown",
   "id": "7f8d169e",
   "metadata": {},
   "source": [
    "## Tokenize Texts"
   ]
  },
  {
   "cell_type": "code",
   "execution_count": 4,
   "id": "16029d9d",
   "metadata": {},
   "outputs": [
    {
     "data": {
      "application/vnd.jupyter.widget-view+json": {
       "model_id": "8ee85dd98f494468a5fe39c64c8e4524",
       "version_major": 2,
       "version_minor": 0
      },
      "text/plain": [
       "  0%|          | 0/58 [00:00<?, ?it/s]"
      ]
     },
     "metadata": {},
     "output_type": "display_data"
    },
    {
     "name": "stdout",
     "output_type": "stream",
     "text": [
      "Wall time: 1min 24s\n"
     ]
    }
   ],
   "source": [
    "%%time \n",
    "processed_texts = [text for text in tqdm(nlp.pipe(merged_texts, n_process=1, disable=[\"ner\", \"parser\"]), total=len(merged_texts))] "
   ]
  },
  {
   "cell_type": "code",
   "execution_count": 1,
   "id": "b1164ab1",
   "metadata": {},
   "outputs": [],
   "source": [
    "# processed_texts[:10]"
   ]
  },
  {
   "cell_type": "code",
   "execution_count": 2,
   "id": "a9299c2e",
   "metadata": {},
   "outputs": [
    {
     "ename": "NameError",
     "evalue": "name 'processed_texts' is not defined",
     "output_type": "error",
     "traceback": [
      "\u001b[1;31m---------------------------------------------------------------------------\u001b[0m",
      "\u001b[1;31mNameError\u001b[0m                                 Traceback (most recent call last)",
      "\u001b[1;32m~\\AppData\\Local\\Temp/ipykernel_15288/2663183794.py\u001b[0m in \u001b[0;36m<module>\u001b[1;34m\u001b[0m\n\u001b[0;32m      1\u001b[0m \u001b[1;31m# word.pos_ == 'VERB' and not\u001b[0m\u001b[1;33m\u001b[0m\u001b[1;33m\u001b[0m\u001b[1;33m\u001b[0m\u001b[0m\n\u001b[1;32m----> 2\u001b[1;33m \u001b[0mtokenized_texts_lem\u001b[0m \u001b[1;33m=\u001b[0m \u001b[1;33m[\u001b[0m\u001b[1;33m[\u001b[0m\u001b[0mword\u001b[0m\u001b[1;33m.\u001b[0m\u001b[0mlemma_\u001b[0m \u001b[1;32mfor\u001b[0m \u001b[0mword\u001b[0m \u001b[1;32min\u001b[0m \u001b[0mprocessed_text\u001b[0m \u001b[1;32mif\u001b[0m \u001b[1;32mnot\u001b[0m \u001b[0mword\u001b[0m\u001b[1;33m.\u001b[0m\u001b[0mis_stop\u001b[0m \u001b[1;32mand\u001b[0m \u001b[1;32mnot\u001b[0m \u001b[0mword\u001b[0m\u001b[1;33m.\u001b[0m\u001b[0mis_punct\u001b[0m\u001b[1;33m]\u001b[0m \u001b[1;32mfor\u001b[0m \u001b[0mprocessed_text\u001b[0m \u001b[1;32min\u001b[0m \u001b[0mprocessed_texts\u001b[0m\u001b[1;33m]\u001b[0m\u001b[1;33m\u001b[0m\u001b[1;33m\u001b[0m\u001b[0m\n\u001b[0m\u001b[0;32m      3\u001b[0m \u001b[0mtokenized_texts_lem\u001b[0m\u001b[1;33m[\u001b[0m\u001b[1;33m:\u001b[0m\u001b[1;36m10\u001b[0m\u001b[1;33m]\u001b[0m\u001b[1;33m\u001b[0m\u001b[1;33m\u001b[0m\u001b[0m\n",
      "\u001b[1;31mNameError\u001b[0m: name 'processed_texts' is not defined"
     ]
    }
   ],
   "source": [
    "# word.pos_ == 'VERB' and not \n",
    "tokenized_texts_lem = [[word.lemma_ for word in processed_text if not word.is_stop and not word.is_punct] for processed_text in processed_texts]\n",
    "tokenized_texts_lem[:10]"
   ]
  },
  {
   "cell_type": "markdown",
   "id": "0b457880",
   "metadata": {},
   "source": [
    "## Vectorization"
   ]
  },
  {
   "cell_type": "code",
   "execution_count": 11,
   "id": "18d5c740",
   "metadata": {},
   "outputs": [],
   "source": [
    "from gensim.corpora import Dictionary\n",
    "\n",
    "MIN_DF = 1 # minium document frequency\n",
    "MAX_DF = 0.6 # maximum document frequency\n",
    "\n",
    "dictionary = Dictionary(tokenized_texts_lem) # get the vocabulary\n",
    "dictionary.filter_extremes(no_below=MIN_DF, \n",
    "                           no_above=MAX_DF)\n",
    "corpus = [dictionary.doc2bow(text) for text in tokenized_texts_lem]"
   ]
  },
  {
   "cell_type": "raw",
   "id": "3ac54a44",
   "metadata": {},
   "source": [
    "dictionary"
   ]
  },
  {
   "cell_type": "markdown",
   "id": "a62ff9ac",
   "metadata": {},
   "source": [
    "## Train Model"
   ]
  },
  {
   "cell_type": "code",
   "execution_count": 12,
   "id": "34e46501",
   "metadata": {},
   "outputs": [],
   "source": [
    "from gensim.models.wrappers import LdaMallet\n",
    "\n",
    "PATH_TO_MALLET = r'C:/mallet/bin/mallet.bat'\n",
    "\n",
    "N_TOPICS = 2\n",
    "N_ITERATIONS = 1000 # usually 1000 will do\n",
    "\n",
    "lda = LdaMallet(PATH_TO_MALLET,\n",
    "                corpus=corpus,\n",
    "                id2word=dictionary,\n",
    "                num_topics=N_TOPICS,\n",
    "                optimize_interval=10,\n",
    "                iterations=N_ITERATIONS)"
   ]
  },
  {
   "cell_type": "markdown",
   "id": "a8c89505",
   "metadata": {},
   "source": [
    "## Show Topics"
   ]
  },
  {
   "cell_type": "code",
   "execution_count": 15,
   "id": "7eaaeb48",
   "metadata": {},
   "outputs": [
    {
     "name": "stdout",
     "output_type": "stream",
     "text": [
      "Topic 0: prikken daadwerkelijk maat gezondheidsraad toegangstest levering regio vaccinatiegraad bescherming besmettingsgraad 60 kortom astrazeneca verantwoorden naam fase huisarts risiconiveau leveren organiseren\n",
      "Topic 1: uur hugo jonge avondklok pakket lockdown school winkel   maximaal corona helaas kind variant ervoor afstand burgemeester maart feit lastig\n"
     ]
    }
   ],
   "source": [
    "for topic in range(N_TOPICS):\n",
    "    words = lda.show_topic(topic, 20)\n",
    "    topic_n_words = ' '.join([word[0] for word in words])\n",
    "    print('Topic {}: {}'.format(str(topic), topic_n_words))"
   ]
  },
  {
   "cell_type": "markdown",
   "id": "6c3885fa",
   "metadata": {},
   "source": [
    "## Visualisation with pyLDAvis"
   ]
  },
  {
   "cell_type": "code",
   "execution_count": 14,
   "id": "397b81d7",
   "metadata": {},
   "outputs": [
    {
     "name": "stderr",
     "output_type": "stream",
     "text": [
      "c:\\users\\deejay\\appdata\\local\\programs\\python\\python38\\lib\\site-packages\\pyLDAvis\\_prepare.py:246: FutureWarning: In a future version of pandas all arguments of DataFrame.drop except for the argument 'labels' will be keyword-only\n",
      "  default_term_info = default_term_info.sort_values(\n"
     ]
    },
    {
     "data": {
      "text/html": [
       "\n",
       "<link rel=\"stylesheet\" type=\"text/css\" href=\"https://cdn.jsdelivr.net/gh/bmabey/pyLDAvis@3.3.1/pyLDAvis/js/ldavis.v1.0.0.css\">\n",
       "\n",
       "\n",
       "<div id=\"ldavis_el951630796219223689248567258\"></div>\n",
       "<script type=\"text/javascript\">\n",
       "\n",
       "var ldavis_el951630796219223689248567258_data = {\"mdsDat\": {\"x\": [0.15502169042905092, -0.15502169042905092], \"y\": [0.0, 0.0], \"topics\": [1, 2], \"cluster\": [1, 1], \"Freq\": [57.793327312400166, 42.20667268759982]}, \"tinfo\": {\"Term\": [\"uur\", \"prikken\", \"gezondheidsraad\", \"toegangstest\", \"daadwerkelijk\", \"jonge\", \"levering\", \"pakket\", \"hugo\", \"kortom\", \"maat\", \"astrazeneca\", \"avondklok\", \"besmettingsgraad\", \"maximaal\", \"bescherming\", \"naam\", \"winkel\", \"60\", \"afstand\", \"risiconiveau\", \"burgemeester\", \"lastig\", \"vaccinatiegraad\", \"kwartaal\", \"huisarts\", \"ema\", \"indicator\", \"ervoor\", \"type\", \"2021\", \"catshuis\", \"dreigen\", \"duwen\", \"gast\", \"jonge\", \"omstandigheid\", \"schudden\", \"wiebes\", \"20.00\", \"aanscherpen\", \"doorheen\", \"ellende\", \"koolmees\", \"mondkapjesplicht\", \"pakket\", \"strikt\", \"trein\", \"uiterst\", \"fractie\", \"steunpakkett\", \"vieren\", \"kerstvakantie\", \"verplaatsing\", \"28\", \"vergaderen\", \"advisering\", \"prioriteit\", \"rondgaan\", \"voornemen\", \"uur\", \"maximaal\", \"afstand\", \"burgemeester\", \"lastig\", \"hugo\", \"kerst\", \"dringend\", \"praten\", \"maandag\", \"vertellen\", \"coronatoegangsbewij\", \"sport\", \"zaterdag\", \"winkel\", \"basisregel\", \"dinsdag\", \"gisteren\", \"nos\", \"team\", \"ontzettend\", \"avondklok\", \"verschrikkelijk\", \"kantoor\", \"oproep\", \"persconferentie\", \"uitzondering\", \"ervoor\", \"avond\", \"inzicht\", \"caf\\u00e9\", \"slot\", \"helaas\", \"lockdown\", \"school\", \"kind\", \"discussie\", \"corona\", \"\\u00a0\", \"feit\", \"zwaar\", \"beperking\", \"variant\", \"maart\", \"april\", \"bedrijf\", \"plek\", \"morgen\", \"gedrag\", \"december\", \"epidemiologisch\", \"omvang\", \"evident\", \"bijten\", \"ic-bedd\", \"inzet\", \"naar\", \"voorspelbaar\", \"indicator\", \"invulling\", \"daartoe\", \"wendbaar\", \"vink\", \"instantie\", \"kanttekening\", \"verhouden\", \"afgeven\", \"mijlpaal\", \"tiental\", \"afronden\", \"homogeen\", \"doelen\", \"hartstikke\", \"etc.\", \"onttrekken\", \"dashboard\", \"inschaling\", \"productie\", \"som\", \"introduceren\", \"gezondheidsraad\", \"kortom\", \"astrazeneca\", \"naam\", \"ema\", \"toegangstest\", \"janssen\", \"context\", \"opschalen\", \"richtlijn\", \"centraal\", \"testuitslagen\", \"dusdanig\", \"pfizer\", \"eventje\", \"astra\", \"expert\", \"systeem\", \"verhogen\", \"europese\", \"geweldig\", \"aanhouden\", \"spul\", \"nul\", \"zul\", \"toelating\", \"vaccinatiebereidheid\", \"kwartaal\", \"prikken\", \"levering\", \"type\", \"daadwerkelijk\", \"besmettingsgraad\", \"aanzien\", \"risiconiveau\", \"60\", \"bescherming\", \"registratie\", \"telkens\", \"maat\", \"huisarts\", \"setting\", \"inzetten\", \"infectie\", \"coronatoegangsbewijz\", \"vaccinatiegraad\", \"leveren\", \"doormaken\", \"verantwoorden\", \"exact\", \"regio\", \"fase\", \"opbouwen\", \"verschillend\", \"gebruik\", \"spelen\", \"organiseren\", \"routekaart\", \"medisch\", \"ernstig\", \"juni\"], \"Freq\": [205.0, 140.0, 112.0, 110.0, 131.0, 147.0, 105.0, 137.0, 150.0, 83.0, 136.0, 77.0, 143.0, 91.0, 116.0, 100.0, 71.0, 122.0, 88.0, 93.0, 69.0, 86.0, 83.0, 124.0, 55.0, 75.0, 47.0, 45.0, 97.0, 47.0, 11.144408178641985, 17.223176276083066, 17.223176276083066, 11.144408178641985, 34.44635255216613, 147.91669037106635, 11.144408178641985, 11.144408178641985, 11.144408178641985, 22.28881635728397, 11.144408178641985, 11.144408178641985, 17.223176276083066, 17.223176276083066, 22.28881635728397, 137.78541020866453, 17.223176276083066, 11.144408178641985, 11.144408178641985, 11.144408178641985, 34.44635255216613, 11.144408178641985, 17.223176276083066, 11.144408178641985, 34.44635255216613, 11.144408178641985, 17.223176276083066, 11.144408178641985, 11.144408178641985, 11.144408178641985, 205.66498729675666, 116.50972186762075, 93.20777749409662, 86.11588138041536, 83.07649733169481, 149.94294640354673, 66.86644907185192, 62.813937006891194, 61.800808990651014, 61.800808990651014, 59.77455295817065, 54.70891287696975, 53.69578486072957, 53.69578486072957, 121.57536194882167, 45.59076073080813, 45.59076073080813, 41.538248665847405, 41.538248665847405, 39.511992633367036, 36.4726085846465, 141.83792227362528, 33.43322453592596, 33.43322453592596, 33.43322453592596, 65.85332105561174, 60.78768097441083, 94.22090551033679, 75.98460121801355, 56.73516890945012, 62.813937006891194, 47.61701676328849, 114.4834658351404, 135.7591541761842, 129.6803860787431, 114.4834658351404, 82.06336931545462, 115.49659385138058, 119.5491059163413, 85.10275336417517, 80.03711328297426, 78.0108572504939, 104.3521856727386, 85.10275336417517, 80.03711328297426, 68.89270510433226, 78.0108572504939, 69.90583312057245, 81.05024129921445, 72.945217169293, 37.61100053809258, 14.231189392791787, 7.115594696395894, 7.115594696395894, 7.115594696395894, 28.462378785583574, 7.115594696395894, 7.115594696395894, 45.74310876254503, 7.115594696395894, 7.115594696395894, 7.115594696395894, 14.231189392791787, 7.115594696395894, 7.115594696395894, 7.115594696395894, 7.115594696395894, 7.115594696395894, 7.115594696395894, 7.115594696395894, 7.115594696395894, 7.115594696395894, 14.231189392791787, 7.115594696395894, 7.115594696395894, 7.115594696395894, 7.115594696395894, 7.115594696395894, 7.115594696395894, 7.115594696395894, 112.83300161427775, 83.35410930063762, 77.25502813229828, 71.15594696395894, 47.77613581865815, 109.78346103010809, 40.66054112226225, 39.644027594205696, 35.57797348197947, 34.56145995392291, 30.495405841696687, 29.47889231364013, 26.42935172947046, 26.42935172947046, 24.39632467335735, 24.39632467335735, 23.379811145300796, 23.379811145300796, 20.330270561131126, 20.330270561131126, 20.330270561131126, 19.31375703307457, 19.31375703307457, 19.31375703307457, 18.297243505018013, 18.297243505018013, 18.297243505018013, 54.89173051505404, 135.19629923152198, 101.65135280565563, 46.75962229060159, 124.01465042289988, 87.42016341286383, 41.67705465031881, 66.07337932367615, 83.35410930063762, 92.50273105314662, 35.57797348197947, 43.710081706431914, 117.91556925456052, 67.08989285173271, 39.644027594205696, 44.72659523448848, 51.842189930884366, 43.710081706431914, 97.5852986934294, 63.02383873950649, 50.82567640282782, 76.23851460424173, 54.89173051505404, 98.60181222148596, 68.10640637978928, 54.89173051505404, 58.95778462728026, 58.95778462728026, 53.87521698699748, 60.990811683393375, 58.95778462728026, 56.92475757116715, 56.92475757116715, 55.90824404311059], \"Total\": [205.0, 140.0, 112.0, 110.0, 131.0, 147.0, 105.0, 137.0, 150.0, 83.0, 136.0, 77.0, 143.0, 91.0, 116.0, 100.0, 71.0, 122.0, 88.0, 93.0, 69.0, 86.0, 83.0, 124.0, 55.0, 75.0, 47.0, 45.0, 97.0, 47.0, 11.144408178641985, 17.223176276083066, 17.223176276083066, 11.144408178641985, 34.44635255216613, 147.91669037106635, 11.144408178641985, 11.144408178641985, 11.144408178641985, 22.28881635728397, 11.144408178641985, 11.144408178641985, 17.223176276083066, 17.223176276083066, 22.28881635728397, 137.78541020866453, 17.223176276083066, 11.144408178641985, 11.144408178641985, 11.144408178641985, 34.44635255216613, 11.144408178641985, 17.223176276083066, 11.144408178641985, 34.44635255216613, 11.144408178641985, 17.223176276083066, 11.144408178641985, 11.144408178641985, 11.144408178641985, 205.66498729675666, 116.50972186762075, 93.20777749409662, 86.11588138041536, 83.07649733169481, 150.95945993160328, 66.86644907185192, 62.813937006891194, 61.800808990651014, 61.800808990651014, 59.77455295817065, 54.70891287696975, 53.69578486072957, 53.69578486072957, 122.59187547687822, 45.59076073080813, 45.59076073080813, 41.538248665847405, 41.538248665847405, 39.511992633367036, 36.4726085846465, 143.87094932973838, 33.43322453592596, 33.43322453592596, 33.43322453592596, 66.8698345836683, 61.80419450246739, 97.27044609450645, 78.01762827412666, 57.75168243750667, 64.84696406300431, 48.633530291345046, 126.68162817181907, 153.03988415314566, 147.97762958376111, 133.79722286821496, 92.22850459602019, 139.89291852473792, 146.99497117386832, 97.30091570085385, 90.20224856353983, 91.22553311522913, 151.1118079633402, 111.53210509364564, 107.48297854050128, 80.07435391295438, 108.50626309219058, 83.12050898530768, 127.80986358981605, 102.42410948293313, 37.61100053809258, 14.231189392791787, 7.115594696395894, 7.115594696395894, 7.115594696395894, 28.462378785583574, 7.115594696395894, 7.115594696395894, 45.74310876254503, 7.115594696395894, 7.115594696395894, 7.115594696395894, 14.231189392791787, 7.115594696395894, 7.115594696395894, 7.115594696395894, 7.115594696395894, 7.115594696395894, 7.115594696395894, 7.115594696395894, 7.115594696395894, 7.115594696395894, 14.231189392791787, 7.115594696395894, 7.115594696395894, 7.115594696395894, 7.115594696395894, 7.115594696395894, 7.115594696395894, 7.115594696395894, 112.83300161427775, 83.35410930063762, 77.25502813229828, 71.15594696395894, 47.77613581865815, 110.79658904634826, 40.66054112226225, 39.644027594205696, 35.57797348197947, 34.56145995392291, 30.495405841696687, 29.47889231364013, 26.42935172947046, 26.42935172947046, 24.39632467335735, 24.39632467335735, 23.379811145300796, 23.379811145300796, 20.330270561131126, 20.330270561131126, 20.330270561131126, 19.31375703307457, 19.31375703307457, 19.31375703307457, 18.297243505018013, 18.297243505018013, 18.297243505018013, 55.904858531294224, 140.2619393127229, 105.70386487061636, 47.77275030684177, 131.10654653658113, 91.47267547782455, 42.69018266655899, 69.11276337239669, 88.41974938183851, 100.60775518306806, 36.59110149821965, 45.736337738912276, 136.15187354688376, 75.19491698165416, 41.67028362668606, 47.76597928320902, 56.90783001208527, 46.74946575515246, 124.93975513191427, 75.18137493438866, 57.91757251650908, 102.57984302648643, 65.02301067745584, 159.3894931958968, 97.48711885075451, 68.0623947261764, 79.22034495208388, 84.28598503328477, 70.08526524684036, 98.47654828428006, 94.41726519568658, 85.29234202589221, 102.51551830197528, 119.73530906624197], \"Category\": [\"Default\", \"Default\", \"Default\", \"Default\", \"Default\", \"Default\", \"Default\", \"Default\", \"Default\", \"Default\", \"Default\", \"Default\", \"Default\", \"Default\", \"Default\", \"Default\", \"Default\", \"Default\", \"Default\", \"Default\", \"Default\", \"Default\", \"Default\", \"Default\", \"Default\", \"Default\", \"Default\", \"Default\", \"Default\", \"Default\", \"Topic1\", \"Topic1\", \"Topic1\", \"Topic1\", \"Topic1\", \"Topic1\", \"Topic1\", \"Topic1\", \"Topic1\", \"Topic1\", \"Topic1\", \"Topic1\", \"Topic1\", \"Topic1\", \"Topic1\", \"Topic1\", \"Topic1\", \"Topic1\", \"Topic1\", \"Topic1\", \"Topic1\", \"Topic1\", \"Topic1\", \"Topic1\", \"Topic1\", \"Topic1\", \"Topic1\", \"Topic1\", \"Topic1\", \"Topic1\", \"Topic1\", \"Topic1\", \"Topic1\", \"Topic1\", \"Topic1\", \"Topic1\", \"Topic1\", \"Topic1\", \"Topic1\", \"Topic1\", \"Topic1\", \"Topic1\", \"Topic1\", \"Topic1\", \"Topic1\", \"Topic1\", \"Topic1\", \"Topic1\", \"Topic1\", \"Topic1\", \"Topic1\", \"Topic1\", \"Topic1\", \"Topic1\", \"Topic1\", \"Topic1\", \"Topic1\", \"Topic1\", \"Topic1\", \"Topic1\", \"Topic1\", \"Topic1\", \"Topic1\", \"Topic1\", \"Topic1\", \"Topic1\", \"Topic1\", \"Topic1\", \"Topic1\", \"Topic1\", \"Topic1\", \"Topic1\", \"Topic1\", \"Topic1\", \"Topic1\", \"Topic1\", \"Topic1\", \"Topic1\", \"Topic1\", \"Topic1\", \"Topic2\", \"Topic2\", \"Topic2\", \"Topic2\", \"Topic2\", \"Topic2\", \"Topic2\", \"Topic2\", \"Topic2\", \"Topic2\", \"Topic2\", \"Topic2\", \"Topic2\", \"Topic2\", \"Topic2\", \"Topic2\", \"Topic2\", \"Topic2\", \"Topic2\", \"Topic2\", \"Topic2\", \"Topic2\", \"Topic2\", \"Topic2\", \"Topic2\", \"Topic2\", \"Topic2\", \"Topic2\", \"Topic2\", \"Topic2\", \"Topic2\", \"Topic2\", \"Topic2\", \"Topic2\", \"Topic2\", \"Topic2\", \"Topic2\", \"Topic2\", \"Topic2\", \"Topic2\", \"Topic2\", \"Topic2\", \"Topic2\", \"Topic2\", \"Topic2\", \"Topic2\", \"Topic2\", \"Topic2\", \"Topic2\", \"Topic2\", \"Topic2\", \"Topic2\", \"Topic2\", \"Topic2\", \"Topic2\", \"Topic2\", \"Topic2\", \"Topic2\", \"Topic2\", \"Topic2\", \"Topic2\", \"Topic2\", \"Topic2\", \"Topic2\", \"Topic2\", \"Topic2\", \"Topic2\", \"Topic2\", \"Topic2\", \"Topic2\", \"Topic2\", \"Topic2\", \"Topic2\", \"Topic2\", \"Topic2\", \"Topic2\", \"Topic2\", \"Topic2\", \"Topic2\", \"Topic2\", \"Topic2\", \"Topic2\", \"Topic2\", \"Topic2\", \"Topic2\", \"Topic2\", \"Topic2\", \"Topic2\", \"Topic2\", \"Topic2\", \"Topic2\"], \"logprob\": [30.0, 29.0, 28.0, 27.0, 26.0, 25.0, 24.0, 23.0, 22.0, 21.0, 20.0, 19.0, 18.0, 17.0, 16.0, 15.0, 14.0, 13.0, 12.0, 11.0, 10.0, 9.0, 8.0, 7.0, 6.0, 5.0, 4.0, 3.0, 2.0, 1.0, -7.9482, -7.5129, -7.5129, -7.9482, -6.8198, -5.3625, -7.9482, -7.9482, -7.9482, -7.2551, -7.9482, -7.9482, -7.5129, -7.5129, -7.2551, -5.4335, -7.5129, -7.9482, -7.9482, -7.9482, -6.8198, -7.9482, -7.5129, -7.9482, -6.8198, -7.9482, -7.5129, -7.9482, -7.9482, -7.9482, -5.0329, -5.6012, -5.8243, -5.9035, -5.9394, -5.3489, -6.1565, -6.219, -6.2352, -6.2352, -6.2686, -6.3571, -6.3758, -6.3758, -5.5586, -6.5395, -6.5395, -6.6325, -6.6325, -6.6826, -6.7626, -5.4045, -6.8496, -6.8496, -6.8496, -6.1717, -6.2518, -5.8135, -6.0286, -6.3208, -6.219, -6.496, -5.6187, -5.4483, -5.4941, -5.6187, -5.9517, -5.6099, -5.5754, -5.9153, -5.9767, -6.0023, -5.7114, -5.9153, -5.9767, -6.1266, -6.0023, -6.112, -5.9641, -6.0695, -6.4176, -7.3894, -8.0826, -8.0826, -8.0826, -6.6963, -8.0826, -8.0826, -6.2218, -8.0826, -8.0826, -8.0826, -7.3894, -8.0826, -8.0826, -8.0826, -8.0826, -8.0826, -8.0826, -8.0826, -8.0826, -8.0826, -7.3894, -8.0826, -8.0826, -8.0826, -8.0826, -8.0826, -8.0826, -8.0826, -5.319, -5.6218, -5.6978, -5.78, -6.1783, -5.3464, -6.3396, -6.3649, -6.4731, -6.5021, -6.6273, -6.6612, -6.7704, -6.7704, -6.8504, -6.8504, -6.893, -6.893, -7.0328, -7.0328, -7.0328, -7.084, -7.084, -7.084, -7.1381, -7.1381, -7.1381, -6.0395, -5.1381, -5.4233, -6.1998, -5.2245, -5.5741, -6.3149, -5.8541, -5.6218, -5.5176, -6.4731, -6.2673, -5.2749, -5.8388, -6.3649, -6.2443, -6.0967, -6.2673, -5.4641, -5.9014, -6.1165, -5.711, -6.0395, -5.4538, -5.8238, -6.0395, -5.968, -5.968, -6.0582, -5.9341, -5.968, -6.0031, -6.0031, -6.0212], \"loglift\": [30.0, 29.0, 28.0, 27.0, 26.0, 25.0, 24.0, 23.0, 22.0, 21.0, 20.0, 19.0, 18.0, 17.0, 16.0, 15.0, 14.0, 13.0, 12.0, 11.0, 10.0, 9.0, 8.0, 7.0, 6.0, 5.0, 4.0, 3.0, 2.0, 1.0, 0.5483, 0.5483, 0.5483, 0.5483, 0.5483, 0.5483, 0.5483, 0.5483, 0.5483, 0.5483, 0.5483, 0.5483, 0.5483, 0.5483, 0.5483, 0.5483, 0.5483, 0.5483, 0.5483, 0.5483, 0.5483, 0.5483, 0.5483, 0.5483, 0.5483, 0.5483, 0.5483, 0.5483, 0.5483, 0.5483, 0.5483, 0.5483, 0.5483, 0.5483, 0.5483, 0.5415, 0.5483, 0.5483, 0.5483, 0.5483, 0.5483, 0.5483, 0.5483, 0.5483, 0.54, 0.5483, 0.5483, 0.5483, 0.5483, 0.5483, 0.5483, 0.5341, 0.5483, 0.5483, 0.5483, 0.533, 0.5317, 0.5164, 0.5219, 0.5305, 0.5164, 0.5272, 0.4471, 0.4285, 0.4163, 0.3924, 0.4315, 0.3567, 0.3416, 0.4143, 0.4287, 0.3918, 0.178, 0.2778, 0.2535, 0.3979, 0.2183, 0.3752, 0.0928, 0.2089, 0.8626, 0.8626, 0.8626, 0.8626, 0.8626, 0.8626, 0.8626, 0.8626, 0.8626, 0.8626, 0.8626, 0.8626, 0.8626, 0.8626, 0.8626, 0.8626, 0.8626, 0.8626, 0.8626, 0.8626, 0.8626, 0.8626, 0.8626, 0.8626, 0.8626, 0.8626, 0.8626, 0.8626, 0.8626, 0.8626, 0.8626, 0.8626, 0.8626, 0.8626, 0.8626, 0.8534, 0.8626, 0.8626, 0.8626, 0.8626, 0.8626, 0.8626, 0.8626, 0.8626, 0.8626, 0.8626, 0.8626, 0.8626, 0.8626, 0.8626, 0.8626, 0.8626, 0.8626, 0.8626, 0.8626, 0.8626, 0.8626, 0.8443, 0.8258, 0.8235, 0.8412, 0.807, 0.8173, 0.8386, 0.8176, 0.8036, 0.7786, 0.8345, 0.8173, 0.7188, 0.7485, 0.8127, 0.7968, 0.7694, 0.7954, 0.6155, 0.6862, 0.732, 0.5658, 0.6932, 0.3823, 0.5039, 0.6475, 0.5672, 0.5052, 0.5995, 0.3835, 0.3917, 0.4582, 0.2743, 0.101]}, \"token.table\": {\"Topic\": [1, 1, 1, 1, 2, 2, 1, 1, 2, 1, 2, 2, 1, 1, 2, 2, 2, 1, 2, 1, 2, 1, 1, 2, 1, 2, 1, 2, 1, 2, 2, 1, 1, 2, 1, 2, 2, 1, 2, 1, 1, 2, 1, 2, 2, 2, 1, 2, 1, 1, 2, 2, 1, 1, 2, 1, 1, 2, 1, 1, 2, 2, 1, 2, 1, 2, 2, 2, 2, 2, 1, 2, 2, 1, 2, 1, 2, 1, 1, 1, 2, 1, 2, 2, 2, 1, 2, 1, 2, 2, 1, 2, 1, 2, 2, 2, 1, 2, 2, 2, 2, 2, 2, 1, 2, 1, 2, 2, 1, 1, 2, 1, 2, 1, 1, 1, 2, 1, 2, 1, 2, 1, 1, 2, 1, 2, 1, 2, 1, 1, 2, 1, 2, 1, 1, 2, 2, 1, 1, 2, 2, 2, 1, 2, 1, 2, 2, 1, 1, 2, 1, 2, 1, 2, 1, 1, 2, 2, 1, 2, 1, 1, 2, 1, 2, 1, 2, 1, 2, 2, 1, 2, 1, 1, 2, 1, 2, 1, 1, 2, 1, 2, 2, 1, 2, 1, 2, 1, 1, 2, 1, 1, 2, 2, 2, 1, 2, 2, 1, 1, 2, 1, 1, 2, 1, 2, 1, 2, 1, 2, 1, 2, 1, 2, 2, 1, 1, 2, 1, 1, 1, 2, 1, 2, 2, 1, 1, 2, 1, 2, 1, 2, 1, 2], \"Freq\": [0.9870420953426006, 0.9870420953426006, 0.9870420953426007, 0.05654845252283653, 0.9387043118790864, 0.9837547385246037, 0.9870420953426006, 0.023424589391212464, 0.9838327544309236, 0.9870420953426007, 0.9837547385246038, 0.9837547385246038, 0.9977708137702374, 0.7443038989643811, 0.2512025659004786, 0.9837547385246038, 0.9966988798209802, 0.9741388155631003, 0.025635231988502642, 0.9869956420079613, 0.013901347070534666, 1.0089763641279916, 0.8616991162364811, 0.1373723228782796, 0.8550237782822969, 0.1425039630470495, 0.0795167329341861, 0.9243820203599133, 0.04372890569894512, 0.9511036989520565, 0.9837547385246038, 0.9986543552878074, 0.9715181105285079, 0.030841844778682792, 0.9870420953426007, 0.9837547385246038, 1.0089792189995936, 0.8220573365167445, 0.17155979196871188, 1.0053206526637597, 0.06417185633120005, 0.941187226190934, 0.05339168931619194, 0.9457956393154, 0.9837547385246038, 0.9837547385246038, 0.7127228185680633, 0.28313646217087446, 1.0089763641279916, 0.8890960593926667, 0.10842634870642277, 0.9837547385246038, 0.9870420953426006, 0.12086141901069297, 0.880561767077906, 0.9870420953426007, 1.002962129138449, 0.9837547385246038, 0.9870420953426006, 0.9870420953426007, 1.0046856904081058, 1.010342704430674, 0.4487125535911539, 0.5560133816238212, 0.9663778030653942, 0.030841844778682792, 0.9837547385246038, 0.9837547385246037, 0.9837547385246038, 0.9837547385246038, 0.1537917099779433, 0.8458544048786882, 0.9837547385246037, 0.29747519817871354, 0.697528050901811, 0.8735786234666864, 0.12332874684235573, 0.9870420953426006, 0.9870420953426007, 0.29660921670580737, 0.6999977514257054, 0.6337539038454472, 0.3677337466757533, 0.9837547385246037, 1.0014800491286506, 1.0111162927899808, 0.9837547385246038, 0.8998937071236651, 0.09472565338143844, 0.9837547385246038, 0.9936442543445904, 0.006624295028963936, 0.10639016998917383, 0.8910176736593308, 0.9837547385246038, 1.0056159549362618, 0.08786137160630042, 0.9137582647055245, 0.9837547385246038, 0.9837547385246038, 0.9837547385246038, 0.9837547385246038, 0.9837547385246038, 0.06280620736806662, 0.9420931105209993, 0.9869842330858487, 0.01731551286115524, 1.0083486069877188, 1.0005632199363348, 0.5345123380822682, 0.4676982958219847, 0.9870420953426005, 0.9837547385246038, 1.0019972786053672, 0.9870420953426007, 0.852035621937277, 0.14200593698954617, 0.9870420953426007, 0.9957517475310014, 0.017887532967107385, 0.9838143131909062, 0.9990791940662906, 0.15961400028228387, 0.8379735014819902, 0.037841568091158066, 0.9649599863245307, 0.8886572330641991, 0.11108215413302489, 1.0032231132990366, 0.7621123974001163, 0.2331167333223885, 0.13220530523071883, 0.8666792231791567, 1.0042080448268198, 0.3282826961358387, 0.6682897742765288, 0.9837547385246038, 0.9870420953426006, 0.842150762242964, 0.15639942727369333, 0.9978083776463839, 0.9837547385246038, 1.0111162927899808, 0.9837547385246037, 0.9870420953426006, 0.9837547385246038, 0.9837547385246038, 0.9870420953426005, 0.19100121369958611, 0.8080820579597874, 0.9870420953426005, 1.0118620167681638, 0.37572397331788243, 0.6194368208754277, 1.0015574202741095, 0.9869921229941141, 0.014954426105971426, 0.9837547385246038, 0.7188525139210497, 0.2764817361234806, 1.0032231132990366, 0.03564758924979772, 0.9624849097445384, 0.9870420953426006, 0.9837547385246038, 0.38271029524529754, 0.6211199873653189, 0.027329048841250522, 0.9838457582850189, 1.0126887014223862, 0.043407322375973556, 0.9549610922714181, 0.9870420953426006, 0.3706949139806155, 0.6248857121387519, 0.8785111666247831, 0.12164000768650844, 0.9870420953426006, 0.04799583362372845, 0.9599166724745691, 0.986973384667948, 0.020561945513915585, 0.9837547385246038, 0.228293350159238, 0.7704900567874282, 1.0056655311037817, 0.9837547385246037, 0.9870420953426007, 0.9870420953426007, 0.9837547385246037, 1.0123508670180519, 0.04372890569894512, 0.9620359253767927, 0.9837547385246038, 0.9837547385246038, 0.00902554860765327, 0.9928103468418596, 0.9837547385246037, 0.9870420953426006, 0.020932435197409706, 0.9838244542782562, 0.9870420953426006, 0.9869880271243519, 0.01618013159220249, 1.0016289243378114, 0.9837547385246037, 0.216104153329681, 0.7843780380114348, 0.6882321203200114, 0.3110279774523128, 0.2534611014494019, 0.7408862965444056, 0.9870420953426006, 0.9837547385246037, 0.9837547385246038, 0.9870420953426006, 0.25246040031884387, 0.7447581809405895, 0.9870420953426005, 1.0037716223823057, 0.9870420953426006, 0.9837547385246038, 0.9870420953426006, 0.9837547385246038, 0.9837547385246038, 0.9870420953426006, 0.995171984484487, 0.00815714741380727, 1.0056655311037817, 0.9837547385246037, 0.8868958509792224, 0.1108619813724028, 0.8163544578546283, 0.1836797530172914], \"Term\": [\"20.00\", \"2021\", \"28\", \"60\", \"60\", \"aanhouden\", \"aanscherpen\", \"aanzien\", \"aanzien\", \"advisering\", \"afgeven\", \"afronden\", \"afstand\", \"april\", \"april\", \"astra\", \"astrazeneca\", \"avond\", \"avond\", \"avondklok\", \"avondklok\", \"basisregel\", \"bedrijf\", \"bedrijf\", \"beperking\", \"beperking\", \"bescherming\", \"bescherming\", \"besmettingsgraad\", \"besmettingsgraad\", \"bijten\", \"burgemeester\", \"caf\\u00e9\", \"caf\\u00e9\", \"catshuis\", \"centraal\", \"context\", \"corona\", \"corona\", \"coronatoegangsbewij\", \"coronatoegangsbewijz\", \"coronatoegangsbewijz\", \"daadwerkelijk\", \"daadwerkelijk\", \"daartoe\", \"dashboard\", \"december\", \"december\", \"dinsdag\", \"discussie\", \"discussie\", \"doelen\", \"doorheen\", \"doormaken\", \"doormaken\", \"dreigen\", \"dringend\", \"dusdanig\", \"duwen\", \"ellende\", \"ema\", \"epidemiologisch\", \"ernstig\", \"ernstig\", \"ervoor\", \"ervoor\", \"etc.\", \"europese\", \"eventje\", \"evident\", \"exact\", \"exact\", \"expert\", \"fase\", \"fase\", \"feit\", \"feit\", \"fractie\", \"gast\", \"gebruik\", \"gebruik\", \"gedrag\", \"gedrag\", \"geweldig\", \"gezondheidsraad\", \"gisteren\", \"hartstikke\", \"helaas\", \"helaas\", \"homogeen\", \"hugo\", \"hugo\", \"huisarts\", \"huisarts\", \"ic-bedd\", \"indicator\", \"infectie\", \"infectie\", \"inschaling\", \"instantie\", \"introduceren\", \"invulling\", \"inzet\", \"inzetten\", \"inzetten\", \"inzicht\", \"inzicht\", \"janssen\", \"jonge\", \"juni\", \"juni\", \"kantoor\", \"kanttekening\", \"kerst\", \"kerstvakantie\", \"kind\", \"kind\", \"koolmees\", \"kortom\", \"kwartaal\", \"kwartaal\", \"lastig\", \"leveren\", \"leveren\", \"levering\", \"levering\", \"lockdown\", \"lockdown\", \"maandag\", \"maart\", \"maart\", \"maat\", \"maat\", \"maximaal\", \"medisch\", \"medisch\", \"mijlpaal\", \"mondkapjesplicht\", \"morgen\", \"morgen\", \"naam\", \"naar\", \"nos\", \"nul\", \"omstandigheid\", \"omvang\", \"onttrekken\", \"ontzettend\", \"opbouwen\", \"opbouwen\", \"oproep\", \"opschalen\", \"organiseren\", \"organiseren\", \"pakket\", \"persconferentie\", \"persconferentie\", \"pfizer\", \"plek\", \"plek\", \"praten\", \"prikken\", \"prikken\", \"prioriteit\", \"productie\", \"regio\", \"regio\", \"registratie\", \"registratie\", \"richtlijn\", \"risiconiveau\", \"risiconiveau\", \"rondgaan\", \"routekaart\", \"routekaart\", \"school\", \"school\", \"schudden\", \"setting\", \"setting\", \"slot\", \"slot\", \"som\", \"spelen\", \"spelen\", \"sport\", \"spul\", \"steunpakkett\", \"strikt\", \"systeem\", \"team\", \"telkens\", \"telkens\", \"testuitslagen\", \"tiental\", \"toegangstest\", \"toegangstest\", \"toelating\", \"trein\", \"type\", \"type\", \"uiterst\", \"uitzondering\", \"uitzondering\", \"uur\", \"vaccinatiebereidheid\", \"vaccinatiegraad\", \"vaccinatiegraad\", \"variant\", \"variant\", \"verantwoorden\", \"verantwoorden\", \"vergaderen\", \"verhogen\", \"verhouden\", \"verplaatsing\", \"verschillend\", \"verschillend\", \"verschrikkelijk\", \"vertellen\", \"vieren\", \"vink\", \"voornemen\", \"voorspelbaar\", \"wendbaar\", \"wiebes\", \"winkel\", \"winkel\", \"zaterdag\", \"zul\", \"zwaar\", \"zwaar\", \"\\u00a0\", \"\\u00a0\"]}, \"R\": 30, \"lambda.step\": 0.01, \"plot.opts\": {\"xlab\": \"PC1\", \"ylab\": \"PC2\"}, \"topic.order\": [2, 1]};\n",
       "\n",
       "function LDAvis_load_lib(url, callback){\n",
       "  var s = document.createElement('script');\n",
       "  s.src = url;\n",
       "  s.async = true;\n",
       "  s.onreadystatechange = s.onload = callback;\n",
       "  s.onerror = function(){console.warn(\"failed to load library \" + url);};\n",
       "  document.getElementsByTagName(\"head\")[0].appendChild(s);\n",
       "}\n",
       "\n",
       "if(typeof(LDAvis) !== \"undefined\"){\n",
       "   // already loaded: just create the visualization\n",
       "   !function(LDAvis){\n",
       "       new LDAvis(\"#\" + \"ldavis_el951630796219223689248567258\", ldavis_el951630796219223689248567258_data);\n",
       "   }(LDAvis);\n",
       "}else if(typeof define === \"function\" && define.amd){\n",
       "   // require.js is available: use it to load d3/LDAvis\n",
       "   require.config({paths: {d3: \"https://d3js.org/d3.v5\"}});\n",
       "   require([\"d3\"], function(d3){\n",
       "      window.d3 = d3;\n",
       "      LDAvis_load_lib(\"https://cdn.jsdelivr.net/gh/bmabey/pyLDAvis@3.3.1/pyLDAvis/js/ldavis.v3.0.0.js\", function(){\n",
       "        new LDAvis(\"#\" + \"ldavis_el951630796219223689248567258\", ldavis_el951630796219223689248567258_data);\n",
       "      });\n",
       "    });\n",
       "}else{\n",
       "    // require.js not available: dynamically load d3 & LDAvis\n",
       "    LDAvis_load_lib(\"https://d3js.org/d3.v5.js\", function(){\n",
       "         LDAvis_load_lib(\"https://cdn.jsdelivr.net/gh/bmabey/pyLDAvis@3.3.1/pyLDAvis/js/ldavis.v3.0.0.js\", function(){\n",
       "                 new LDAvis(\"#\" + \"ldavis_el951630796219223689248567258\", ldavis_el951630796219223689248567258_data);\n",
       "            })\n",
       "         });\n",
       "}\n",
       "</script>"
      ],
      "text/plain": [
       "PreparedData(topic_coordinates=              x    y  topics  cluster       Freq\n",
       "topic                                           \n",
       "1      0.155022  0.0       1        1  57.793327\n",
       "0     -0.155022  0.0       2        1  42.206673, topic_info=                 Term        Freq       Total Category  logprob  loglift\n",
       "980               uur  205.000000  205.000000  Default  30.0000  30.0000\n",
       "351           prikken  140.000000  140.000000  Default  29.0000  29.0000\n",
       "2248  gezondheidsraad  112.000000  112.000000  Default  28.0000  28.0000\n",
       "3618     toegangstest  110.000000  110.000000  Default  27.0000  27.0000\n",
       "1546    daadwerkelijk  131.000000  131.000000  Default  26.0000  26.0000\n",
       "...               ...         ...         ...      ...      ...      ...\n",
       "329       organiseren   60.990812   98.476548   Topic2  -5.9341   0.3835\n",
       "372        routekaart   58.957785   94.417265   Topic2  -5.9680   0.3917\n",
       "784           medisch   56.924758   85.292342   Topic2  -6.0031   0.4582\n",
       "149           ernstig   56.924758  102.515518   Topic2  -6.0031   0.2743\n",
       "743              juni   55.908244  119.735309   Topic2  -6.0212   0.1010\n",
       "\n",
       "[201 rows x 6 columns], token_table=      Topic      Freq   Term\n",
       "term                        \n",
       "526       1  0.987042  20.00\n",
       "10        1  0.987042   2021\n",
       "1988      1  0.987042     28\n",
       "1483      1  0.056548     60\n",
       "1483      2  0.938704     60\n",
       "...     ...       ...    ...\n",
       "513       2  0.983755    zul\n",
       "1061      1  0.886896  zwaar\n",
       "1061      2  0.110862  zwaar\n",
       "1982      1  0.816354       \n",
       "1982      2  0.183680       \n",
       "\n",
       "[234 rows x 3 columns], R=30, lambda_step=0.01, plot_opts={'xlab': 'PC1', 'ylab': 'PC2'}, topic_order=[2, 1])"
      ]
     },
     "execution_count": 14,
     "metadata": {},
     "output_type": "execute_result"
    }
   ],
   "source": [
    "import gensim\n",
    "\n",
    "import pyLDAvis\n",
    "import pyLDAvis.gensim_models as gensimvis\n",
    "\n",
    "pyLDAvis.enable_notebook()\n",
    "\n",
    "lda_conv = gensim.models.wrappers.ldamallet.malletmodel2ldamodel(lda)\n",
    "\n",
    "gensimvis.prepare(lda_conv, corpus, dictionary)"
   ]
  },
  {
   "cell_type": "markdown",
   "id": "62313f13",
   "metadata": {},
   "source": [
    "-\n",
    "-\n",
    "-\n",
    "-\n",
    "-\n",
    "-\n",
    "-\n",
    "-\n",
    "-\n"
   ]
  },
  {
   "cell_type": "code",
   "execution_count": null,
   "id": "6250a034",
   "metadata": {},
   "outputs": [],
   "source": [
    "# TEST\n",
    "\n",
    "texts = ['Image this a not a list of two texts', 'But like millions!']\n",
    "dutch_texts = ['Dus dat weet u eigenlijk nog niet.','En u weet eigenlijk ook niet hoeveel beschermingsmiddelen u dan nodig heeft?']\n",
    "processed_texts2 = [text for text in nlp2.pipe(texts, \n",
    "                                              n_process=1, disable=[\"ner\",\n",
    "                                                       \"parser\"])]\n",
    "\n",
    "processed_texts2\n",
    "for text in processed_texts2:\n",
    "    for token in text:\n",
    "        print(token.text, token.pos_, token.dep_)"
   ]
  }
 ],
 "metadata": {
  "kernelspec": {
   "display_name": "Python 3 (ipykernel)",
   "language": "python",
   "name": "python3"
  },
  "language_info": {
   "codemirror_mode": {
    "name": "ipython",
    "version": 3
   },
   "file_extension": ".py",
   "mimetype": "text/x-python",
   "name": "python",
   "nbconvert_exporter": "python",
   "pygments_lexer": "ipython3",
   "version": "3.8.0"
  }
 },
 "nbformat": 4,
 "nbformat_minor": 5
}
